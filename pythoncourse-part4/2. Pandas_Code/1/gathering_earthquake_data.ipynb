{
 "cells": [
  {
   "cell_type": "markdown",
   "metadata": {},
   "source": [
    "# Making Pandas DataFrames from API Requests\n",
    "In this example, we will use the U.S. Geological Survey's API to grab a JSON of earthquake data and convert it to a pandas DataFrame.\n",
    "\n",
    "USGS API: https://earthquake.usgs.gov/fdsnws/event/1/"
   ]
  },
  {
   "cell_type": "markdown",
   "metadata": {},
   "source": [
    "### Get Data from API"
   ]
  },
  {
   "cell_type": "code",
   "execution_count": 1,
   "metadata": {},
   "outputs": [
    {
     "name": "stdout",
     "output_type": "stream",
     "text": [
      "200\n"
     ]
    }
   ],
   "source": [
    "import requests\n",
    "import datetime\n",
    "import pandas as pd\n",
    "\n",
    "yesterday = datetime.date.today() - datetime.timedelta(1)\n",
    "api = 'https://earthquake.usgs.gov/fdsnws/event/1/query'\n",
    "payload = {\n",
    "    'format' : 'geojson',\n",
    "    'starttime' : yesterday - datetime.timedelta(26),\n",
    "    'endtime' : yesterday\n",
    "}\n",
    "response = requests.get(api, params=payload)\n",
    "\n",
    "# let's make sure the request was OK\n",
    "print(response.status_code)"
   ]
  },
  {
   "cell_type": "markdown",
   "metadata": {},
   "source": [
    "Response of 200 means OK, so we can pull the data out of the result. Since we asked the API for a JSON, we can extract it from the response with the JSON method."
   ]
  },
  {
   "cell_type": "markdown",
   "metadata": {},
   "source": [
    "### Isolate the Data from the JSON Response\n",
    "We need to check the structures of the response data to know where our data is."
   ]
  },
  {
   "cell_type": "code",
   "execution_count": 2,
   "metadata": {},
   "outputs": [
    {
     "data": {
      "text/plain": [
       "dict_keys(['type', 'metadata', 'features', 'bbox'])"
      ]
     },
     "execution_count": 2,
     "metadata": {},
     "output_type": "execute_result"
    }
   ],
   "source": [
    "earthquake_json = response.json()\n",
    "earthquake_json.keys()"
   ]
  },
  {
   "cell_type": "code",
   "execution_count": 3,
   "metadata": {},
   "outputs": [
    {
     "data": {
      "text/plain": [
       "{'generated': 1583749181000,\n",
       " 'url': 'https://earthquake.usgs.gov/fdsnws/event/1/query?format=geojson&starttime=2020-02-11&endtime=2020-03-08',\n",
       " 'title': 'USGS Earthquakes',\n",
       " 'status': 200,\n",
       " 'api': '1.8.1',\n",
       " 'count': 10009}"
      ]
     },
     "execution_count": 3,
     "metadata": {},
     "output_type": "execute_result"
    }
   ],
   "source": [
    "earthquake_json['metadata']"
   ]
  },
  {
   "cell_type": "markdown",
   "metadata": {},
   "source": [
    "Each element in the JSON array `features` is a row of data for our dataframe."
   ]
  },
  {
   "cell_type": "code",
   "execution_count": 4,
   "metadata": {},
   "outputs": [
    {
     "data": {
      "text/plain": [
       "list"
      ]
     },
     "execution_count": 4,
     "metadata": {},
     "output_type": "execute_result"
    }
   ],
   "source": [
    "type(earthquake_json['features'])"
   ]
  },
  {
   "cell_type": "markdown",
   "metadata": {},
   "source": [
    "Your data will be different depending on the date you run this."
   ]
  },
  {
   "cell_type": "code",
   "execution_count": 9,
   "metadata": {},
   "outputs": [
    {
     "data": {
      "text/plain": [
       "{'type': 'Feature',\n",
       " 'properties': {'mag': 1.75,\n",
       "  'place': '11km NE of Coso Junction, CA',\n",
       "  'time': 1583625168950,\n",
       "  'updated': 1583625829990,\n",
       "  'tz': -480,\n",
       "  'url': 'https://earthquake.usgs.gov/earthquakes/eventpage/ci38386994',\n",
       "  'detail': 'https://earthquake.usgs.gov/fdsnws/event/1/query?eventid=ci38386994&format=geojson',\n",
       "  'felt': None,\n",
       "  'cdi': None,\n",
       "  'mmi': None,\n",
       "  'alert': None,\n",
       "  'status': 'automatic',\n",
       "  'tsunami': 0,\n",
       "  'sig': 47,\n",
       "  'net': 'ci',\n",
       "  'code': '38386994',\n",
       "  'ids': ',ci38386994,',\n",
       "  'sources': ',ci,',\n",
       "  'types': ',focal-mechanism,geoserve,nearby-cities,origin,phase-data,scitech-link,',\n",
       "  'nst': 20,\n",
       "  'dmin': 0.006389,\n",
       "  'rms': 0.13,\n",
       "  'gap': 100,\n",
       "  'magType': 'ml',\n",
       "  'type': 'earthquake',\n",
       "  'title': 'M 1.8 - 11km NE of Coso Junction, CA'},\n",
       " 'geometry': {'type': 'Point', 'coordinates': [-117.8573333, 36.1115, 2.12]},\n",
       " 'id': 'ci38386994'}"
      ]
     },
     "execution_count": 9,
     "metadata": {},
     "output_type": "execute_result"
    }
   ],
   "source": [
    "earthquake_json['features'][0]"
   ]
  },
  {
   "cell_type": "markdown",
   "metadata": {},
   "source": [
    "### Convert to DataFrame\n",
    "We need to grab the `properties` section out of every entry in the `features` JSON array to create our dataframe."
   ]
  },
  {
   "cell_type": "code",
   "execution_count": 10,
   "metadata": {},
   "outputs": [
    {
     "data": {
      "text/html": [
       "<div>\n",
       "<style scoped>\n",
       "    .dataframe tbody tr th:only-of-type {\n",
       "        vertical-align: middle;\n",
       "    }\n",
       "\n",
       "    .dataframe tbody tr th {\n",
       "        vertical-align: top;\n",
       "    }\n",
       "\n",
       "    .dataframe thead th {\n",
       "        text-align: right;\n",
       "    }\n",
       "</style>\n",
       "<table border=\"1\" class=\"dataframe\">\n",
       "  <thead>\n",
       "    <tr style=\"text-align: right;\">\n",
       "      <th></th>\n",
       "      <th>alert</th>\n",
       "      <th>cdi</th>\n",
       "      <th>code</th>\n",
       "      <th>detail</th>\n",
       "      <th>dmin</th>\n",
       "      <th>felt</th>\n",
       "      <th>gap</th>\n",
       "      <th>ids</th>\n",
       "      <th>mag</th>\n",
       "      <th>magType</th>\n",
       "      <th>...</th>\n",
       "      <th>sources</th>\n",
       "      <th>status</th>\n",
       "      <th>time</th>\n",
       "      <th>title</th>\n",
       "      <th>tsunami</th>\n",
       "      <th>type</th>\n",
       "      <th>types</th>\n",
       "      <th>tz</th>\n",
       "      <th>updated</th>\n",
       "      <th>url</th>\n",
       "    </tr>\n",
       "  </thead>\n",
       "  <tbody>\n",
       "    <tr>\n",
       "      <th>0</th>\n",
       "      <td>None</td>\n",
       "      <td>NaN</td>\n",
       "      <td>38386994</td>\n",
       "      <td>https://earthquake.usgs.gov/fdsnws/event/1/que...</td>\n",
       "      <td>0.006389</td>\n",
       "      <td>NaN</td>\n",
       "      <td>100.0</td>\n",
       "      <td>,ci38386994,</td>\n",
       "      <td>1.75</td>\n",
       "      <td>ml</td>\n",
       "      <td>...</td>\n",
       "      <td>,ci,</td>\n",
       "      <td>automatic</td>\n",
       "      <td>1583625168950</td>\n",
       "      <td>M 1.8 - 11km NE of Coso Junction, CA</td>\n",
       "      <td>0</td>\n",
       "      <td>earthquake</td>\n",
       "      <td>,focal-mechanism,geoserve,nearby-cities,origin...</td>\n",
       "      <td>-480</td>\n",
       "      <td>1583625829990</td>\n",
       "      <td>https://earthquake.usgs.gov/earthquakes/eventp...</td>\n",
       "    </tr>\n",
       "    <tr>\n",
       "      <th>1</th>\n",
       "      <td>None</td>\n",
       "      <td>2.2</td>\n",
       "      <td>2020067037</td>\n",
       "      <td>https://earthquake.usgs.gov/fdsnws/event/1/que...</td>\n",
       "      <td>0.134800</td>\n",
       "      <td>3.0</td>\n",
       "      <td>255.0</td>\n",
       "      <td>,pr2020067037,</td>\n",
       "      <td>2.96</td>\n",
       "      <td>md</td>\n",
       "      <td>...</td>\n",
       "      <td>,pr,</td>\n",
       "      <td>reviewed</td>\n",
       "      <td>1583624685130</td>\n",
       "      <td>M 3.0 - 14km SSE of Guanica, Puerto Rico</td>\n",
       "      <td>0</td>\n",
       "      <td>earthquake</td>\n",
       "      <td>,dyfi,geoserve,origin,phase-data,</td>\n",
       "      <td>-240</td>\n",
       "      <td>1583627751478</td>\n",
       "      <td>https://earthquake.usgs.gov/earthquakes/eventp...</td>\n",
       "    </tr>\n",
       "    <tr>\n",
       "      <th>2</th>\n",
       "      <td>None</td>\n",
       "      <td>NaN</td>\n",
       "      <td>020336wdty</td>\n",
       "      <td>https://earthquake.usgs.gov/fdsnws/event/1/que...</td>\n",
       "      <td>NaN</td>\n",
       "      <td>NaN</td>\n",
       "      <td>NaN</td>\n",
       "      <td>,ak020336wdty,</td>\n",
       "      <td>1.50</td>\n",
       "      <td>ml</td>\n",
       "      <td>...</td>\n",
       "      <td>,ak,</td>\n",
       "      <td>automatic</td>\n",
       "      <td>1583624021565</td>\n",
       "      <td>M 1.5 - 23km ENE of Cape Yakataga, Alaska</td>\n",
       "      <td>0</td>\n",
       "      <td>earthquake</td>\n",
       "      <td>,geoserve,origin,</td>\n",
       "      <td>-540</td>\n",
       "      <td>1583624232043</td>\n",
       "      <td>https://earthquake.usgs.gov/earthquakes/eventp...</td>\n",
       "    </tr>\n",
       "    <tr>\n",
       "      <th>3</th>\n",
       "      <td>None</td>\n",
       "      <td>NaN</td>\n",
       "      <td>020336wamw</td>\n",
       "      <td>https://earthquake.usgs.gov/fdsnws/event/1/que...</td>\n",
       "      <td>NaN</td>\n",
       "      <td>NaN</td>\n",
       "      <td>NaN</td>\n",
       "      <td>,ak020336wamw,</td>\n",
       "      <td>1.20</td>\n",
       "      <td>ml</td>\n",
       "      <td>...</td>\n",
       "      <td>,ak,</td>\n",
       "      <td>reviewed</td>\n",
       "      <td>1583623977854</td>\n",
       "      <td>M 1.2 - 23km ENE of Cape Yakataga, Alaska</td>\n",
       "      <td>0</td>\n",
       "      <td>earthquake</td>\n",
       "      <td>,geoserve,origin,phase-data,</td>\n",
       "      <td>-540</td>\n",
       "      <td>1583626078329</td>\n",
       "      <td>https://earthquake.usgs.gov/earthquakes/eventp...</td>\n",
       "    </tr>\n",
       "    <tr>\n",
       "      <th>4</th>\n",
       "      <td>None</td>\n",
       "      <td>NaN</td>\n",
       "      <td>38386978</td>\n",
       "      <td>https://earthquake.usgs.gov/fdsnws/event/1/que...</td>\n",
       "      <td>0.208500</td>\n",
       "      <td>NaN</td>\n",
       "      <td>187.0</td>\n",
       "      <td>,ci38386978,</td>\n",
       "      <td>1.68</td>\n",
       "      <td>ml</td>\n",
       "      <td>...</td>\n",
       "      <td>,ci,</td>\n",
       "      <td>automatic</td>\n",
       "      <td>1583623636370</td>\n",
       "      <td>M 1.7 - 18km SSE of Gorman, CA</td>\n",
       "      <td>0</td>\n",
       "      <td>earthquake</td>\n",
       "      <td>,geoserve,nearby-cities,origin,phase-data,scit...</td>\n",
       "      <td>-480</td>\n",
       "      <td>1583623879658</td>\n",
       "      <td>https://earthquake.usgs.gov/earthquakes/eventp...</td>\n",
       "    </tr>\n",
       "  </tbody>\n",
       "</table>\n",
       "<p>5 rows × 26 columns</p>\n",
       "</div>"
      ],
      "text/plain": [
       "  alert  cdi        code                                             detail  \\\n",
       "0  None  NaN    38386994  https://earthquake.usgs.gov/fdsnws/event/1/que...   \n",
       "1  None  2.2  2020067037  https://earthquake.usgs.gov/fdsnws/event/1/que...   \n",
       "2  None  NaN  020336wdty  https://earthquake.usgs.gov/fdsnws/event/1/que...   \n",
       "3  None  NaN  020336wamw  https://earthquake.usgs.gov/fdsnws/event/1/que...   \n",
       "4  None  NaN    38386978  https://earthquake.usgs.gov/fdsnws/event/1/que...   \n",
       "\n",
       "       dmin  felt    gap             ids   mag magType  \\\n",
       "0  0.006389   NaN  100.0    ,ci38386994,  1.75      ml   \n",
       "1  0.134800   3.0  255.0  ,pr2020067037,  2.96      md   \n",
       "2       NaN   NaN    NaN  ,ak020336wdty,  1.50      ml   \n",
       "3       NaN   NaN    NaN  ,ak020336wamw,  1.20      ml   \n",
       "4  0.208500   NaN  187.0    ,ci38386978,  1.68      ml   \n",
       "\n",
       "                         ...                          sources     status  \\\n",
       "0                        ...                             ,ci,  automatic   \n",
       "1                        ...                             ,pr,   reviewed   \n",
       "2                        ...                             ,ak,  automatic   \n",
       "3                        ...                             ,ak,   reviewed   \n",
       "4                        ...                             ,ci,  automatic   \n",
       "\n",
       "            time                                      title  tsunami  \\\n",
       "0  1583625168950       M 1.8 - 11km NE of Coso Junction, CA        0   \n",
       "1  1583624685130   M 3.0 - 14km SSE of Guanica, Puerto Rico        0   \n",
       "2  1583624021565  M 1.5 - 23km ENE of Cape Yakataga, Alaska        0   \n",
       "3  1583623977854  M 1.2 - 23km ENE of Cape Yakataga, Alaska        0   \n",
       "4  1583623636370             M 1.7 - 18km SSE of Gorman, CA        0   \n",
       "\n",
       "         type                                              types   tz  \\\n",
       "0  earthquake  ,focal-mechanism,geoserve,nearby-cities,origin... -480   \n",
       "1  earthquake                  ,dyfi,geoserve,origin,phase-data, -240   \n",
       "2  earthquake                                  ,geoserve,origin, -540   \n",
       "3  earthquake                       ,geoserve,origin,phase-data, -540   \n",
       "4  earthquake  ,geoserve,nearby-cities,origin,phase-data,scit... -480   \n",
       "\n",
       "         updated                                                url  \n",
       "0  1583625829990  https://earthquake.usgs.gov/earthquakes/eventp...  \n",
       "1  1583627751478  https://earthquake.usgs.gov/earthquakes/eventp...  \n",
       "2  1583624232043  https://earthquake.usgs.gov/earthquakes/eventp...  \n",
       "3  1583626078329  https://earthquake.usgs.gov/earthquakes/eventp...  \n",
       "4  1583623879658  https://earthquake.usgs.gov/earthquakes/eventp...  \n",
       "\n",
       "[5 rows x 26 columns]"
      ]
     },
     "execution_count": 10,
     "metadata": {},
     "output_type": "execute_result"
    }
   ],
   "source": [
    "earthquake_properties_data = [data['properties'] for data in earthquake_json['features']]\n",
    "df = pd.DataFrame(earthquake_properties_data)\n",
    "df.head()"
   ]
  },
  {
   "cell_type": "markdown",
   "metadata": {},
   "source": [
    "### (Optional) Write Data to CSV"
   ]
  },
  {
   "cell_type": "code",
   "execution_count": 11,
   "metadata": {},
   "outputs": [],
   "source": [
    "pd.DataFrame(earthquake_properties_data).to_csv('earthquakes.csv', index=False)"
   ]
  }
 ],
 "metadata": {
  "kernelspec": {
   "display_name": "Python 3",
   "language": "python",
   "name": "python3"
  },
  "language_info": {
   "codemirror_mode": {
    "name": "ipython",
    "version": 3
   },
   "file_extension": ".py",
   "mimetype": "text/x-python",
   "name": "python",
   "nbconvert_exporter": "python",
   "pygments_lexer": "ipython3",
   "version": "3.6.5"
  }
 },
 "nbformat": 4,
 "nbformat_minor": 2
}
