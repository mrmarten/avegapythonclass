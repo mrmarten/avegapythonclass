{
 "cells": [
  {
   "cell_type": "markdown",
   "metadata": {},
   "source": [
    "## Hierarchical Indexing\n",
    "### Working with pandas\n",
    "*Curtis Miller*\n",
    "\n",
    "In this notebook I explore the creation and use of hierarchical indices.\n",
    "\n",
    "Let's see different ways to create a hierarchical index."
   ]
  },
  {
   "cell_type": "code",
   "execution_count": null,
   "metadata": {
    "collapsed": true
   },
   "outputs": [],
   "source": [
    "import pandas as pd\n",
    "from pandas import Series, DataFrame\n",
    "import numpy as np"
   ]
  },
  {
   "cell_type": "code",
   "execution_count": null,
   "metadata": {
    "collapsed": false
   },
   "outputs": [],
   "source": [
    "# Directly with MultiIndex\n",
    "midx = pd.MultiIndex([['a', 'b'], ['alpha', 'beta'], [1, 2]],\n",
    "                     [[0, 0, 0, 0, 1, 1, 1, 1],\n",
    "                      [0, 0, 1, 1, 0, 0, 1, 1],\n",
    "                      [0, 1, 0, 1, 0, 1, 0, 1]])\n",
    "Series(np.arange(8), index=midx)"
   ]
  },
  {
   "cell_type": "code",
   "execution_count": null,
   "metadata": {
    "collapsed": false
   },
   "outputs": [],
   "source": [
    "# In the Series creation\n",
    "srs = Series(np.arange(8),\n",
    "             index=[['a', 'a', 'a', 'a', 'b', 'b', 'b', 'b'],\n",
    "                    ['alpha', 'alpha', 'beta', 'beta',\n",
    "                     'alpha', 'alpha', 'beta', 'beta'],\n",
    "                    [1, 2, 1, 2, 1, 2, 1, 2]])\n",
    "srs"
   ]
  },
  {
   "cell_type": "markdown",
   "metadata": {},
   "source": [
    "Let's first see what slicing a Series with a multi-index looks like."
   ]
  },
  {
   "cell_type": "code",
   "execution_count": null,
   "metadata": {
    "collapsed": false
   },
   "outputs": [],
   "source": [
    "srs.loc['b']"
   ]
  },
  {
   "cell_type": "code",
   "execution_count": null,
   "metadata": {
    "collapsed": false,
    "scrolled": true
   },
   "outputs": [],
   "source": [
    "srs.loc['b', 'alpha']    # The following won't work for DataFrames"
   ]
  },
  {
   "cell_type": "code",
   "execution_count": null,
   "metadata": {
    "collapsed": false
   },
   "outputs": [],
   "source": [
    "srs.loc['b', 'alpha', 1]"
   ]
  },
  {
   "cell_type": "code",
   "execution_count": null,
   "metadata": {
    "collapsed": false
   },
   "outputs": [],
   "source": [
    "srs.loc['a', :, 1]"
   ]
  },
  {
   "cell_type": "markdown",
   "metadata": {},
   "source": [
    "Now we look at managing a hierarchical index attached to a `DataFrame`."
   ]
  },
  {
   "cell_type": "code",
   "execution_count": null,
   "metadata": {
    "collapsed": false
   },
   "outputs": [],
   "source": [
    "df = DataFrame(np.random.randn(8, 3), index=midx,\n",
    "               columns=['AAA', 'BBB', 'CCC'])\n",
    "df.loc['b']"
   ]
  },
  {
   "cell_type": "code",
   "execution_count": null,
   "metadata": {
    "collapsed": false
   },
   "outputs": [],
   "source": [
    "df.loc[('b', 'alpha')]    # Must use a tuple here"
   ]
  },
  {
   "cell_type": "code",
   "execution_count": null,
   "metadata": {
    "collapsed": false
   },
   "outputs": [],
   "source": [
    "df.loc[('b', 'alpha', 1)]"
   ]
  },
  {
   "cell_type": "code",
   "execution_count": null,
   "metadata": {
    "collapsed": false
   },
   "outputs": [],
   "source": [
    "df.loc[('b', slice(None), 1), :]    # Don't treat : as optional"
   ]
  },
  {
   "cell_type": "code",
   "execution_count": null,
   "metadata": {
    "collapsed": false
   },
   "outputs": [],
   "source": [
    "df.loc[(slice(None, 'b'), slice(None), 1), ['AAA', 'BBB']]    # :'b'"
   ]
  },
  {
   "cell_type": "code",
   "execution_count": null,
   "metadata": {
    "collapsed": false
   },
   "outputs": [],
   "source": [
    "df.loc[(slice(None), slice(None), 1), 'CCC']"
   ]
  }
 ],
 "metadata": {
  "kernelspec": {
   "display_name": "Python [Root]",
   "language": "python",
   "name": "Python [Root]"
  },
  "language_info": {
   "codemirror_mode": {
    "name": "ipython",
    "version": 3
   },
   "file_extension": ".py",
   "mimetype": "text/x-python",
   "name": "python",
   "nbconvert_exporter": "python",
   "pygments_lexer": "ipython3",
   "version": "3.5.2"
  }
 },
 "nbformat": 4,
 "nbformat_minor": 0
}
