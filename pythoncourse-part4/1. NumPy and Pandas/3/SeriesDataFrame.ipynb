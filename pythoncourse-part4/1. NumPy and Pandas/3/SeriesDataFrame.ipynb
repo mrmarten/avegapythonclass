{
 "cells": [
  {
   "cell_type": "markdown",
   "metadata": {},
   "source": [
    "## Exploring `Series` and `DataFrame` Objects\n",
    "### Working with pandas\n",
    "*Curtis Miller*\n",
    "\n",
    "Let's create some `Series`."
   ]
  },
  {
   "cell_type": "code",
   "execution_count": 1,
   "metadata": {},
   "outputs": [],
   "source": [
    "import pandas as pd\n",
    "from pandas import Series, DataFrame\n",
    "import numpy as np"
   ]
  },
  {
   "cell_type": "code",
   "execution_count": 2,
   "metadata": {},
   "outputs": [
    {
     "name": "stdout",
     "output_type": "stream",
     "text": [
      "0    1\n",
      "1    2\n",
      "2    3\n",
      "3    4\n",
      "dtype: int64\n"
     ]
    }
   ],
   "source": [
    "ser1 = Series([1, 2, 3, 4])\n",
    "ser2 = Series(['a', 'b', 'c'])\n",
    "print(ser1)"
   ]
  },
  {
   "cell_type": "code",
   "execution_count": 3,
   "metadata": {},
   "outputs": [
    {
     "name": "stdout",
     "output_type": "stream",
     "text": [
      "0    a\n",
      "1    b\n",
      "2    c\n",
      "dtype: object\n"
     ]
    }
   ],
   "source": [
    "print(ser2)"
   ]
  },
  {
   "cell_type": "code",
   "execution_count": 4,
   "metadata": {},
   "outputs": [
    {
     "name": "stdout",
     "output_type": "stream",
     "text": [
      "Index(['New York', 'Los Angeles', 'Chicago', 'Houston', 'Philadelphia',\n",
      "       'Phoenix', 'San Antonio', 'San Diego', 'Dallas'],\n",
      "      dtype='object')\n"
     ]
    }
   ],
   "source": [
    "# Create a pandas Index\n",
    "idx = pd.Index([\"New York\", \"Los Angeles\", \"Chicago\",\n",
    "                \"Houston\", \"Philadelphia\", \"Phoenix\", \"San Antonio\",\n",
    "                \"San Diego\", \"Dallas\"])\n",
    "print(idx)"
   ]
  },
  {
   "cell_type": "code",
   "execution_count": null,
   "metadata": {},
   "outputs": [],
   "source": [
    "pops = Series([8550, 3972, 2721, 2296, 1567, np.nan, 1470, 1395, 1300],\n",
    "              index=idx, name=\"Population\")\n",
    "print(pops)"
   ]
  },
  {
   "cell_type": "code",
   "execution_count": null,
   "metadata": {},
   "outputs": [],
   "source": [
    "state = Series({\"New York\": \"New York\", \"Los Angeles\": \"California\", \"Phoenix\": \"Arizona\", \"San Antonio\": \"Texas\",\n",
    "                \"San Diego\": \"California\", \"Dallas\": \"Texas\"}, name = \"State\")\n",
    "print(state)"
   ]
  },
  {
   "cell_type": "code",
   "execution_count": null,
   "metadata": {},
   "outputs": [],
   "source": [
    "area = Series({\"New York\": 302.6, \"Los Angeles\": 468.7, \"Philadelphia\": 134.1, \"Phoenix\": 516.7, \"Austin\": 322.48},\n",
    "              name = \"Area\")\n",
    "print(area)"
   ]
  },
  {
   "cell_type": "markdown",
   "metadata": {},
   "source": [
    "Let's see some of the ways we can create `DataFrame`s, first without indices."
   ]
  },
  {
   "cell_type": "code",
   "execution_count": null,
   "metadata": {},
   "outputs": [],
   "source": [
    "# From a NumPy array\n",
    "mat = np.arange(0,9).reshape(3, 3)\n",
    "print(mat)"
   ]
  },
  {
   "cell_type": "code",
   "execution_count": null,
   "metadata": {},
   "outputs": [],
   "source": [
    "print(DataFrame(mat))"
   ]
  },
  {
   "cell_type": "code",
   "execution_count": null,
   "metadata": {},
   "outputs": [],
   "source": [
    "# Adding labels\n",
    "print(DataFrame(mat, index=['a', 'b', 'c'], columns = ['alpha', 'beta', 'gamma']))"
   ]
  },
  {
   "cell_type": "code",
   "execution_count": null,
   "metadata": {},
   "outputs": [],
   "source": [
    "# What amounts to a 2D array (each tuple a row)\n",
    "arr = [(1, 'a'), (2, 'b'), (3, 'c')]\n",
    "print(arr)"
   ]
  },
  {
   "cell_type": "code",
   "execution_count": null,
   "metadata": {
    "scrolled": true
   },
   "outputs": [],
   "source": [
    "print(DataFrame(arr, columns = [\"Numbers\", \"Letters\"]))"
   ]
  },
  {
   "cell_type": "code",
   "execution_count": null,
   "metadata": {},
   "outputs": [],
   "source": [
    "# Creating from a dict\n",
    "print(DataFrame({\"Numbers\": [1, 2, 3], \"Letters\": ['a', 'b', 'c']}))"
   ]
  },
  {
   "cell_type": "code",
   "execution_count": null,
   "metadata": {},
   "outputs": [],
   "source": [
    "# What if not all lists are the same length?\n",
    "# We get an error\n",
    "print(DataFrame({\"Numbers\": [1, 2, 3, 4], \"Letters\": ['a', 'b', 'c']}))"
   ]
  },
  {
   "cell_type": "code",
   "execution_count": null,
   "metadata": {},
   "outputs": [],
   "source": [
    "# Do we get an error?\n",
    "DataFrame({\"Numbers\": ser1, \"Letters\": ser2})    # nan fills in \"missing\" information (Series not of same length)"
   ]
  },
  {
   "cell_type": "markdown",
   "metadata": {},
   "source": [
    "Let's now create a DataFrame containing information about cities."
   ]
  },
  {
   "cell_type": "code",
   "execution_count": null,
   "metadata": {},
   "outputs": [],
   "source": [
    "# When passed as a list, series are treated as rows\n",
    "# Notice that these Series are not the same length nor all have the same entries; nan will be generated\n",
    "print(DataFrame([pops, state, area]))"
   ]
  },
  {
   "cell_type": "code",
   "execution_count": null,
   "metadata": {},
   "outputs": [],
   "source": [
    "print(DataFrame({\"Population\": pops, \"State\": state, \"Area\": area}))"
   ]
  },
  {
   "cell_type": "code",
   "execution_count": null,
   "metadata": {},
   "outputs": [],
   "source": [
    "# Or, we could use DataFrame's T (transpose) method\n",
    "print(DataFrame([pops, state, area]).T)"
   ]
  },
  {
   "cell_type": "markdown",
   "metadata": {},
   "source": [
    "How can we add new data to `Series` or `DataFrame`s?"
   ]
  },
  {
   "cell_type": "code",
   "execution_count": null,
   "metadata": {},
   "outputs": [],
   "source": [
    "# Let's append new data to each Series\n",
    "pops.append(Series({\"Seattle\": 684, \"Denver\": 683}))     # Not done in place"
   ]
  },
  {
   "cell_type": "code",
   "execution_count": null,
   "metadata": {},
   "outputs": [],
   "source": [
    "df = DataFrame([pops, state, area]).T\n",
    "df.append(DataFrame({\"Population\": Series({\"Seattle\": 684, \"Denver\": 683}),\n",
    "                     \"State\": Series({\"Seattle\": \"Washington\", \"Denver\": \"Colorado\"}),\n",
    "                     \"Area\": Series({\"Seattle\": np.nan, \"Denver\": np.nan})}))"
   ]
  },
  {
   "cell_type": "code",
   "execution_count": null,
   "metadata": {},
   "outputs": [],
   "source": [
    "pd.concat([df, DataFrame({\"Numbers\": Series(np.arange(9), index=pops.index),\n",
    "                         \"Letters\": Series(['a', 'c', 'd', 'h', 'l', 'n', 'p', 'p', 's'], index=pops.index)})],\n",
    "         axis=1)"
   ]
  },
  {
   "cell_type": "markdown",
   "metadata": {},
   "source": [
    "Finally we save the data to a CSV file for later use."
   ]
  },
  {
   "cell_type": "code",
   "execution_count": null,
   "metadata": {
    "collapsed": true
   },
   "outputs": [],
   "source": [
    "df = DataFrame([pops, state, area]).T\n",
    "# Saving data to csv file\n",
    "df.to_csv(\"cities.csv\")"
   ]
  }
 ],
 "metadata": {
  "anaconda-cloud": {},
  "kernelspec": {
   "display_name": "Python 3",
   "language": "python",
   "name": "python3"
  },
  "language_info": {
   "codemirror_mode": {
    "name": "ipython",
    "version": 3
   },
   "file_extension": ".py",
   "mimetype": "text/x-python",
   "name": "python",
   "nbconvert_exporter": "python",
   "pygments_lexer": "ipython3",
   "version": "3.7.4"
  }
 },
 "nbformat": 4,
 "nbformat_minor": 1
}
