{
 "cells": [
  {
   "cell_type": "markdown",
   "metadata": {},
   "source": [
    "## Slicing Arrays in NumPy\n",
    "### Diving Into NumPy\n",
    "*Curtis Miller*\n",
    "\n",
    "Let's create a 3D array we will be slicing."
   ]
  },
  {
   "cell_type": "code",
   "execution_count": 1,
   "metadata": {
    "collapsed": false
   },
   "outputs": [
    {
     "name": "stdout",
     "output_type": "stream",
     "text": [
      "[[['Joey' 'Bob' 'Sarah']\n",
      "  ['Margaret' 'Rachel' 'Jim']\n",
      "  ['Wayne' 'Joey' 'Liam']]\n",
      "\n",
      " [['Max' 'Maxine' 'Richard']\n",
      "  ['Harold' 'Curtis' 'Simon']\n",
      "  ['Bob' 'Liam' 'Simon']]\n",
      "\n",
      " [['Wayne' 'Sarah' 'Lucy']\n",
      "  ['Lucy' 'Kurtis' 'Yu']\n",
      "  ['Joey' 'Lex' 'Alex']]]\n"
     ]
    }
   ],
   "source": [
    "import numpy as np\n",
    "\n",
    "arr1 = np.array([[[\"Joey\", \"Bob\", \"Sarah\"],\n",
    "                  [\"Margaret\", \"Rachel\", \"Jim\"],\n",
    "                  [\"Wayne\", \"Joey\", \"Liam\"]],\n",
    "                 \n",
    "                 [[\"Max\", \"Maxine\", \"Richard\"],\n",
    "                  [\"Harold\", \"Curtis\", \"Simon\"],\n",
    "                  [\"Bob\", \"Liam\", \"Simon\"]],\n",
    "                \n",
    "                 [[\"Wayne\", \"Sarah\", \"Lucy\"],\n",
    "                  [\"Lucy\", \"Kurtis\", \"Yu\"],\n",
    "                  [\"Joey\", \"Lex\", \"Alex\"]]])\n",
    "print(arr1)"
   ]
  },
  {
   "cell_type": "code",
   "execution_count": 2,
   "metadata": {
    "collapsed": false
   },
   "outputs": [
    {
     "name": "stdout",
     "output_type": "stream",
     "text": [
      "(3, 3, 3)\n"
     ]
    }
   ],
   "source": [
    "print(arr1.shape)"
   ]
  },
  {
   "cell_type": "markdown",
   "metadata": {},
   "source": [
    "Oh, that's complex! I want something similar. Let's pick just these entries and make a 3x3 array."
   ]
  },
  {
   "cell_type": "code",
   "execution_count": 3,
   "metadata": {
    "collapsed": false
   },
   "outputs": [
    {
     "name": "stdout",
     "output_type": "stream",
     "text": [
      "[['Joey' 'Margaret' 'Wayne']\n",
      " ['Max' 'Harold' 'Bob']\n",
      " ['Wayne' 'Lucy' 'Joey']]\n"
     ]
    }
   ],
   "source": [
    "arr2 = arr1[:, :, 0].copy()\n",
    "print(arr2)"
   ]
  },
  {
   "cell_type": "markdown",
   "metadata": {},
   "source": [
    "To differentiate more, let's change an entry."
   ]
  },
  {
   "cell_type": "code",
   "execution_count": 4,
   "metadata": {
    "collapsed": false
   },
   "outputs": [
    {
     "name": "stdout",
     "output_type": "stream",
     "text": [
      "[['Joey' 'Margaret' 'Wayne']\n",
      " ['Max' 'Attila' 'Bob']\n",
      " ['Wayne' 'Lucy' 'Joey']]\n"
     ]
    }
   ],
   "source": [
    "arr2[1, 1] = \"Attila\"\n",
    "print(arr2)"
   ]
  },
  {
   "cell_type": "code",
   "execution_count": 5,
   "metadata": {
    "collapsed": false
   },
   "outputs": [
    {
     "name": "stdout",
     "output_type": "stream",
     "text": [
      "[[['Joey' 'Bob' 'Sarah']\n",
      "  ['Margaret' 'Rachel' 'Jim']\n",
      "  ['Wayne' 'Joey' 'Liam']]\n",
      "\n",
      " [['Max' 'Maxine' 'Richard']\n",
      "  ['Harold' 'Curtis' 'Simon']\n",
      "  ['Bob' 'Liam' 'Simon']]\n",
      "\n",
      " [['Wayne' 'Sarah' 'Lucy']\n",
      "  ['Lucy' 'Kurtis' 'Yu']\n",
      "  ['Joey' 'Lex' 'Alex']]]\n"
     ]
    }
   ],
   "source": [
    "# No attila in arr1\n",
    "print(arr1)"
   ]
  },
  {
   "cell_type": "markdown",
   "metadata": {},
   "source": [
    "Looks good. Now, let's see what happens with various slicing schemes."
   ]
  },
  {
   "cell_type": "code",
   "execution_count": 6,
   "metadata": {
    "collapsed": false
   },
   "outputs": [
    {
     "name": "stdout",
     "output_type": "stream",
     "text": [
      "['Max' 'Attila' 'Bob' 'Margaret' 'Lucy']\n"
     ]
    }
   ],
   "source": [
    "# Choose manually the \"cross\" elements\n",
    "print(arr2[[1, 1, 1, 0, 2], [0, 1, 2, 1, 1]])"
   ]
  },
  {
   "cell_type": "code",
   "execution_count": 7,
   "metadata": {
    "collapsed": false
   },
   "outputs": [
    {
     "name": "stdout",
     "output_type": "stream",
     "text": [
      "[['Joey' 'Margaret']\n",
      " ['Max' 'Attila']]\n"
     ]
    }
   ],
   "source": [
    "# Upper-left corner\n",
    "print(arr2[:2, :2])"
   ]
  },
  {
   "cell_type": "code",
   "execution_count": 8,
   "metadata": {
    "collapsed": false
   },
   "outputs": [
    {
     "name": "stdout",
     "output_type": "stream",
     "text": [
      "['Margaret' 'Attila' 'Lucy']\n"
     ]
    }
   ],
   "source": [
    "# Middle column, all rows\n",
    "print(arr2[:, 1])"
   ]
  },
  {
   "cell_type": "code",
   "execution_count": 9,
   "metadata": {
    "collapsed": false
   },
   "outputs": [
    {
     "name": "stdout",
     "output_type": "stream",
     "text": [
      "[['Margaret']\n",
      " ['Attila']\n",
      " ['Lucy']]\n"
     ]
    }
   ],
   "source": [
    "# Middle column, all rows, but don't flatten; keep matrix shape\n",
    "# When a list is used for choosing the column, the dimension is kept\n",
    "print(arr2[:, [1]])"
   ]
  },
  {
   "cell_type": "code",
   "execution_count": 10,
   "metadata": {
    "collapsed": false
   },
   "outputs": [
    {
     "name": "stdout",
     "output_type": "stream",
     "text": [
      "['Attila' 'Lucy']\n"
     ]
    }
   ],
   "source": [
    "# Last two rows of middle column\n",
    "print(arr2[1:, 1])"
   ]
  },
  {
   "cell_type": "code",
   "execution_count": 11,
   "metadata": {
    "collapsed": false
   },
   "outputs": [
    {
     "name": "stdout",
     "output_type": "stream",
     "text": [
      "[['Wayne' 'Lucy' 'Joey']\n",
      " ['Max' 'Attila' 'Bob']\n",
      " ['Joey' 'Margaret' 'Wayne']]\n"
     ]
    }
   ],
   "source": [
    "# Reverse row order\n",
    "print(arr2[::-1, :])"
   ]
  },
  {
   "cell_type": "code",
   "execution_count": 12,
   "metadata": {
    "collapsed": false
   },
   "outputs": [
    {
     "name": "stdout",
     "output_type": "stream",
     "text": [
      "[['Joey' 'Wayne']\n",
      " ['Max' 'Bob']\n",
      " ['Wayne' 'Joey']]\n"
     ]
    }
   ],
   "source": [
    "# Select odd-number columns\n",
    "print(arr2[:, 0:3:2])"
   ]
  },
  {
   "cell_type": "markdown",
   "metadata": {},
   "source": [
    "Let's see what some of these commands look like for `arr1`."
   ]
  },
  {
   "cell_type": "code",
   "execution_count": 13,
   "metadata": {
    "collapsed": false
   },
   "outputs": [
    {
     "name": "stdout",
     "output_type": "stream",
     "text": [
      "[[['Joey' 'Bob']\n",
      "  ['Margaret' 'Rachel']]\n",
      "\n",
      " [['Max' 'Maxine']\n",
      "  ['Harold' 'Curtis']]]\n"
     ]
    }
   ],
   "source": [
    "# Choose a 2x2x2 corner cube\n",
    "print(arr1[0:2, 0:2, 0:2])"
   ]
  },
  {
   "cell_type": "code",
   "execution_count": 14,
   "metadata": {
    "collapsed": false
   },
   "outputs": [
    {
     "name": "stdout",
     "output_type": "stream",
     "text": [
      "[['Margaret' 'Rachel' 'Jim']\n",
      " ['Harold' 'Curtis' 'Simon']\n",
      " ['Lucy' 'Kurtis' 'Yu']]\n"
     ]
    }
   ],
   "source": [
    "# Select middle slice\n",
    "print(arr1[:, 1, :])"
   ]
  },
  {
   "cell_type": "code",
   "execution_count": 15,
   "metadata": {
    "collapsed": false
   },
   "outputs": [
    {
     "name": "stdout",
     "output_type": "stream",
     "text": [
      "(3, 3)\n"
     ]
    }
   ],
   "source": [
    "print(arr1[:, 1, :].shape) # Not three-dimensional"
   ]
  },
  {
   "cell_type": "code",
   "execution_count": 16,
   "metadata": {
    "collapsed": false
   },
   "outputs": [
    {
     "name": "stdout",
     "output_type": "stream",
     "text": [
      "[[['Margaret' 'Rachel' 'Jim']]\n",
      "\n",
      " [['Harold' 'Curtis' 'Simon']]\n",
      "\n",
      " [['Lucy' 'Kurtis' 'Yu']]]\n"
     ]
    }
   ],
   "source": [
    "# Select middle slice, but keep an extra dimension\n",
    "print(arr1[:, 1, np.newaxis, :])"
   ]
  },
  {
   "cell_type": "code",
   "execution_count": 17,
   "metadata": {
    "collapsed": false
   },
   "outputs": [
    {
     "name": "stdout",
     "output_type": "stream",
     "text": [
      "(3, 1, 3)\n"
     ]
    }
   ],
   "source": [
    "print(arr1[:, 1, np.newaxis, :].shape)"
   ]
  },
  {
   "cell_type": "markdown",
   "metadata": {},
   "source": [
    "Let's see indexing with other arrays."
   ]
  },
  {
   "cell_type": "code",
   "execution_count": 18,
   "metadata": {
    "collapsed": false
   },
   "outputs": [
    {
     "name": "stdout",
     "output_type": "stream",
     "text": [
      "['Joey' 'Margaret' 'Max' 'Attila' 'Bob' 'Lucy' 'Joey']\n"
     ]
    }
   ],
   "source": [
    "# Select all entries that are not Wayne\n",
    "print(arr2[arr2 != \"Wayne\"])"
   ]
  },
  {
   "cell_type": "code",
   "execution_count": 19,
   "metadata": {
    "collapsed": false
   },
   "outputs": [
    {
     "name": "stdout",
     "output_type": "stream",
     "text": [
      "[[ True  True False]\n",
      " [ True  True  True]\n",
      " [False  True  True]]\n"
     ]
    }
   ],
   "source": [
    "# A peak at the indexing boolean array\n",
    "print(arr2 != \"Wayne\")"
   ]
  },
  {
   "cell_type": "code",
   "execution_count": 21,
   "metadata": {
    "collapsed": false
   },
   "outputs": [
    {
     "name": "stdout",
     "output_type": "stream",
     "text": [
      "[['Joey' 'Wayne']\n",
      " ['Wayne' 'Joey']]\n"
     ]
    }
   ],
   "source": [
    "# Select, effectively, an array holding the data in the corners\n",
    "idx0 = np.array([[0, 0],\n",
    "                 [2, 2]])\n",
    "idx1 = np.array([[0, 2],\n",
    "                 [0, 2]])\n",
    "\n",
    "print(arr2[idx0, idx1])"
   ]
  },
  {
   "cell_type": "markdown",
   "metadata": {},
   "source": [
    "Let's repeat this with the more complex array."
   ]
  },
  {
   "cell_type": "code",
   "execution_count": 22,
   "metadata": {
    "collapsed": false
   },
   "outputs": [
    {
     "name": "stdout",
     "output_type": "stream",
     "text": [
      "['Joey' 'Bob' 'Sarah' 'Margaret' 'Rachel' 'Jim' 'Wayne' 'Joey' 'Liam' 'Max'\n",
      " 'Maxine' 'Richard' 'Harold' 'Simon' 'Bob' 'Liam' 'Simon' 'Wayne' 'Sarah'\n",
      " 'Lucy' 'Lucy' 'Kurtis' 'Yu' 'Joey' 'Lex' 'Alex']\n"
     ]
    }
   ],
   "source": [
    "# All entries that are not Curtis\n",
    "print(arr1[arr1 != \"Curtis\"])"
   ]
  },
  {
   "cell_type": "code",
   "execution_count": 23,
   "metadata": {
    "collapsed": false
   },
   "outputs": [
    {
     "name": "stdout",
     "output_type": "stream",
     "text": [
      "[[[ True  True  True]\n",
      "  [ True  True  True]\n",
      "  [ True  True  True]]\n",
      "\n",
      " [[ True  True  True]\n",
      "  [ True False  True]\n",
      "  [ True  True  True]]\n",
      "\n",
      " [[ True  True  True]\n",
      "  [ True  True  True]\n",
      "  [ True  True  True]]]\n"
     ]
    }
   ],
   "source": [
    "# A peak at the indexing array\n",
    "print(arr1 != \"Curtis\")"
   ]
  },
  {
   "cell_type": "code",
   "execution_count": 25,
   "metadata": {
    "collapsed": false
   },
   "outputs": [
    {
     "name": "stdout",
     "output_type": "stream",
     "text": [
      "[[['Joey' 'Wayne']\n",
      "  ['Sarah' 'Liam']]\n",
      "\n",
      " [['Wayne' 'Joey']\n",
      "  ['Lucy' 'Alex']]]\n"
     ]
    }
   ],
   "source": [
    "# Get a 2x2x2 matrix with corner elements\n",
    "# Row indices\n",
    "idx0 = np.array([[[0, 0],\n",
    "                  [0, 0]],\n",
    "                \n",
    "                 [[2, 2],\n",
    "                  [2, 2]]])\n",
    "\n",
    "# Column indices\n",
    "idx1 = np.array([[[0, 2],\n",
    "                  [0, 2]],\n",
    "                 \n",
    "                 [[0, 2],\n",
    "                  [0, 2]]])\n",
    "\n",
    "# Depth indices\n",
    "idx2 = np.array([[[0, 0],\n",
    "                  [2, 2]],\n",
    "                \n",
    "                 [[0, 0],\n",
    "                  [2, 2]]])\n",
    "\n",
    "# Notice that the (0, 0, 0) element of the sliced array will be (0, 0, 0) of arr1,\n",
    "# (1, 0, 0) of sliced array will be element (2, 0, 0) of arr1,\n",
    "# (0, 1, 0) of sliced array will be element (0, 2, 0) of arr1,\n",
    "# and so on.\n",
    "print(arr1[idx0, idx1, idx2])"
   ]
  },
  {
   "cell_type": "code",
   "execution_count": 26,
   "metadata": {
    "collapsed": false
   },
   "outputs": [
    {
     "name": "stdout",
     "output_type": "stream",
     "text": [
      "(2, 0, 2)\n"
     ]
    }
   ],
   "source": [
    "# In fact, if you want to know which element of arr1 will be in the sliced array,\n",
    "# here's some code to find out!\n",
    "\n",
    "coord = (1, 1, 0)  # Coord in sliced array\n",
    "print((idx0[coord], idx1[coord], idx2[coord]))"
   ]
  },
  {
   "cell_type": "markdown",
   "metadata": {},
   "source": [
    "Let's say we wanted to add more data to `arr2`. The following code does so."
   ]
  },
  {
   "cell_type": "code",
   "execution_count": 27,
   "metadata": {
    "collapsed": false
   },
   "outputs": [
    {
     "name": "stdout",
     "output_type": "stream",
     "text": [
      "[['Joey' 'Margaret' 'Wayne']\n",
      " ['Max' 'Attila' 'Bob']\n",
      " ['Wayne' 'Lucy' 'Joey']\n",
      " ['Sam' 'Joe' 'Bill']]\n"
     ]
    }
   ],
   "source": [
    "# Add a new row\n",
    "arr2 = np.concatenate((arr2, np.array([[\"Sam\", \"Joe\", \"Bill\"]])), axis=0)\n",
    "print(arr2)"
   ]
  },
  {
   "cell_type": "code",
   "execution_count": 28,
   "metadata": {
    "collapsed": false
   },
   "outputs": [
    {
     "name": "stdout",
     "output_type": "stream",
     "text": [
      "[['Joey' 'Margaret' 'Wayne' 'Maya']\n",
      " ['Max' 'Attila' 'Bob' 'Nana']\n",
      " ['Wayne' 'Lucy' 'Joey' 'Gus']\n",
      " ['Sam' 'Joe' 'Bill' 'Greg']]\n"
     ]
    }
   ],
   "source": [
    "# Add a new column\n",
    "arr2 = np.concatenate((arr2, np.array([[\"Maya\"], [\"Nana\"], [\"Gus\"], [\"Greg\"]])), axis=1)\n",
    "print(arr2)"
   ]
  },
  {
   "cell_type": "code",
   "execution_count": null,
   "metadata": {
    "collapsed": true
   },
   "outputs": [],
   "source": []
  }
 ],
 "metadata": {
  "anaconda-cloud": {},
  "kernelspec": {
   "display_name": "Python [Root]",
   "language": "python",
   "name": "Python [Root]"
  },
  "language_info": {
   "codemirror_mode": {
    "name": "ipython",
    "version": 3
   },
   "file_extension": ".py",
   "mimetype": "text/x-python",
   "name": "python",
   "nbconvert_exporter": "python",
   "pygments_lexer": "ipython3",
   "version": "3.5.2"
  }
 },
 "nbformat": 4,
 "nbformat_minor": 2
}
