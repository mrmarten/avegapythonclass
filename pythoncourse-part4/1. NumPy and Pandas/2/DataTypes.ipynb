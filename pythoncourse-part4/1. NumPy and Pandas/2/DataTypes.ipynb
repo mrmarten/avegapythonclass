{
 "cells": [
  {
   "cell_type": "markdown",
   "metadata": {},
   "source": [
    "## Running Through NumPy Data Types\n",
    "*Curtis Miller*\n",
    "\n",
    "In this notebook, we get a brief glance of NumPy objects and data types, and how to work with them.\n",
    "\n",
    "Let's create arrays that use different data types and have different shapes."
   ]
  },
  {
   "cell_type": "code",
   "execution_count": 1,
   "metadata": {},
   "outputs": [],
   "source": [
    "import numpy as np"
   ]
  },
  {
   "cell_type": "code",
   "execution_count": 2,
   "metadata": {},
   "outputs": [
    {
     "data": {
      "text/plain": [
       "array([[1, 1],\n",
       "       [1, 1]], dtype=int8)"
      ]
     },
     "execution_count": 2,
     "metadata": {},
     "output_type": "execute_result"
    }
   ],
   "source": [
    "# Creating arrays of ones, but with differing dtypes\n",
    "int_ones = np.ones((2, 2), dtype = np.int8)\n",
    "int_ones"
   ]
  },
  {
   "cell_type": "code",
   "execution_count": 3,
   "metadata": {},
   "outputs": [
    {
     "data": {
      "text/plain": [
       "dtype('int8')"
      ]
     },
     "execution_count": 3,
     "metadata": {},
     "output_type": "execute_result"
    }
   ],
   "source": [
    "int_ones.dtype"
   ]
  },
  {
   "cell_type": "code",
   "execution_count": 4,
   "metadata": {},
   "outputs": [
    {
     "data": {
      "text/plain": [
       "array([[1., 1.],\n",
       "       [1., 1.]], dtype=float16)"
      ]
     },
     "execution_count": 4,
     "metadata": {},
     "output_type": "execute_result"
    }
   ],
   "source": [
    "float_ones = np.ones((2, 2), dtype = np.float16)\n",
    "float_ones"
   ]
  },
  {
   "cell_type": "code",
   "execution_count": 5,
   "metadata": {},
   "outputs": [
    {
     "data": {
      "text/plain": [
       "dtype('float16')"
      ]
     },
     "execution_count": 5,
     "metadata": {},
     "output_type": "execute_result"
    }
   ],
   "source": [
    "float_ones.dtype"
   ]
  },
  {
   "cell_type": "code",
   "execution_count": 6,
   "metadata": {},
   "outputs": [
    {
     "data": {
      "text/plain": [
       "array([[1, 1],\n",
       "       [1, 1]], dtype=uint8)"
      ]
     },
     "execution_count": 6,
     "metadata": {},
     "output_type": "execute_result"
    }
   ],
   "source": [
    "uint_ones = np.ones((2, 2), dtype = np.uint8)\n",
    "uint_ones"
   ]
  },
  {
   "cell_type": "code",
   "execution_count": 7,
   "metadata": {},
   "outputs": [
    {
     "data": {
      "text/plain": [
       "array([[ 1,  1],\n",
       "       [ 1, -1]], dtype=int8)"
      ]
     },
     "execution_count": 7,
     "metadata": {},
     "output_type": "execute_result"
    }
   ],
   "source": [
    "int_ones[1, 1] = -1\n",
    "int_ones"
   ]
  },
  {
   "cell_type": "code",
   "execution_count": 8,
   "metadata": {},
   "outputs": [
    {
     "data": {
      "text/plain": [
       "array([[  1,   1],\n",
       "       [  1, 255]], dtype=uint8)"
      ]
     },
     "execution_count": 8,
     "metadata": {},
     "output_type": "execute_result"
    }
   ],
   "source": [
    "uint_ones[1, 1] = -1\n",
    "uint_ones    # Surprise!"
   ]
  },
  {
   "cell_type": "code",
   "execution_count": 9,
   "metadata": {
    "scrolled": true
   },
   "outputs": [
    {
     "data": {
      "text/plain": [
       "array([[ 1,  1],\n",
       "       [ 1, -1]], dtype=int8)"
      ]
     },
     "execution_count": 9,
     "metadata": {},
     "output_type": "execute_result"
    }
   ],
   "source": [
    "uint_ones.dtype = np.int8\n",
    "uint_ones    # This works fine"
   ]
  },
  {
   "cell_type": "code",
   "execution_count": 10,
   "metadata": {},
   "outputs": [
    {
     "data": {
      "text/plain": [
       "array([[1.53e-05],\n",
       "       [     nan]], dtype=float16)"
      ]
     },
     "execution_count": 10,
     "metadata": {},
     "output_type": "execute_result"
    }
   ],
   "source": [
    "uint_ones.dtype = np.float16\n",
    "uint_ones    # This, not so much"
   ]
  },
  {
   "cell_type": "code",
   "execution_count": 11,
   "metadata": {},
   "outputs": [
    {
     "data": {
      "text/plain": [
       "array(['Sam', 'Bill', 'Gary'], dtype='<U4')"
      ]
     },
     "execution_count": 11,
     "metadata": {},
     "output_type": "execute_result"
    }
   ],
   "source": [
    "string_arr = np.array([\"Sam\", \"Bill\", \"Gary\"])\n",
    "string_arr"
   ]
  },
  {
   "cell_type": "code",
   "execution_count": 12,
   "metadata": {},
   "outputs": [
    {
     "data": {
      "text/plain": [
       "array(['Sam', 'Wald', 'Gary'], dtype='<U4')"
      ]
     },
     "execution_count": 12,
     "metadata": {},
     "output_type": "execute_result"
    }
   ],
   "source": [
    "string_arr[1] = \"Waldo\"\n",
    "string_arr    # Cannot have strings longer than 4 characters"
   ]
  },
  {
   "cell_type": "code",
   "execution_count": 13,
   "metadata": {},
   "outputs": [
    {
     "data": {
      "text/plain": [
       "array(['Sam', 'Bill', 'Gary'], dtype='<U16')"
      ]
     },
     "execution_count": 13,
     "metadata": {},
     "output_type": "execute_result"
    }
   ],
   "source": [
    "string_arr = np.array([\"Sam\", \"Bill\", \"Gary\"], dtype = '<U16')\n",
    "string_arr"
   ]
  },
  {
   "cell_type": "code",
   "execution_count": 14,
   "metadata": {},
   "outputs": [
    {
     "data": {
      "text/plain": [
       "array(['Sam', 'Waldo', 'Gary'], dtype='<U16')"
      ]
     },
     "execution_count": 14,
     "metadata": {},
     "output_type": "execute_result"
    }
   ],
   "source": [
    "string_arr[1] = \"Waldo\"\n",
    "string_arr"
   ]
  },
  {
   "cell_type": "code",
   "execution_count": 15,
   "metadata": {},
   "outputs": [
    {
     "data": {
      "text/plain": [
       "True"
      ]
     },
     "execution_count": 15,
     "metadata": {},
     "output_type": "execute_result"
    }
   ],
   "source": [
    "# Checking dtype\n",
    "int_ones.dtype.type is np.int8"
   ]
  },
  {
   "cell_type": "code",
   "execution_count": 16,
   "metadata": {},
   "outputs": [
    {
     "data": {
      "text/plain": [
       "False"
      ]
     },
     "execution_count": 16,
     "metadata": {},
     "output_type": "execute_result"
    }
   ],
   "source": [
    "int_ones.dtype.type is np.float16"
   ]
  },
  {
   "cell_type": "markdown",
   "metadata": {},
   "source": [
    "You can read more about `dtype`s in [NumPy's documentation](https://docs.scipy.org/doc/numpy-1.12.0/reference/arrays.dtypes.html).\n",
    "\n",
    "### Special Values\n",
    "\n",
    "Now let's look at generating special values, like `nan` or `inf`."
   ]
  },
  {
   "cell_type": "code",
   "execution_count": 17,
   "metadata": {},
   "outputs": [
    {
     "name": "stderr",
     "output_type": "stream",
     "text": [
      "C:\\ProgramData\\Anaconda3\\lib\\site-packages\\ipykernel_launcher.py:2: RuntimeWarning: divide by zero encountered in true_divide\n",
      "  \n",
      "C:\\ProgramData\\Anaconda3\\lib\\site-packages\\ipykernel_launcher.py:2: RuntimeWarning: invalid value encountered in true_divide\n",
      "  \n"
     ]
    },
    {
     "data": {
      "text/plain": [
       "array([ inf, -inf,  nan], dtype=float16)"
      ]
     },
     "execution_count": 17,
     "metadata": {},
     "output_type": "execute_result"
    }
   ],
   "source": [
    "vec1 = np.array([1, -1, 0], dtype=np.float16)\n",
    "vec2 = vec1 / 0\n",
    "vec2"
   ]
  },
  {
   "cell_type": "code",
   "execution_count": 18,
   "metadata": {},
   "outputs": [
    {
     "name": "stdout",
     "output_type": "stream",
     "text": [
      "inf\n",
      "------\n",
      "Inf: True\n",
      "-Inf: False\n",
      "NaN: False\n",
      "\n",
      "\n",
      "\n",
      "-inf\n",
      "------\n",
      "Inf: False\n",
      "-Inf: True\n",
      "NaN: False\n",
      "\n",
      "\n",
      "\n",
      "nan\n",
      "------\n",
      "Inf: False\n",
      "-Inf: False\n",
      "NaN: False\n",
      "\n",
      "\n",
      "\n"
     ]
    }
   ],
   "source": [
    "# Can we detect special values?\n",
    "for i in vec2:\n",
    "    print(i)\n",
    "    print('------')\n",
    "    print('Inf: ' + str(i == np.inf))\n",
    "    print('-Inf: ' + str(i == -np.inf))\n",
    "    print('NaN: ' + str(i == np.nan))    # Doesn't work!\n",
    "    print('\\n\\n')"
   ]
  },
  {
   "cell_type": "code",
   "execution_count": 19,
   "metadata": {},
   "outputs": [
    {
     "name": "stdout",
     "output_type": "stream",
     "text": [
      "inf\n",
      "------\n",
      "Inf: True\n",
      "-Inf: False\n",
      "NaN: False\n",
      "\n",
      "\n",
      "\n",
      "-inf\n",
      "------\n",
      "Inf: False\n",
      "-Inf: True\n",
      "NaN: False\n",
      "\n",
      "\n",
      "\n",
      "nan\n",
      "------\n",
      "Inf: False\n",
      "-Inf: False\n",
      "NaN: True\n",
      "\n",
      "\n",
      "\n"
     ]
    }
   ],
   "source": [
    "# A better way\n",
    "for i in vec2:\n",
    "    print(i)\n",
    "    print('------')\n",
    "    print('Inf: ' + str(i == np.inf))\n",
    "    print('-Inf: ' + str(i == -np.inf))\n",
    "    print('NaN: ' + str(np.isnan(i)))    # Does work!\n",
    "    print('\\n\\n')"
   ]
  },
  {
   "cell_type": "code",
   "execution_count": 20,
   "metadata": {},
   "outputs": [
    {
     "name": "stdout",
     "output_type": "stream",
     "text": [
      "inf\n",
      "------\n",
      "Is finite?: False\n",
      "Is infinite?: True\n",
      "\n",
      "\n",
      "\n",
      "-inf\n",
      "------\n",
      "Is finite?: False\n",
      "Is infinite?: True\n",
      "\n",
      "\n",
      "\n",
      "nan\n",
      "------\n",
      "Is finite?: False\n",
      "Is infinite?: False\n",
      "\n",
      "\n",
      "\n"
     ]
    }
   ],
   "source": [
    "# Finite vs. infinite\n",
    "for i in vec2:\n",
    "    print(i)\n",
    "    print('------')\n",
    "    print('Is finite?: ' + str(np.isfinite(i)))\n",
    "    print('Is infinite?: ' + str(np.isinf(i)))\n",
    "    print('\\n\\n')"
   ]
  },
  {
   "cell_type": "code",
   "execution_count": null,
   "metadata": {},
   "outputs": [],
   "source": [
    "vec2[0] + 1"
   ]
  },
  {
   "cell_type": "code",
   "execution_count": null,
   "metadata": {},
   "outputs": [],
   "source": [
    "vec2[0] * -1"
   ]
  },
  {
   "cell_type": "code",
   "execution_count": null,
   "metadata": {},
   "outputs": [],
   "source": [
    "vec2[2] + 1"
   ]
  },
  {
   "cell_type": "code",
   "execution_count": null,
   "metadata": {},
   "outputs": [],
   "source": [
    "2 ** vec2[1]"
   ]
  },
  {
   "cell_type": "code",
   "execution_count": null,
   "metadata": {},
   "outputs": [],
   "source": [
    "2 ** vec2[0]"
   ]
  },
  {
   "cell_type": "code",
   "execution_count": null,
   "metadata": {},
   "outputs": [],
   "source": [
    "np.inf - np.inf"
   ]
  },
  {
   "cell_type": "code",
   "execution_count": null,
   "metadata": {},
   "outputs": [],
   "source": [
    "vec3 = np.array([999], dtype=np.float64)\n",
    "vec3"
   ]
  },
  {
   "cell_type": "code",
   "execution_count": null,
   "metadata": {},
   "outputs": [],
   "source": [
    "vec3[0] ** vec3[0]    # Huge; gives inf, even though this is finite"
   ]
  },
  {
   "cell_type": "code",
   "execution_count": null,
   "metadata": {},
   "outputs": [],
   "source": [
    "vec4 = np.ones(5)\n",
    "vec4[0] = np.nan\n",
    "vec4"
   ]
  },
  {
   "cell_type": "code",
   "execution_count": null,
   "metadata": {},
   "outputs": [],
   "source": [
    "np.sum(vec4)"
   ]
  },
  {
   "cell_type": "code",
   "execution_count": null,
   "metadata": {},
   "outputs": [],
   "source": [
    "np.nansum(vec4)    # Ignores nans"
   ]
  }
 ],
 "metadata": {
  "anaconda-cloud": {},
  "kernelspec": {
   "display_name": "Python 3",
   "language": "python",
   "name": "python3"
  },
  "language_info": {
   "codemirror_mode": {
    "name": "ipython",
    "version": 3
   },
   "file_extension": ".py",
   "mimetype": "text/x-python",
   "name": "python",
   "nbconvert_exporter": "python",
   "pygments_lexer": "ipython3",
   "version": "3.7.4"
  }
 },
 "nbformat": 4,
 "nbformat_minor": 1
}
