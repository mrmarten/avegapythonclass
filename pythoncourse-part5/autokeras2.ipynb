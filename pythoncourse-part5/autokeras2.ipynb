{
 "cells": [
  {
   "cell_type": "markdown",
   "metadata": {},
   "source": [
    "# 2. Text classification and regression"
   ]
  },
  {
   "cell_type": "markdown",
   "metadata": {},
   "source": [
    "### 2.1 Text classification for Reuters news"
   ]
  },
  {
   "cell_type": "code",
   "execution_count": 8,
   "metadata": {},
   "outputs": [
    {
     "name": "stdout",
     "output_type": "stream",
     "text": [
      "WARNING:tensorflow:Unresolved object in checkpoint: (root).optimizer.iter\n",
      "WARNING:tensorflow:Unresolved object in checkpoint: (root).optimizer.beta_1\n",
      "WARNING:tensorflow:Unresolved object in checkpoint: (root).optimizer.beta_2\n",
      "WARNING:tensorflow:Unresolved object in checkpoint: (root).optimizer.decay\n",
      "WARNING:tensorflow:Unresolved object in checkpoint: (root).optimizer.learning_rate\n",
      "WARNING:tensorflow:A checkpoint was restored (e.g. tf.train.Checkpoint.restore or tf.keras.Model.load_weights) but not all checkpointed values were used. See above for specific issues. Use expect_partial() on the load status object, e.g. tf.train.Checkpoint.restore(...).expect_partial(), to silence these warnings, or use assert_consumed() to make the check explicit. See https://www.tensorflow.org/guide/checkpoint#loading_mechanics for details.\n",
      "WARNING:tensorflow:Unresolved object in checkpoint: (root).optimizer.iter\n",
      "WARNING:tensorflow:Unresolved object in checkpoint: (root).optimizer.beta_1\n",
      "WARNING:tensorflow:Unresolved object in checkpoint: (root).optimizer.beta_2\n",
      "WARNING:tensorflow:Unresolved object in checkpoint: (root).optimizer.decay\n",
      "WARNING:tensorflow:Unresolved object in checkpoint: (root).optimizer.learning_rate\n",
      "WARNING:tensorflow:A checkpoint was restored (e.g. tf.train.Checkpoint.restore or tf.keras.Model.load_weights) but not all checkpointed values were used. See above for specific issues. Use expect_partial() on the load status object, e.g. tf.train.Checkpoint.restore(...).expect_partial(), to silence these warnings, or use assert_consumed() to make the check explicit. See https://www.tensorflow.org/guide/checkpoint#loading_mechanics for details.\n",
      "(25000,)\n",
      "(25000, 1)\n",
      "<START> this film was just brilliant casting locat\n"
     ]
    }
   ],
   "source": [
    "import numpy as np\n",
    "from tensorflow.keras.datasets import imdb\n",
    "\n",
    "# Load the integer sequence the IMDB dataset with Keras.\n",
    "index_offset = 3  # word index offset\n",
    "(x_train, y_train), (x_test, y_test) = imdb.load_data(num_words=15000,\n",
    "                                                      index_from=index_offset)\n",
    "y_train = y_train.reshape(-1, 1)\n",
    "y_test = y_test.reshape(-1, 1)\n",
    "# Prepare the dictionary of index to word.\n",
    "word_to_id = imdb.get_word_index()\n",
    "word_to_id = {k: (v + index_offset) for k, v in word_to_id.items()}\n",
    "word_to_id[\"<PAD>\"] = 0\n",
    "word_to_id[\"<START>\"] = 1\n",
    "word_to_id[\"<UNK>\"] = 2\n",
    "id_to_word = {value: key for key, value in word_to_id.items()}\n",
    "# Convert the word indices to words.\n",
    "x_train = list(map(lambda sentence: ' '.join(\n",
    "    id_to_word[i] for i in sentence), x_train))\n",
    "x_test = list(map(lambda sentence: ' '.join(\n",
    "    id_to_word[i] for i in sentence), x_test))\n",
    "x_train = np.array(x_train, dtype=np.str)\n",
    "x_test = np.array(x_test, dtype=np.str)\n",
    "print(x_train.shape)  # (25000,)\n",
    "print(y_train.shape)  # (25000, 1)\n",
    "print(x_train[0][:50])  # <START> this film was just brilliant casting <UNK>"
   ]
  },
  {
   "cell_type": "code",
   "execution_count": 9,
   "metadata": {},
   "outputs": [
    {
     "name": "stdout",
     "output_type": "stream",
     "text": [
      "Train for 625 steps, validate for 157 steps\n",
      "566/625 [==========================>...] - ETA: 6:22 - loss: 0.6921 - accuracy: 0.53 - ETA: 2:17 - loss: 0.6870 - accuracy: 0.54 - ETA: 1:15 - loss: 0.6870 - accuracy: 0.55 - ETA: 54s - loss: 0.7042 - accuracy: 0.5069 - ETA: 43s - loss: 0.7022 - accuracy: 0.500 - ETA: 37s - loss: 0.6994 - accuracy: 0.512 - ETA: 32s - loss: 0.6991 - accuracy: 0.505 - ETA: 29s - loss: 0.6971 - accuracy: 0.507 - ETA: 27s - loss: 0.6992 - accuracy: 0.500 - ETA: 25s - loss: 0.6985 - accuracy: 0.502 - ETA: 24s - loss: 0.6988 - accuracy: 0.494 - ETA: 23s - loss: 0.6986 - accuracy: 0.497 - ETA: 22s - loss: 0.6976 - accuracy: 0.499 - ETA: 21s - loss: 0.6964 - accuracy: 0.503 - ETA: 20s - loss: 0.6970 - accuracy: 0.501 - ETA: 19s - loss: 0.6977 - accuracy: 0.497 - ETA: 19s - loss: 0.6979 - accuracy: 0.495 - ETA: 18s - loss: 0.6971 - accuracy: 0.501 - ETA: 18s - loss: 0.6968 - accuracy: 0.503 - ETA: 17s - loss: 0.6965 - accuracy: 0.504 - ETA: 17s - loss: 0.6972 - accuracy: 0.503 - ETA: 16s - loss: 0.6967 - accuracy: 0.505 - ETA: 16s - loss: 0.6966 - accuracy: 0.507 - ETA: 16s - loss: 0.6958 - accuracy: 0.510 - ETA: 15s - loss: 0.6959 - accuracy: 0.508 - ETA: 15s - loss: 0.6959 - accuracy: 0.508 - ETA: 15s - loss: 0.6961 - accuracy: 0.508 - ETA: 15s - loss: 0.6963 - accuracy: 0.506 - ETA: 14s - loss: 0.6964 - accuracy: 0.504 - ETA: 14s - loss: 0.6962 - accuracy: 0.504 - ETA: 14s - loss: 0.6968 - accuracy: 0.500 - ETA: 14s - loss: 0.6969 - accuracy: 0.497 - ETA: 14s - loss: 0.6969 - accuracy: 0.496 - ETA: 13s - loss: 0.6966 - accuracy: 0.499 - ETA: 13s - loss: 0.6964 - accuracy: 0.501 - ETA: 13s - loss: 0.6962 - accuracy: 0.500 - ETA: 13s - loss: 0.6961 - accuracy: 0.501 - ETA: 13s - loss: 0.6962 - accuracy: 0.502 - ETA: 13s - loss: 0.6960 - accuracy: 0.503 - ETA: 12s - loss: 0.6959 - accuracy: 0.502 - ETA: 12s - loss: 0.6958 - accuracy: 0.502 - ETA: 12s - loss: 0.6957 - accuracy: 0.503 - ETA: 12s - loss: 0.6953 - accuracy: 0.506 - ETA: 12s - loss: 0.6952 - accuracy: 0.505 - ETA: 12s - loss: 0.6949 - accuracy: 0.507 - ETA: 12s - loss: 0.6947 - accuracy: 0.507 - ETA: 11s - loss: 0.6942 - accuracy: 0.510 - ETA: 11s - loss: 0.6938 - accuracy: 0.512 - ETA: 11s - loss: 0.6930 - accuracy: 0.515 - ETA: 11s - loss: 0.6929 - accuracy: 0.515 - ETA: 11s - loss: 0.6924 - accuracy: 0.517 - ETA: 11s - loss: 0.6916 - accuracy: 0.521 - ETA: 11s - loss: 0.6908 - accuracy: 0.523 - ETA: 11s - loss: 0.6898 - accuracy: 0.525 - ETA: 11s - loss: 0.6879 - accuracy: 0.530 - ETA: 10s - loss: 0.6866 - accuracy: 0.533 - ETA: 10s - loss: 0.6850 - accuracy: 0.536 - ETA: 10s - loss: 0.6834 - accuracy: 0.539 - ETA: 10s - loss: 0.6809 - accuracy: 0.543 - ETA: 10s - loss: 0.6800 - accuracy: 0.544 - ETA: 10s - loss: 0.6781 - accuracy: 0.547 - ETA: 10s - loss: 0.6761 - accuracy: 0.550 - ETA: 10s - loss: 0.6735 - accuracy: 0.554 - ETA: 10s - loss: 0.6721 - accuracy: 0.557 - ETA: 10s - loss: 0.6718 - accuracy: 0.559 - ETA: 9s - loss: 0.6707 - accuracy: 0.560 - ETA: 9s - loss: 0.6682 - accuracy: 0.56 - ETA: 9s - loss: 0.6663 - accuracy: 0.56 - ETA: 9s - loss: 0.6636 - accuracy: 0.56 - ETA: 9s - loss: 0.6613 - accuracy: 0.57 - ETA: 9s - loss: 0.6597 - accuracy: 0.57 - ETA: 9s - loss: 0.6567 - accuracy: 0.57 - ETA: 9s - loss: 0.6541 - accuracy: 0.57 - ETA: 9s - loss: 0.6507 - accuracy: 0.58 - ETA: 9s - loss: 0.6494 - accuracy: 0.58 - ETA: 9s - loss: 0.6468 - accuracy: 0.58 - ETA: 9s - loss: 0.6444 - accuracy: 0.59 - ETA: 9s - loss: 0.6421 - accuracy: 0.59 - ETA: 8s - loss: 0.6395 - accuracy: 0.59 - ETA: 8s - loss: 0.6369 - accuracy: 0.59 - ETA: 8s - loss: 0.6357 - accuracy: 0.59 - ETA: 8s - loss: 0.6339 - accuracy: 0.60 - ETA: 8s - loss: 0.6314 - accuracy: 0.60 - ETA: 8s - loss: 0.6283 - accuracy: 0.60 - ETA: 8s - loss: 0.6253 - accuracy: 0.61 - ETA: 8s - loss: 0.6226 - accuracy: 0.61 - ETA: 8s - loss: 0.6209 - accuracy: 0.61 - ETA: 8s - loss: 0.6187 - accuracy: 0.61 - ETA: 8s - loss: 0.6163 - accuracy: 0.61 - ETA: 8s - loss: 0.6144 - accuracy: 0.62 - ETA: 7s - loss: 0.6120 - accuracy: 0.62 - ETA: 7s - loss: 0.6098 - accuracy: 0.62 - ETA: 7s - loss: 0.6080 - accuracy: 0.62 - ETA: 7s - loss: 0.6071 - accuracy: 0.62 - ETA: 7s - loss: 0.6039 - accuracy: 0.63 - ETA: 7s - loss: 0.6008 - accuracy: 0.63 - ETA: 7s - loss: 0.5990 - accuracy: 0.63 - ETA: 7s - loss: 0.5963 - accuracy: 0.63 - ETA: 7s - loss: 0.5950 - accuracy: 0.63 - ETA: 7s - loss: 0.5926 - accuracy: 0.64 - ETA: 7s - loss: 0.5914 - accuracy: 0.64 - ETA: 7s - loss: 0.5888 - accuracy: 0.64 - ETA: 7s - loss: 0.5871 - accuracy: 0.64 - ETA: 7s - loss: 0.5859 - accuracy: 0.64 - ETA: 6s - loss: 0.5845 - accuracy: 0.64 - ETA: 6s - loss: 0.5828 - accuracy: 0.65 - ETA: 6s - loss: 0.5821 - accuracy: 0.65 - ETA: 6s - loss: 0.5795 - accuracy: 0.65 - ETA: 6s - loss: 0.5777 - accuracy: 0.65 - ETA: 6s - loss: 0.5761 - accuracy: 0.65 - ETA: 6s - loss: 0.5754 - accuracy: 0.65 - ETA: 6s - loss: 0.5732 - accuracy: 0.66 - ETA: 6s - loss: 0.5709 - accuracy: 0.66 - ETA: 6s - loss: 0.5691 - accuracy: 0.66 - ETA: 6s - loss: 0.5670 - accuracy: 0.66 - ETA: 6s - loss: 0.5653 - accuracy: 0.66 - ETA: 6s - loss: 0.5636 - accuracy: 0.66 - ETA: 6s - loss: 0.5614 - accuracy: 0.67 - ETA: 5s - loss: 0.5601 - accuracy: 0.67 - ETA: 5s - loss: 0.5591 - accuracy: 0.67 - ETA: 5s - loss: 0.5572 - accuracy: 0.67 - ETA: 5s - loss: 0.5561 - accuracy: 0.67 - ETA: 5s - loss: 0.5551 - accuracy: 0.67 - ETA: 5s - loss: 0.5535 - accuracy: 0.67 - ETA: 5s - loss: 0.5531 - accuracy: 0.67 - ETA: 5s - loss: 0.5515 - accuracy: 0.67 - ETA: 5s - loss: 0.5499 - accuracy: 0.68 - ETA: 5s - loss: 0.5484 - accuracy: 0.68 - ETA: 5s - loss: 0.5475 - accuracy: 0.68 - ETA: 5s - loss: 0.5463 - accuracy: 0.68 - ETA: 5s - loss: 0.5456 - accuracy: 0.68 - ETA: 5s - loss: 0.5448 - accuracy: 0.68 - ETA: 5s - loss: 0.5435 - accuracy: 0.68 - ETA: 4s - loss: 0.5433 - accuracy: 0.68 - ETA: 4s - loss: 0.5421 - accuracy: 0.68 - ETA: 4s - loss: 0.5406 - accuracy: 0.68 - ETA: 4s - loss: 0.5395 - accuracy: 0.69 - ETA: 4s - loss: 0.5384 - accuracy: 0.69 - ETA: 4s - loss: 0.5365 - accuracy: 0.69 - ETA: 4s - loss: 0.5350 - accuracy: 0.69 - ETA: 4s - loss: 0.5336 - accuracy: 0.69 - ETA: 4s - loss: 0.5320 - accuracy: 0.69 - ETA: 4s - loss: 0.5300 - accuracy: 0.69 - ETA: 4s - loss: 0.5291 - accuracy: 0.69 - ETA: 4s - loss: 0.5279 - accuracy: 0.69 - ETA: 4s - loss: 0.5269 - accuracy: 0.70 - ETA: 4s - loss: 0.5261 - accuracy: 0.70 - ETA: 4s - loss: 0.5252 - accuracy: 0.70 - ETA: 3s - loss: 0.5247 - accuracy: 0.70 - ETA: 3s - loss: 0.5234 - accuracy: 0.70 - ETA: 3s - loss: 0.5215 - accuracy: 0.70 - ETA: 3s - loss: 0.5206 - accuracy: 0.70 - ETA: 3s - loss: 0.5195 - accuracy: 0.70 - ETA: 3s - loss: 0.5180 - accuracy: 0.70 - ETA: 3s - loss: 0.5163 - accuracy: 0.70 - ETA: 3s - loss: 0.5153 - accuracy: 0.71 - ETA: 3s - loss: 0.5145 - accuracy: 0.71 - ETA: 3s - loss: 0.5140 - accuracy: 0.71 - ETA: 3s - loss: 0.5130 - accuracy: 0.71 - ETA: 3s - loss: 0.5118 - accuracy: 0.71 - ETA: 3s - loss: 0.5113 - accuracy: 0.71 - ETA: 3s - loss: 0.5096 - accuracy: 0.71 - ETA: 3s - loss: 0.5084 - accuracy: 0.71 - ETA: 2s - loss: 0.5075 - accuracy: 0.71 - ETA: 2s - loss: 0.5059 - accuracy: 0.71 - ETA: 2s - loss: 0.5053 - accuracy: 0.71 - ETA: 2s - loss: 0.5042 - accuracy: 0.71 - ETA: 2s - loss: 0.5033 - accuracy: 0.72 - ETA: 2s - loss: 0.5024 - accuracy: 0.72 - ETA: 2s - loss: 0.5008 - accuracy: 0.72 - ETA: 2s - loss: 0.4999 - accuracy: 0.72 - ETA: 2s - loss: 0.4990 - accuracy: 0.72 - ETA: 2s - loss: 0.4981 - accuracy: 0.72 - ETA: 2s - loss: 0.4973 - accuracy: 0.72 - ETA: 2s - loss: 0.4962 - accuracy: 0.72 - ETA: 2s - loss: 0.4951 - accuracy: 0.72 - ETA: 2s - loss: 0.4941 - accuracy: 0.72 - ETA: 2s - loss: 0.4930 - accuracy: 0.72 - ETA: 1s - loss: 0.4916 - accuracy: 0.72 - ETA: 1s - loss: 0.4903 - accuracy: 0.73 - ETA: 1s - loss: 0.4893 - accuracy: 0.73 - ETA: 1s - loss: 0.4882 - accuracy: 0.73 - ETA: 1s - loss: 0.4879 - accuracy: 0.73 - ETA: 1s - loss: 0.4872 - accuracy: 0.73 - ETA: 1s - loss: 0.4860 - accuracy: 0.73 - ETA: 1s - loss: 0.4850 - accuracy: 0.73 - ETA: 1s - loss: 0.4837 - accuracy: 0.73 - ETA: 1s - loss: 0.4823 - accuracy: 0.73 - ETA: 1s - loss: 0.4818 - accuracy: 0.73 - ETA: 1s - loss: 0.4803 - accuracy: 0.7381\b\b\b\b\b\b\b\b\b\b\b\b\b\b\b\b\b\b\b\b\b\b\b\b\b\b\b\b\b\b\b\b\b\b\b\b\b\b\b\b\b\b\b\b\b\b\b\b\b\b\b\b\b\b\b\b\b\b\b\b\b\b\b\b\b\b\b\b\b\b\b\b\b\b\b\b\b\b\b\b\b\b\b\b625/625 [==============================] - ETA: 1s - loss: 0.4793 - accuracy: 0.73 - ETA: 1s - loss: 0.4784 - accuracy: 0.73 - ETA: 1s - loss: 0.4778 - accuracy: 0.74 - ETA: 1s - loss: 0.4769 - accuracy: 0.74 - ETA: 0s - loss: 0.4758 - accuracy: 0.74 - ETA: 0s - loss: 0.4748 - accuracy: 0.74 - ETA: 0s - loss: 0.4743 - accuracy: 0.74 - ETA: 0s - loss: 0.4738 - accuracy: 0.74 - ETA: 0s - loss: 0.4731 - accuracy: 0.74 - ETA: 0s - loss: 0.4725 - accuracy: 0.74 - ETA: 0s - loss: 0.4714 - accuracy: 0.74 - ETA: 0s - loss: 0.4707 - accuracy: 0.74 - ETA: 0s - loss: 0.4697 - accuracy: 0.74 - ETA: 0s - loss: 0.4689 - accuracy: 0.74 - ETA: 0s - loss: 0.4683 - accuracy: 0.74 - ETA: 0s - loss: 0.4671 - accuracy: 0.74 - ETA: 0s - loss: 0.4661 - accuracy: 0.74 - ETA: 0s - loss: 0.4657 - accuracy: 0.74 - ETA: 0s - loss: 0.4654 - accuracy: 0.75 - 15s 24ms/step - loss: 0.4647 - accuracy: 0.7506 - val_loss: 0.2854 - val_accuracy: 0.8850\n"
     ]
    },
    {
     "data": {
      "text/html": [
       "<span style=\"color:#4527A0\"><h1 style=\"font-size:18px\">Trial complete</h1></span>"
      ],
      "text/plain": [
       "<IPython.core.display.HTML object>"
      ]
     },
     "metadata": {},
     "output_type": "display_data"
    },
    {
     "data": {
      "text/html": [
       "<span style=\"color:#4527A0\"><h1 style=\"font-size:18px\">Trial summary</h1></span>"
      ],
      "text/plain": [
       "<IPython.core.display.HTML object>"
      ]
     },
     "metadata": {},
     "output_type": "display_data"
    },
    {
     "data": {
      "text/html": [
       "<span style=\"color:cyan\"> |-Trial ID: b456885e5a5ba84ea945971db1013ceb</span>"
      ],
      "text/plain": [
       "<IPython.core.display.HTML object>"
      ]
     },
     "metadata": {},
     "output_type": "display_data"
    },
    {
     "data": {
      "text/html": [
       "<span style=\"color:cyan\"> |-Score: 0.28540893444779575</span>"
      ],
      "text/plain": [
       "<IPython.core.display.HTML object>"
      ]
     },
     "metadata": {},
     "output_type": "display_data"
    },
    {
     "data": {
      "text/html": [
       "<span style=\"color:cyan\"> |-Best step: 0</span>"
      ],
      "text/plain": [
       "<IPython.core.display.HTML object>"
      ]
     },
     "metadata": {},
     "output_type": "display_data"
    },
    {
     "data": {
      "text/html": [
       "<span style=\"color:#7E57C2\"><h2 style=\"font-size:16px\">Hyperparameters:</h2></span>"
      ],
      "text/plain": [
       "<IPython.core.display.HTML object>"
      ]
     },
     "metadata": {},
     "output_type": "display_data"
    },
    {
     "data": {
      "text/html": [
       "<span style=\"color:cyan\"> |-classification_head_1/dropout_rate: 0</span>"
      ],
      "text/plain": [
       "<IPython.core.display.HTML object>"
      ]
     },
     "metadata": {},
     "output_type": "display_data"
    },
    {
     "data": {
      "text/html": [
       "<span style=\"color:blue\"> |-classification_head_2/dropout_rate: 0</span>"
      ],
      "text/plain": [
       "<IPython.core.display.HTML object>"
      ]
     },
     "metadata": {},
     "output_type": "display_data"
    },
    {
     "data": {
      "text/html": [
       "<span style=\"color:cyan\"> |-optimizer: adam</span>"
      ],
      "text/plain": [
       "<IPython.core.display.HTML object>"
      ]
     },
     "metadata": {},
     "output_type": "display_data"
    },
    {
     "data": {
      "text/html": [
       "<span style=\"color:blue\"> |-text_block_1/conv_block_1/dropout_rate: 0</span>"
      ],
      "text/plain": [
       "<IPython.core.display.HTML object>"
      ]
     },
     "metadata": {},
     "output_type": "display_data"
    },
    {
     "data": {
      "text/html": [
       "<span style=\"color:cyan\"> |-text_block_1/conv_block_1/filters_0_0: 256</span>"
      ],
      "text/plain": [
       "<IPython.core.display.HTML object>"
      ]
     },
     "metadata": {},
     "output_type": "display_data"
    },
    {
     "data": {
      "text/html": [
       "<span style=\"color:blue\"> |-text_block_1/conv_block_1/kernel_size: 5</span>"
      ],
      "text/plain": [
       "<IPython.core.display.HTML object>"
      ]
     },
     "metadata": {},
     "output_type": "display_data"
    },
    {
     "data": {
      "text/html": [
       "<span style=\"color:cyan\"> |-text_block_1/conv_block_1/max_pooling: False</span>"
      ],
      "text/plain": [
       "<IPython.core.display.HTML object>"
      ]
     },
     "metadata": {},
     "output_type": "display_data"
    },
    {
     "data": {
      "text/html": [
       "<span style=\"color:blue\"> |-text_block_1/conv_block_1/num_blocks: 1</span>"
      ],
      "text/plain": [
       "<IPython.core.display.HTML object>"
      ]
     },
     "metadata": {},
     "output_type": "display_data"
    },
    {
     "data": {
      "text/html": [
       "<span style=\"color:cyan\"> |-text_block_1/conv_block_1/num_layers: 1</span>"
      ],
      "text/plain": [
       "<IPython.core.display.HTML object>"
      ]
     },
     "metadata": {},
     "output_type": "display_data"
    },
    {
     "data": {
      "text/html": [
       "<span style=\"color:blue\"> |-text_block_1/conv_block_1/separable: False</span>"
      ],
      "text/plain": [
       "<IPython.core.display.HTML object>"
      ]
     },
     "metadata": {},
     "output_type": "display_data"
    },
    {
     "data": {
      "text/html": [
       "<span style=\"color:cyan\"> |-text_block_1/dense_block_1/dropout_rate: 0.5</span>"
      ],
      "text/plain": [
       "<IPython.core.display.HTML object>"
      ]
     },
     "metadata": {},
     "output_type": "display_data"
    },
    {
     "data": {
      "text/html": [
       "<span style=\"color:blue\"> |-text_block_1/dense_block_1/num_layers: 1</span>"
      ],
      "text/plain": [
       "<IPython.core.display.HTML object>"
      ]
     },
     "metadata": {},
     "output_type": "display_data"
    },
    {
     "data": {
      "text/html": [
       "<span style=\"color:cyan\"> |-text_block_1/dense_block_1/units_0: 256</span>"
      ],
      "text/plain": [
       "<IPython.core.display.HTML object>"
      ]
     },
     "metadata": {},
     "output_type": "display_data"
    },
    {
     "data": {
      "text/html": [
       "<span style=\"color:blue\"> |-text_block_1/dense_block_1/use_batchnorm: False</span>"
      ],
      "text/plain": [
       "<IPython.core.display.HTML object>"
      ]
     },
     "metadata": {},
     "output_type": "display_data"
    },
    {
     "data": {
      "text/html": [
       "<span style=\"color:cyan\"> |-text_block_1/embedding_1/dropout_rate: 0.25</span>"
      ],
      "text/plain": [
       "<IPython.core.display.HTML object>"
      ]
     },
     "metadata": {},
     "output_type": "display_data"
    },
    {
     "data": {
      "text/html": [
       "<span style=\"color:blue\"> |-text_block_1/embedding_1/embedding_dim: 64</span>"
      ],
      "text/plain": [
       "<IPython.core.display.HTML object>"
      ]
     },
     "metadata": {},
     "output_type": "display_data"
    },
    {
     "data": {
      "text/html": [
       "<span style=\"color:cyan\"> |-text_block_1/embedding_1/pretraining: none</span>"
      ],
      "text/plain": [
       "<IPython.core.display.HTML object>"
      ]
     },
     "metadata": {},
     "output_type": "display_data"
    },
    {
     "data": {
      "text/html": [
       "<span style=\"color:blue\"> |-text_block_1/spatial_reduction_1/reduction_type: global_max</span>"
      ],
      "text/plain": [
       "<IPython.core.display.HTML object>"
      ]
     },
     "metadata": {},
     "output_type": "display_data"
    },
    {
     "data": {
      "text/html": [
       "<span style=\"color:cyan\"> |-text_block_1/text_to_int_sequence_1/output_sequence_length: 512</span>"
      ],
      "text/plain": [
       "<IPython.core.display.HTML object>"
      ]
     },
     "metadata": {},
     "output_type": "display_data"
    },
    {
     "data": {
      "text/html": [
       "<span style=\"color:blue\"> |-text_block_1/vectorizer: sequence</span>"
      ],
      "text/plain": [
       "<IPython.core.display.HTML object>"
      ]
     },
     "metadata": {},
     "output_type": "display_data"
    },
    {
     "data": {
      "text/html": [
       "<span style=\"color:cyan\"> |-text_block_2/conv_block_1/dropout_rate: 0</span>"
      ],
      "text/plain": [
       "<IPython.core.display.HTML object>"
      ]
     },
     "metadata": {},
     "output_type": "display_data"
    },
    {
     "data": {
      "text/html": [
       "<span style=\"color:blue\"> |-text_block_2/conv_block_1/filters_0_0: 32</span>"
      ],
      "text/plain": [
       "<IPython.core.display.HTML object>"
      ]
     },
     "metadata": {},
     "output_type": "display_data"
    },
    {
     "data": {
      "text/html": [
       "<span style=\"color:cyan\"> |-text_block_2/conv_block_1/filters_0_1: 32</span>"
      ],
      "text/plain": [
       "<IPython.core.display.HTML object>"
      ]
     },
     "metadata": {},
     "output_type": "display_data"
    },
    {
     "data": {
      "text/html": [
       "<span style=\"color:blue\"> |-text_block_2/conv_block_1/filters_1_0: 32</span>"
      ],
      "text/plain": [
       "<IPython.core.display.HTML object>"
      ]
     },
     "metadata": {},
     "output_type": "display_data"
    },
    {
     "data": {
      "text/html": [
       "<span style=\"color:cyan\"> |-text_block_2/conv_block_1/filters_1_1: 32</span>"
      ],
      "text/plain": [
       "<IPython.core.display.HTML object>"
      ]
     },
     "metadata": {},
     "output_type": "display_data"
    },
    {
     "data": {
      "text/html": [
       "<span style=\"color:blue\"> |-text_block_2/conv_block_1/kernel_size: 3</span>"
      ],
      "text/plain": [
       "<IPython.core.display.HTML object>"
      ]
     },
     "metadata": {},
     "output_type": "display_data"
    },
    {
     "data": {
      "text/html": [
       "<span style=\"color:cyan\"> |-text_block_2/conv_block_1/max_pooling: True</span>"
      ],
      "text/plain": [
       "<IPython.core.display.HTML object>"
      ]
     },
     "metadata": {},
     "output_type": "display_data"
    },
    {
     "data": {
      "text/html": [
       "<span style=\"color:blue\"> |-text_block_2/conv_block_1/num_blocks: 2</span>"
      ],
      "text/plain": [
       "<IPython.core.display.HTML object>"
      ]
     },
     "metadata": {},
     "output_type": "display_data"
    },
    {
     "data": {
      "text/html": [
       "<span style=\"color:cyan\"> |-text_block_2/conv_block_1/num_layers: 2</span>"
      ],
      "text/plain": [
       "<IPython.core.display.HTML object>"
      ]
     },
     "metadata": {},
     "output_type": "display_data"
    },
    {
     "data": {
      "text/html": [
       "<span style=\"color:blue\"> |-text_block_2/conv_block_1/separable: False</span>"
      ],
      "text/plain": [
       "<IPython.core.display.HTML object>"
      ]
     },
     "metadata": {},
     "output_type": "display_data"
    },
    {
     "data": {
      "text/html": [
       "<span style=\"color:cyan\"> |-text_block_2/dense_block_1/dropout_rate: 0</span>"
      ],
      "text/plain": [
       "<IPython.core.display.HTML object>"
      ]
     },
     "metadata": {},
     "output_type": "display_data"
    },
    {
     "data": {
      "text/html": [
       "<span style=\"color:blue\"> |-text_block_2/dense_block_1/num_layers: 2</span>"
      ],
      "text/plain": [
       "<IPython.core.display.HTML object>"
      ]
     },
     "metadata": {},
     "output_type": "display_data"
    },
    {
     "data": {
      "text/html": [
       "<span style=\"color:cyan\"> |-text_block_2/dense_block_1/units_0: 32</span>"
      ],
      "text/plain": [
       "<IPython.core.display.HTML object>"
      ]
     },
     "metadata": {},
     "output_type": "display_data"
    },
    {
     "data": {
      "text/html": [
       "<span style=\"color:blue\"> |-text_block_2/dense_block_1/units_1: 32</span>"
      ],
      "text/plain": [
       "<IPython.core.display.HTML object>"
      ]
     },
     "metadata": {},
     "output_type": "display_data"
    },
    {
     "data": {
      "text/html": [
       "<span style=\"color:cyan\"> |-text_block_2/dense_block_1/use_batchnorm: False</span>"
      ],
      "text/plain": [
       "<IPython.core.display.HTML object>"
      ]
     },
     "metadata": {},
     "output_type": "display_data"
    },
    {
     "data": {
      "text/html": [
       "<span style=\"color:blue\"> |-text_block_2/embedding_1/dropout_rate: 0.25</span>"
      ],
      "text/plain": [
       "<IPython.core.display.HTML object>"
      ]
     },
     "metadata": {},
     "output_type": "display_data"
    },
    {
     "data": {
      "text/html": [
       "<span style=\"color:cyan\"> |-text_block_2/embedding_1/embedding_dim: 128</span>"
      ],
      "text/plain": [
       "<IPython.core.display.HTML object>"
      ]
     },
     "metadata": {},
     "output_type": "display_data"
    },
    {
     "data": {
      "text/html": [
       "<span style=\"color:blue\"> |-text_block_2/embedding_1/pretraining: none</span>"
      ],
      "text/plain": [
       "<IPython.core.display.HTML object>"
      ]
     },
     "metadata": {},
     "output_type": "display_data"
    },
    {
     "data": {
      "text/html": [
       "<span style=\"color:cyan\"> |-text_block_2/spatial_reduction_1/reduction_type: global_avg</span>"
      ],
      "text/plain": [
       "<IPython.core.display.HTML object>"
      ]
     },
     "metadata": {},
     "output_type": "display_data"
    },
    {
     "data": {
      "text/html": [
       "<span style=\"color:blue\"> |-text_block_2/text_to_int_sequence_1/output_sequence_length: 64</span>"
      ],
      "text/plain": [
       "<IPython.core.display.HTML object>"
      ]
     },
     "metadata": {},
     "output_type": "display_data"
    },
    {
     "data": {
      "text/html": [
       "<span style=\"color:cyan\"> |-text_block_2/vectorizer: sequence</span>"
      ],
      "text/plain": [
       "<IPython.core.display.HTML object>"
      ]
     },
     "metadata": {},
     "output_type": "display_data"
    },
    {
     "name": "stdout",
     "output_type": "stream",
     "text": [
      "Train for 625 steps, validate for 157 steps\n",
      "559/625 [=========================>....] - ETA: 7:52 - loss: 0.6882 - accuracy: 0.59 - ETA: 2:07 - loss: 0.6794 - accuracy: 0.57 - ETA: 1:18 - loss: 0.6846 - accuracy: 0.56 - ETA: 58s - loss: 0.7006 - accuracy: 0.5250 - ETA: 47s - loss: 0.7023 - accuracy: 0.504 - ETA: 41s - loss: 0.6995 - accuracy: 0.515 - ETA: 36s - loss: 0.6972 - accuracy: 0.521 - ETA: 33s - loss: 0.6990 - accuracy: 0.515 - ETA: 30s - loss: 0.7001 - accuracy: 0.511 - ETA: 28s - loss: 0.7003 - accuracy: 0.507 - ETA: 26s - loss: 0.7004 - accuracy: 0.507 - ETA: 26s - loss: 0.6999 - accuracy: 0.505 - ETA: 24s - loss: 0.6993 - accuracy: 0.502 - ETA: 23s - loss: 0.6982 - accuracy: 0.508 - ETA: 22s - loss: 0.6980 - accuracy: 0.506 - ETA: 22s - loss: 0.6981 - accuracy: 0.500 - ETA: 21s - loss: 0.6991 - accuracy: 0.492 - ETA: 20s - loss: 0.6986 - accuracy: 0.491 - ETA: 20s - loss: 0.6983 - accuracy: 0.489 - ETA: 19s - loss: 0.6982 - accuracy: 0.491 - ETA: 19s - loss: 0.6986 - accuracy: 0.489 - ETA: 18s - loss: 0.6981 - accuracy: 0.493 - ETA: 18s - loss: 0.6978 - accuracy: 0.495 - ETA: 17s - loss: 0.6968 - accuracy: 0.500 - ETA: 17s - loss: 0.6972 - accuracy: 0.499 - ETA: 17s - loss: 0.6972 - accuracy: 0.499 - ETA: 16s - loss: 0.6974 - accuracy: 0.499 - ETA: 16s - loss: 0.6975 - accuracy: 0.498 - ETA: 16s - loss: 0.6975 - accuracy: 0.497 - ETA: 16s - loss: 0.6972 - accuracy: 0.498 - ETA: 15s - loss: 0.6973 - accuracy: 0.495 - ETA: 15s - loss: 0.6973 - accuracy: 0.496 - ETA: 15s - loss: 0.6972 - accuracy: 0.495 - ETA: 15s - loss: 0.6973 - accuracy: 0.493 - ETA: 14s - loss: 0.6971 - accuracy: 0.493 - ETA: 14s - loss: 0.6969 - accuracy: 0.495 - ETA: 14s - loss: 0.6966 - accuracy: 0.498 - ETA: 14s - loss: 0.6965 - accuracy: 0.496 - ETA: 14s - loss: 0.6964 - accuracy: 0.497 - ETA: 14s - loss: 0.6963 - accuracy: 0.498 - ETA: 13s - loss: 0.6958 - accuracy: 0.501 - ETA: 13s - loss: 0.6958 - accuracy: 0.500 - ETA: 13s - loss: 0.6953 - accuracy: 0.502 - ETA: 13s - loss: 0.6950 - accuracy: 0.503 - ETA: 13s - loss: 0.6944 - accuracy: 0.504 - ETA: 13s - loss: 0.6939 - accuracy: 0.504 - ETA: 13s - loss: 0.6933 - accuracy: 0.507 - ETA: 12s - loss: 0.6931 - accuracy: 0.508 - ETA: 12s - loss: 0.6924 - accuracy: 0.511 - ETA: 12s - loss: 0.6917 - accuracy: 0.514 - ETA: 12s - loss: 0.6909 - accuracy: 0.515 - ETA: 12s - loss: 0.6900 - accuracy: 0.518 - ETA: 12s - loss: 0.6892 - accuracy: 0.521 - ETA: 12s - loss: 0.6881 - accuracy: 0.524 - ETA: 11s - loss: 0.6864 - accuracy: 0.527 - ETA: 11s - loss: 0.6850 - accuracy: 0.530 - ETA: 11s - loss: 0.6834 - accuracy: 0.535 - ETA: 11s - loss: 0.6823 - accuracy: 0.539 - ETA: 11s - loss: 0.6805 - accuracy: 0.542 - ETA: 11s - loss: 0.6778 - accuracy: 0.546 - ETA: 11s - loss: 0.6770 - accuracy: 0.547 - ETA: 11s - loss: 0.6751 - accuracy: 0.550 - ETA: 11s - loss: 0.6729 - accuracy: 0.553 - ETA: 10s - loss: 0.6705 - accuracy: 0.556 - ETA: 10s - loss: 0.6690 - accuracy: 0.558 - ETA: 10s - loss: 0.6683 - accuracy: 0.560 - ETA: 10s - loss: 0.6677 - accuracy: 0.561 - ETA: 10s - loss: 0.6656 - accuracy: 0.564 - ETA: 10s - loss: 0.6638 - accuracy: 0.566 - ETA: 10s - loss: 0.6620 - accuracy: 0.569 - ETA: 10s - loss: 0.6595 - accuracy: 0.572 - ETA: 10s - loss: 0.6579 - accuracy: 0.573 - ETA: 10s - loss: 0.6554 - accuracy: 0.576 - ETA: 9s - loss: 0.6527 - accuracy: 0.579 - ETA: 9s - loss: 0.6508 - accuracy: 0.58 - ETA: 9s - loss: 0.6505 - accuracy: 0.58 - ETA: 9s - loss: 0.6479 - accuracy: 0.58 - ETA: 9s - loss: 0.6454 - accuracy: 0.58 - ETA: 9s - loss: 0.6437 - accuracy: 0.58 - ETA: 9s - loss: 0.6416 - accuracy: 0.59 - ETA: 9s - loss: 0.6398 - accuracy: 0.59 - ETA: 9s - loss: 0.6371 - accuracy: 0.59 - ETA: 9s - loss: 0.6361 - accuracy: 0.59 - ETA: 9s - loss: 0.6346 - accuracy: 0.60 - ETA: 9s - loss: 0.6316 - accuracy: 0.60 - ETA: 9s - loss: 0.6302 - accuracy: 0.60 - ETA: 9s - loss: 0.6270 - accuracy: 0.60 - ETA: 9s - loss: 0.6249 - accuracy: 0.60 - ETA: 8s - loss: 0.6234 - accuracy: 0.61 - ETA: 8s - loss: 0.6210 - accuracy: 0.61 - ETA: 8s - loss: 0.6197 - accuracy: 0.61 - ETA: 8s - loss: 0.6173 - accuracy: 0.61 - ETA: 8s - loss: 0.6150 - accuracy: 0.62 - ETA: 8s - loss: 0.6129 - accuracy: 0.62 - ETA: 8s - loss: 0.6106 - accuracy: 0.62 - ETA: 8s - loss: 0.6091 - accuracy: 0.62 - ETA: 8s - loss: 0.6066 - accuracy: 0.62 - ETA: 8s - loss: 0.6038 - accuracy: 0.63 - ETA: 8s - loss: 0.6024 - accuracy: 0.63 - ETA: 8s - loss: 0.6000 - accuracy: 0.63 - ETA: 7s - loss: 0.5990 - accuracy: 0.63 - ETA: 7s - loss: 0.5970 - accuracy: 0.63 - ETA: 7s - loss: 0.5950 - accuracy: 0.63 - ETA: 7s - loss: 0.5932 - accuracy: 0.64 - ETA: 7s - loss: 0.5905 - accuracy: 0.64 - ETA: 7s - loss: 0.5888 - accuracy: 0.64 - ETA: 7s - loss: 0.5883 - accuracy: 0.64 - ETA: 7s - loss: 0.5862 - accuracy: 0.64 - ETA: 7s - loss: 0.5856 - accuracy: 0.64 - ETA: 7s - loss: 0.5834 - accuracy: 0.65 - ETA: 7s - loss: 0.5817 - accuracy: 0.65 - ETA: 7s - loss: 0.5803 - accuracy: 0.65 - ETA: 7s - loss: 0.5786 - accuracy: 0.65 - ETA: 6s - loss: 0.5774 - accuracy: 0.65 - ETA: 6s - loss: 0.5749 - accuracy: 0.65 - ETA: 6s - loss: 0.5731 - accuracy: 0.66 - ETA: 6s - loss: 0.5713 - accuracy: 0.66 - ETA: 6s - loss: 0.5696 - accuracy: 0.66 - ETA: 6s - loss: 0.5674 - accuracy: 0.66 - ETA: 6s - loss: 0.5654 - accuracy: 0.66 - ETA: 6s - loss: 0.5639 - accuracy: 0.66 - ETA: 6s - loss: 0.5628 - accuracy: 0.66 - ETA: 6s - loss: 0.5610 - accuracy: 0.67 - ETA: 6s - loss: 0.5592 - accuracy: 0.67 - ETA: 6s - loss: 0.5582 - accuracy: 0.67 - ETA: 6s - loss: 0.5565 - accuracy: 0.67 - ETA: 5s - loss: 0.5553 - accuracy: 0.67 - ETA: 5s - loss: 0.5537 - accuracy: 0.67 - ETA: 5s - loss: 0.5529 - accuracy: 0.67 - ETA: 5s - loss: 0.5504 - accuracy: 0.68 - ETA: 5s - loss: 0.5500 - accuracy: 0.68 - ETA: 5s - loss: 0.5488 - accuracy: 0.68 - ETA: 5s - loss: 0.5481 - accuracy: 0.68 - ETA: 5s - loss: 0.5472 - accuracy: 0.68 - ETA: 5s - loss: 0.5461 - accuracy: 0.68 - ETA: 5s - loss: 0.5458 - accuracy: 0.68 - ETA: 5s - loss: 0.5445 - accuracy: 0.68 - ETA: 5s - loss: 0.5430 - accuracy: 0.68 - ETA: 5s - loss: 0.5419 - accuracy: 0.68 - ETA: 5s - loss: 0.5405 - accuracy: 0.69 - ETA: 4s - loss: 0.5388 - accuracy: 0.69 - ETA: 4s - loss: 0.5375 - accuracy: 0.69 - ETA: 4s - loss: 0.5359 - accuracy: 0.69 - ETA: 4s - loss: 0.5342 - accuracy: 0.69 - ETA: 4s - loss: 0.5322 - accuracy: 0.69 - ETA: 4s - loss: 0.5311 - accuracy: 0.69 - ETA: 4s - loss: 0.5298 - accuracy: 0.69 - ETA: 4s - loss: 0.5291 - accuracy: 0.69 - ETA: 4s - loss: 0.5283 - accuracy: 0.70 - ETA: 4s - loss: 0.5277 - accuracy: 0.70 - ETA: 4s - loss: 0.5272 - accuracy: 0.70 - ETA: 4s - loss: 0.5264 - accuracy: 0.70 - ETA: 4s - loss: 0.5247 - accuracy: 0.70 - ETA: 4s - loss: 0.5242 - accuracy: 0.70 - ETA: 3s - loss: 0.5231 - accuracy: 0.70 - ETA: 3s - loss: 0.5219 - accuracy: 0.70 - ETA: 3s - loss: 0.5203 - accuracy: 0.70 - ETA: 3s - loss: 0.5193 - accuracy: 0.70 - ETA: 3s - loss: 0.5184 - accuracy: 0.70 - ETA: 3s - loss: 0.5174 - accuracy: 0.71 - ETA: 3s - loss: 0.5170 - accuracy: 0.71 - ETA: 3s - loss: 0.5162 - accuracy: 0.71 - ETA: 3s - loss: 0.5155 - accuracy: 0.71 - ETA: 3s - loss: 0.5142 - accuracy: 0.71 - ETA: 3s - loss: 0.5127 - accuracy: 0.71 - ETA: 3s - loss: 0.5119 - accuracy: 0.71 - ETA: 3s - loss: 0.5110 - accuracy: 0.71 - ETA: 3s - loss: 0.5100 - accuracy: 0.71 - ETA: 2s - loss: 0.5094 - accuracy: 0.71 - ETA: 2s - loss: 0.5082 - accuracy: 0.71 - ETA: 2s - loss: 0.5075 - accuracy: 0.71 - ETA: 2s - loss: 0.5057 - accuracy: 0.72 - ETA: 2s - loss: 0.5048 - accuracy: 0.72 - ETA: 2s - loss: 0.5040 - accuracy: 0.72 - ETA: 2s - loss: 0.5029 - accuracy: 0.72 - ETA: 2s - loss: 0.5019 - accuracy: 0.72 - ETA: 2s - loss: 0.5009 - accuracy: 0.72 - ETA: 2s - loss: 0.4995 - accuracy: 0.72 - ETA: 2s - loss: 0.4989 - accuracy: 0.72 - ETA: 2s - loss: 0.4980 - accuracy: 0.72 - ETA: 2s - loss: 0.4971 - accuracy: 0.72 - ETA: 2s - loss: 0.4958 - accuracy: 0.72 - ETA: 1s - loss: 0.4952 - accuracy: 0.72 - ETA: 1s - loss: 0.4941 - accuracy: 0.72 - ETA: 1s - loss: 0.4930 - accuracy: 0.73 - ETA: 1s - loss: 0.4925 - accuracy: 0.73 - ETA: 1s - loss: 0.4916 - accuracy: 0.73 - ETA: 1s - loss: 0.4908 - accuracy: 0.73 - ETA: 1s - loss: 0.4898 - accuracy: 0.73 - ETA: 1s - loss: 0.4885 - accuracy: 0.7340\b\b\b\b\b\b\b\b\b\b\b\b\b\b\b\b\b\b\b\b\b\b\b\b\b\b\b\b\b\b\b\b\b\b\b\b\b\b\b\b\b\b\b\b\b\b\b\b\b\b\b\b\b\b\b\b\b\b\b\b\b\b\b\b\b\b\b\b\b\b\b\b\b\b\b\b\b\b\b\b\b\b\b\b625/625 [==============================] - ETA: 1s - loss: 0.4875 - accuracy: 0.73 - ETA: 1s - loss: 0.4862 - accuracy: 0.73 - ETA: 1s - loss: 0.4849 - accuracy: 0.73 - ETA: 1s - loss: 0.4839 - accuracy: 0.73 - ETA: 1s - loss: 0.4832 - accuracy: 0.73 - ETA: 1s - loss: 0.4826 - accuracy: 0.73 - ETA: 1s - loss: 0.4814 - accuracy: 0.73 - ETA: 0s - loss: 0.4806 - accuracy: 0.73 - ETA: 0s - loss: 0.4798 - accuracy: 0.74 - ETA: 0s - loss: 0.4790 - accuracy: 0.74 - ETA: 0s - loss: 0.4787 - accuracy: 0.74 - ETA: 0s - loss: 0.4778 - accuracy: 0.74 - ETA: 0s - loss: 0.4773 - accuracy: 0.74 - ETA: 0s - loss: 0.4765 - accuracy: 0.74 - ETA: 0s - loss: 0.4754 - accuracy: 0.74 - ETA: 0s - loss: 0.4747 - accuracy: 0.74 - ETA: 0s - loss: 0.4736 - accuracy: 0.74 - ETA: 0s - loss: 0.4724 - accuracy: 0.74 - ETA: 0s - loss: 0.4715 - accuracy: 0.74 - ETA: 0s - loss: 0.4707 - accuracy: 0.74 - ETA: 0s - loss: 0.4702 - accuracy: 0.74 - 16s 25ms/step - loss: 0.4692 - accuracy: 0.7486 - val_loss: 0.2803 - val_accuracy: 0.8856\n"
     ]
    },
    {
     "data": {
      "text/html": [
       "<span style=\"color:#4527A0\"><h1 style=\"font-size:18px\">Trial complete</h1></span>"
      ],
      "text/plain": [
       "<IPython.core.display.HTML object>"
      ]
     },
     "metadata": {},
     "output_type": "display_data"
    },
    {
     "data": {
      "text/html": [
       "<span style=\"color:#4527A0\"><h1 style=\"font-size:18px\">Trial summary</h1></span>"
      ],
      "text/plain": [
       "<IPython.core.display.HTML object>"
      ]
     },
     "metadata": {},
     "output_type": "display_data"
    },
    {
     "data": {
      "text/html": [
       "<span style=\"color:cyan\"> |-Trial ID: ce97cd7f94ce914b0d687db23918162a</span>"
      ],
      "text/plain": [
       "<IPython.core.display.HTML object>"
      ]
     },
     "metadata": {},
     "output_type": "display_data"
    },
    {
     "data": {
      "text/html": [
       "<span style=\"color:cyan\"> |-Score: 0.28026750251935545</span>"
      ],
      "text/plain": [
       "<IPython.core.display.HTML object>"
      ]
     },
     "metadata": {},
     "output_type": "display_data"
    },
    {
     "data": {
      "text/html": [
       "<span style=\"color:cyan\"> |-Best step: 0</span>"
      ],
      "text/plain": [
       "<IPython.core.display.HTML object>"
      ]
     },
     "metadata": {},
     "output_type": "display_data"
    },
    {
     "data": {
      "text/html": [
       "<span style=\"color:#7E57C2\"><h2 style=\"font-size:16px\">Hyperparameters:</h2></span>"
      ],
      "text/plain": [
       "<IPython.core.display.HTML object>"
      ]
     },
     "metadata": {},
     "output_type": "display_data"
    },
    {
     "data": {
      "text/html": [
       "<span style=\"color:cyan\"> |-classification_head_1/dropout_rate: 0</span>"
      ],
      "text/plain": [
       "<IPython.core.display.HTML object>"
      ]
     },
     "metadata": {},
     "output_type": "display_data"
    },
    {
     "data": {
      "text/html": [
       "<span style=\"color:blue\"> |-classification_head_2/dropout_rate: 0</span>"
      ],
      "text/plain": [
       "<IPython.core.display.HTML object>"
      ]
     },
     "metadata": {},
     "output_type": "display_data"
    },
    {
     "data": {
      "text/html": [
       "<span style=\"color:cyan\"> |-optimizer: adam</span>"
      ],
      "text/plain": [
       "<IPython.core.display.HTML object>"
      ]
     },
     "metadata": {},
     "output_type": "display_data"
    },
    {
     "data": {
      "text/html": [
       "<span style=\"color:blue\"> |-text_block_1/conv_block_1/dropout_rate: 0</span>"
      ],
      "text/plain": [
       "<IPython.core.display.HTML object>"
      ]
     },
     "metadata": {},
     "output_type": "display_data"
    },
    {
     "data": {
      "text/html": [
       "<span style=\"color:cyan\"> |-text_block_1/conv_block_1/filters_0_0: 256</span>"
      ],
      "text/plain": [
       "<IPython.core.display.HTML object>"
      ]
     },
     "metadata": {},
     "output_type": "display_data"
    },
    {
     "data": {
      "text/html": [
       "<span style=\"color:blue\"> |-text_block_1/conv_block_1/kernel_size: 5</span>"
      ],
      "text/plain": [
       "<IPython.core.display.HTML object>"
      ]
     },
     "metadata": {},
     "output_type": "display_data"
    },
    {
     "data": {
      "text/html": [
       "<span style=\"color:cyan\"> |-text_block_1/conv_block_1/max_pooling: False</span>"
      ],
      "text/plain": [
       "<IPython.core.display.HTML object>"
      ]
     },
     "metadata": {},
     "output_type": "display_data"
    },
    {
     "data": {
      "text/html": [
       "<span style=\"color:blue\"> |-text_block_1/conv_block_1/num_blocks: 1</span>"
      ],
      "text/plain": [
       "<IPython.core.display.HTML object>"
      ]
     },
     "metadata": {},
     "output_type": "display_data"
    },
    {
     "data": {
      "text/html": [
       "<span style=\"color:cyan\"> |-text_block_1/conv_block_1/num_layers: 1</span>"
      ],
      "text/plain": [
       "<IPython.core.display.HTML object>"
      ]
     },
     "metadata": {},
     "output_type": "display_data"
    },
    {
     "data": {
      "text/html": [
       "<span style=\"color:blue\"> |-text_block_1/conv_block_1/separable: False</span>"
      ],
      "text/plain": [
       "<IPython.core.display.HTML object>"
      ]
     },
     "metadata": {},
     "output_type": "display_data"
    },
    {
     "data": {
      "text/html": [
       "<span style=\"color:cyan\"> |-text_block_1/dense_block_1/dropout_rate: 0.5</span>"
      ],
      "text/plain": [
       "<IPython.core.display.HTML object>"
      ]
     },
     "metadata": {},
     "output_type": "display_data"
    },
    {
     "data": {
      "text/html": [
       "<span style=\"color:blue\"> |-text_block_1/dense_block_1/num_layers: 1</span>"
      ],
      "text/plain": [
       "<IPython.core.display.HTML object>"
      ]
     },
     "metadata": {},
     "output_type": "display_data"
    },
    {
     "data": {
      "text/html": [
       "<span style=\"color:cyan\"> |-text_block_1/dense_block_1/units_0: 256</span>"
      ],
      "text/plain": [
       "<IPython.core.display.HTML object>"
      ]
     },
     "metadata": {},
     "output_type": "display_data"
    },
    {
     "data": {
      "text/html": [
       "<span style=\"color:blue\"> |-text_block_1/dense_block_1/use_batchnorm: False</span>"
      ],
      "text/plain": [
       "<IPython.core.display.HTML object>"
      ]
     },
     "metadata": {},
     "output_type": "display_data"
    },
    {
     "data": {
      "text/html": [
       "<span style=\"color:cyan\"> |-text_block_1/embedding_1/dropout_rate: 0.25</span>"
      ],
      "text/plain": [
       "<IPython.core.display.HTML object>"
      ]
     },
     "metadata": {},
     "output_type": "display_data"
    },
    {
     "data": {
      "text/html": [
       "<span style=\"color:blue\"> |-text_block_1/embedding_1/embedding_dim: 64</span>"
      ],
      "text/plain": [
       "<IPython.core.display.HTML object>"
      ]
     },
     "metadata": {},
     "output_type": "display_data"
    },
    {
     "data": {
      "text/html": [
       "<span style=\"color:cyan\"> |-text_block_1/embedding_1/pretraining: none</span>"
      ],
      "text/plain": [
       "<IPython.core.display.HTML object>"
      ]
     },
     "metadata": {},
     "output_type": "display_data"
    },
    {
     "data": {
      "text/html": [
       "<span style=\"color:blue\"> |-text_block_1/spatial_reduction_1/reduction_type: global_max</span>"
      ],
      "text/plain": [
       "<IPython.core.display.HTML object>"
      ]
     },
     "metadata": {},
     "output_type": "display_data"
    },
    {
     "data": {
      "text/html": [
       "<span style=\"color:cyan\"> |-text_block_1/text_to_int_sequence_1/output_sequence_length: 512</span>"
      ],
      "text/plain": [
       "<IPython.core.display.HTML object>"
      ]
     },
     "metadata": {},
     "output_type": "display_data"
    },
    {
     "data": {
      "text/html": [
       "<span style=\"color:blue\"> |-text_block_1/vectorizer: sequence</span>"
      ],
      "text/plain": [
       "<IPython.core.display.HTML object>"
      ]
     },
     "metadata": {},
     "output_type": "display_data"
    },
    {
     "data": {
      "text/html": [
       "<span style=\"color:cyan\"> |-text_block_2/conv_block_1/dropout_rate: 0</span>"
      ],
      "text/plain": [
       "<IPython.core.display.HTML object>"
      ]
     },
     "metadata": {},
     "output_type": "display_data"
    },
    {
     "data": {
      "text/html": [
       "<span style=\"color:blue\"> |-text_block_2/conv_block_1/filters_0_0: 32</span>"
      ],
      "text/plain": [
       "<IPython.core.display.HTML object>"
      ]
     },
     "metadata": {},
     "output_type": "display_data"
    },
    {
     "data": {
      "text/html": [
       "<span style=\"color:cyan\"> |-text_block_2/conv_block_1/filters_0_1: 32</span>"
      ],
      "text/plain": [
       "<IPython.core.display.HTML object>"
      ]
     },
     "metadata": {},
     "output_type": "display_data"
    },
    {
     "data": {
      "text/html": [
       "<span style=\"color:blue\"> |-text_block_2/conv_block_1/filters_1_0: 32</span>"
      ],
      "text/plain": [
       "<IPython.core.display.HTML object>"
      ]
     },
     "metadata": {},
     "output_type": "display_data"
    },
    {
     "data": {
      "text/html": [
       "<span style=\"color:cyan\"> |-text_block_2/conv_block_1/filters_1_1: 32</span>"
      ],
      "text/plain": [
       "<IPython.core.display.HTML object>"
      ]
     },
     "metadata": {},
     "output_type": "display_data"
    },
    {
     "data": {
      "text/html": [
       "<span style=\"color:blue\"> |-text_block_2/conv_block_1/kernel_size: 3</span>"
      ],
      "text/plain": [
       "<IPython.core.display.HTML object>"
      ]
     },
     "metadata": {},
     "output_type": "display_data"
    },
    {
     "data": {
      "text/html": [
       "<span style=\"color:cyan\"> |-text_block_2/conv_block_1/max_pooling: True</span>"
      ],
      "text/plain": [
       "<IPython.core.display.HTML object>"
      ]
     },
     "metadata": {},
     "output_type": "display_data"
    },
    {
     "data": {
      "text/html": [
       "<span style=\"color:blue\"> |-text_block_2/conv_block_1/num_blocks: 2</span>"
      ],
      "text/plain": [
       "<IPython.core.display.HTML object>"
      ]
     },
     "metadata": {},
     "output_type": "display_data"
    },
    {
     "data": {
      "text/html": [
       "<span style=\"color:cyan\"> |-text_block_2/conv_block_1/num_layers: 2</span>"
      ],
      "text/plain": [
       "<IPython.core.display.HTML object>"
      ]
     },
     "metadata": {},
     "output_type": "display_data"
    },
    {
     "data": {
      "text/html": [
       "<span style=\"color:blue\"> |-text_block_2/conv_block_1/separable: False</span>"
      ],
      "text/plain": [
       "<IPython.core.display.HTML object>"
      ]
     },
     "metadata": {},
     "output_type": "display_data"
    },
    {
     "data": {
      "text/html": [
       "<span style=\"color:cyan\"> |-text_block_2/dense_block_1/dropout_rate: 0</span>"
      ],
      "text/plain": [
       "<IPython.core.display.HTML object>"
      ]
     },
     "metadata": {},
     "output_type": "display_data"
    },
    {
     "data": {
      "text/html": [
       "<span style=\"color:blue\"> |-text_block_2/dense_block_1/num_layers: 2</span>"
      ],
      "text/plain": [
       "<IPython.core.display.HTML object>"
      ]
     },
     "metadata": {},
     "output_type": "display_data"
    },
    {
     "data": {
      "text/html": [
       "<span style=\"color:cyan\"> |-text_block_2/dense_block_1/units_0: 32</span>"
      ],
      "text/plain": [
       "<IPython.core.display.HTML object>"
      ]
     },
     "metadata": {},
     "output_type": "display_data"
    },
    {
     "data": {
      "text/html": [
       "<span style=\"color:blue\"> |-text_block_2/dense_block_1/units_1: 32</span>"
      ],
      "text/plain": [
       "<IPython.core.display.HTML object>"
      ]
     },
     "metadata": {},
     "output_type": "display_data"
    },
    {
     "data": {
      "text/html": [
       "<span style=\"color:cyan\"> |-text_block_2/dense_block_1/use_batchnorm: False</span>"
      ],
      "text/plain": [
       "<IPython.core.display.HTML object>"
      ]
     },
     "metadata": {},
     "output_type": "display_data"
    },
    {
     "data": {
      "text/html": [
       "<span style=\"color:blue\"> |-text_block_2/embedding_1/dropout_rate: 0.25</span>"
      ],
      "text/plain": [
       "<IPython.core.display.HTML object>"
      ]
     },
     "metadata": {},
     "output_type": "display_data"
    },
    {
     "data": {
      "text/html": [
       "<span style=\"color:cyan\"> |-text_block_2/embedding_1/embedding_dim: 128</span>"
      ],
      "text/plain": [
       "<IPython.core.display.HTML object>"
      ]
     },
     "metadata": {},
     "output_type": "display_data"
    },
    {
     "data": {
      "text/html": [
       "<span style=\"color:blue\"> |-text_block_2/embedding_1/pretraining: none</span>"
      ],
      "text/plain": [
       "<IPython.core.display.HTML object>"
      ]
     },
     "metadata": {},
     "output_type": "display_data"
    },
    {
     "data": {
      "text/html": [
       "<span style=\"color:cyan\"> |-text_block_2/spatial_reduction_1/reduction_type: global_avg</span>"
      ],
      "text/plain": [
       "<IPython.core.display.HTML object>"
      ]
     },
     "metadata": {},
     "output_type": "display_data"
    },
    {
     "data": {
      "text/html": [
       "<span style=\"color:blue\"> |-text_block_2/text_to_int_sequence_1/output_sequence_length: 64</span>"
      ],
      "text/plain": [
       "<IPython.core.display.HTML object>"
      ]
     },
     "metadata": {},
     "output_type": "display_data"
    },
    {
     "data": {
      "text/html": [
       "<span style=\"color:cyan\"> |-text_block_2/vectorizer: sequence</span>"
      ],
      "text/plain": [
       "<IPython.core.display.HTML object>"
      ]
     },
     "metadata": {},
     "output_type": "display_data"
    },
    {
     "name": "stdout",
     "output_type": "stream",
     "text": [
      "INFO:tensorflow:Oracle triggered exit\n",
      "Train for 782 steps, validate for 157 steps\n",
      "551/782 [====================>.........] - ETA: 8:10 - loss: 0.6956 - accuracy: 0.40 - ETA: 2:57 - loss: 0.6878 - accuracy: 0.52 - ETA: 1:37 - loss: 0.6863 - accuracy: 0.54 - ETA: 1:10 - loss: 0.7042 - accuracy: 0.50 - ETA: 57s - loss: 0.7011 - accuracy: 0.5000 - ETA: 49s - loss: 0.6986 - accuracy: 0.506 - ETA: 43s - loss: 0.6994 - accuracy: 0.500 - ETA: 39s - loss: 0.6989 - accuracy: 0.503 - ETA: 36s - loss: 0.7004 - accuracy: 0.496 - ETA: 34s - loss: 0.6994 - accuracy: 0.498 - ETA: 31s - loss: 0.6992 - accuracy: 0.493 - ETA: 30s - loss: 0.6991 - accuracy: 0.488 - ETA: 29s - loss: 0.6985 - accuracy: 0.494 - ETA: 27s - loss: 0.6973 - accuracy: 0.501 - ETA: 27s - loss: 0.6972 - accuracy: 0.500 - ETA: 26s - loss: 0.6976 - accuracy: 0.498 - ETA: 25s - loss: 0.6976 - accuracy: 0.498 - ETA: 24s - loss: 0.6963 - accuracy: 0.506 - ETA: 23s - loss: 0.6964 - accuracy: 0.504 - ETA: 23s - loss: 0.6966 - accuracy: 0.506 - ETA: 22s - loss: 0.6979 - accuracy: 0.504 - ETA: 22s - loss: 0.6974 - accuracy: 0.506 - ETA: 21s - loss: 0.6972 - accuracy: 0.509 - ETA: 21s - loss: 0.6962 - accuracy: 0.510 - ETA: 20s - loss: 0.6960 - accuracy: 0.509 - ETA: 20s - loss: 0.6955 - accuracy: 0.510 - ETA: 20s - loss: 0.6960 - accuracy: 0.507 - ETA: 19s - loss: 0.6961 - accuracy: 0.505 - ETA: 19s - loss: 0.6962 - accuracy: 0.503 - ETA: 19s - loss: 0.6959 - accuracy: 0.505 - ETA: 19s - loss: 0.6966 - accuracy: 0.501 - ETA: 18s - loss: 0.6965 - accuracy: 0.499 - ETA: 18s - loss: 0.6961 - accuracy: 0.503 - ETA: 18s - loss: 0.6958 - accuracy: 0.505 - ETA: 18s - loss: 0.6956 - accuracy: 0.506 - ETA: 18s - loss: 0.6953 - accuracy: 0.507 - ETA: 17s - loss: 0.6951 - accuracy: 0.509 - ETA: 17s - loss: 0.6951 - accuracy: 0.507 - ETA: 17s - loss: 0.6944 - accuracy: 0.512 - ETA: 17s - loss: 0.6941 - accuracy: 0.513 - ETA: 17s - loss: 0.6937 - accuracy: 0.513 - ETA: 17s - loss: 0.6933 - accuracy: 0.515 - ETA: 16s - loss: 0.6928 - accuracy: 0.515 - ETA: 16s - loss: 0.6922 - accuracy: 0.516 - ETA: 16s - loss: 0.6913 - accuracy: 0.518 - ETA: 16s - loss: 0.6909 - accuracy: 0.521 - ETA: 16s - loss: 0.6903 - accuracy: 0.523 - ETA: 16s - loss: 0.6895 - accuracy: 0.525 - ETA: 16s - loss: 0.6881 - accuracy: 0.527 - ETA: 15s - loss: 0.6878 - accuracy: 0.528 - ETA: 15s - loss: 0.6863 - accuracy: 0.531 - ETA: 15s - loss: 0.6852 - accuracy: 0.533 - ETA: 15s - loss: 0.6838 - accuracy: 0.536 - ETA: 15s - loss: 0.6819 - accuracy: 0.539 - ETA: 15s - loss: 0.6793 - accuracy: 0.543 - ETA: 15s - loss: 0.6769 - accuracy: 0.547 - ETA: 15s - loss: 0.6749 - accuracy: 0.550 - ETA: 14s - loss: 0.6729 - accuracy: 0.553 - ETA: 14s - loss: 0.6708 - accuracy: 0.556 - ETA: 14s - loss: 0.6673 - accuracy: 0.559 - ETA: 14s - loss: 0.6644 - accuracy: 0.562 - ETA: 14s - loss: 0.6619 - accuracy: 0.565 - ETA: 14s - loss: 0.6608 - accuracy: 0.567 - ETA: 14s - loss: 0.6583 - accuracy: 0.571 - ETA: 14s - loss: 0.6565 - accuracy: 0.573 - ETA: 14s - loss: 0.6559 - accuracy: 0.575 - ETA: 14s - loss: 0.6546 - accuracy: 0.577 - ETA: 14s - loss: 0.6526 - accuracy: 0.579 - ETA: 14s - loss: 0.6510 - accuracy: 0.582 - ETA: 13s - loss: 0.6482 - accuracy: 0.586 - ETA: 13s - loss: 0.6454 - accuracy: 0.589 - ETA: 13s - loss: 0.6427 - accuracy: 0.592 - ETA: 13s - loss: 0.6404 - accuracy: 0.595 - ETA: 13s - loss: 0.6368 - accuracy: 0.599 - ETA: 13s - loss: 0.6334 - accuracy: 0.602 - ETA: 13s - loss: 0.6320 - accuracy: 0.604 - ETA: 13s - loss: 0.6292 - accuracy: 0.607 - ETA: 13s - loss: 0.6264 - accuracy: 0.609 - ETA: 13s - loss: 0.6245 - accuracy: 0.612 - ETA: 13s - loss: 0.6210 - accuracy: 0.616 - ETA: 12s - loss: 0.6188 - accuracy: 0.618 - ETA: 12s - loss: 0.6181 - accuracy: 0.619 - ETA: 12s - loss: 0.6173 - accuracy: 0.621 - ETA: 12s - loss: 0.6144 - accuracy: 0.623 - ETA: 12s - loss: 0.6124 - accuracy: 0.626 - ETA: 12s - loss: 0.6093 - accuracy: 0.629 - ETA: 12s - loss: 0.6069 - accuracy: 0.630 - ETA: 12s - loss: 0.6061 - accuracy: 0.632 - ETA: 12s - loss: 0.6041 - accuracy: 0.634 - ETA: 12s - loss: 0.6028 - accuracy: 0.635 - ETA: 12s - loss: 0.6009 - accuracy: 0.637 - ETA: 11s - loss: 0.5981 - accuracy: 0.640 - ETA: 11s - loss: 0.5962 - accuracy: 0.642 - ETA: 11s - loss: 0.5941 - accuracy: 0.643 - ETA: 11s - loss: 0.5934 - accuracy: 0.644 - ETA: 11s - loss: 0.5919 - accuracy: 0.646 - ETA: 11s - loss: 0.5892 - accuracy: 0.648 - ETA: 11s - loss: 0.5867 - accuracy: 0.650 - ETA: 11s - loss: 0.5843 - accuracy: 0.653 - ETA: 11s - loss: 0.5823 - accuracy: 0.655 - ETA: 11s - loss: 0.5796 - accuracy: 0.656 - ETA: 11s - loss: 0.5780 - accuracy: 0.658 - ETA: 11s - loss: 0.5761 - accuracy: 0.660 - ETA: 11s - loss: 0.5738 - accuracy: 0.662 - ETA: 10s - loss: 0.5716 - accuracy: 0.663 - ETA: 10s - loss: 0.5709 - accuracy: 0.664 - ETA: 10s - loss: 0.5692 - accuracy: 0.665 - ETA: 10s - loss: 0.5688 - accuracy: 0.666 - ETA: 10s - loss: 0.5667 - accuracy: 0.668 - ETA: 10s - loss: 0.5648 - accuracy: 0.669 - ETA: 10s - loss: 0.5644 - accuracy: 0.670 - ETA: 10s - loss: 0.5629 - accuracy: 0.671 - ETA: 10s - loss: 0.5618 - accuracy: 0.673 - ETA: 10s - loss: 0.5596 - accuracy: 0.674 - ETA: 10s - loss: 0.5576 - accuracy: 0.676 - ETA: 10s - loss: 0.5561 - accuracy: 0.677 - ETA: 10s - loss: 0.5548 - accuracy: 0.678 - ETA: 9s - loss: 0.5528 - accuracy: 0.680 - ETA: 9s - loss: 0.5505 - accuracy: 0.68 - ETA: 9s - loss: 0.5490 - accuracy: 0.68 - ETA: 9s - loss: 0.5476 - accuracy: 0.68 - ETA: 9s - loss: 0.5466 - accuracy: 0.68 - ETA: 9s - loss: 0.5448 - accuracy: 0.68 - ETA: 9s - loss: 0.5442 - accuracy: 0.68 - ETA: 9s - loss: 0.5430 - accuracy: 0.68 - ETA: 9s - loss: 0.5418 - accuracy: 0.69 - ETA: 9s - loss: 0.5405 - accuracy: 0.69 - ETA: 9s - loss: 0.5391 - accuracy: 0.69 - ETA: 9s - loss: 0.5374 - accuracy: 0.69 - ETA: 9s - loss: 0.5366 - accuracy: 0.69 - ETA: 8s - loss: 0.5352 - accuracy: 0.69 - ETA: 8s - loss: 0.5343 - accuracy: 0.69 - ETA: 8s - loss: 0.5339 - accuracy: 0.69 - ETA: 8s - loss: 0.5324 - accuracy: 0.69 - ETA: 8s - loss: 0.5311 - accuracy: 0.69 - ETA: 8s - loss: 0.5309 - accuracy: 0.70 - ETA: 8s - loss: 0.5292 - accuracy: 0.70 - ETA: 8s - loss: 0.5281 - accuracy: 0.70 - ETA: 8s - loss: 0.5270 - accuracy: 0.70 - ETA: 8s - loss: 0.5254 - accuracy: 0.70 - ETA: 8s - loss: 0.5237 - accuracy: 0.70 - ETA: 8s - loss: 0.5217 - accuracy: 0.70 - ETA: 8s - loss: 0.5207 - accuracy: 0.70 - ETA: 8s - loss: 0.5190 - accuracy: 0.70 - ETA: 8s - loss: 0.5178 - accuracy: 0.71 - ETA: 7s - loss: 0.5170 - accuracy: 0.71 - ETA: 7s - loss: 0.5162 - accuracy: 0.71 - ETA: 7s - loss: 0.5154 - accuracy: 0.71 - ETA: 7s - loss: 0.5147 - accuracy: 0.71 - ETA: 7s - loss: 0.5139 - accuracy: 0.71 - ETA: 7s - loss: 0.5129 - accuracy: 0.71 - ETA: 7s - loss: 0.5122 - accuracy: 0.71 - ETA: 7s - loss: 0.5103 - accuracy: 0.71 - ETA: 7s - loss: 0.5094 - accuracy: 0.71 - ETA: 7s - loss: 0.5089 - accuracy: 0.71 - ETA: 7s - loss: 0.5073 - accuracy: 0.71 - ETA: 7s - loss: 0.5059 - accuracy: 0.72 - ETA: 7s - loss: 0.5046 - accuracy: 0.72 - ETA: 7s - loss: 0.5039 - accuracy: 0.72 - ETA: 6s - loss: 0.5032 - accuracy: 0.72 - ETA: 6s - loss: 0.5025 - accuracy: 0.72 - ETA: 6s - loss: 0.5015 - accuracy: 0.72 - ETA: 6s - loss: 0.5006 - accuracy: 0.72 - ETA: 6s - loss: 0.4990 - accuracy: 0.72 - ETA: 6s - loss: 0.4976 - accuracy: 0.72 - ETA: 6s - loss: 0.4970 - accuracy: 0.72 - ETA: 6s - loss: 0.4955 - accuracy: 0.72 - ETA: 6s - loss: 0.4946 - accuracy: 0.72 - ETA: 6s - loss: 0.4935 - accuracy: 0.73 - ETA: 6s - loss: 0.4927 - accuracy: 0.73 - ETA: 6s - loss: 0.4916 - accuracy: 0.73 - ETA: 6s - loss: 0.4905 - accuracy: 0.73 - ETA: 6s - loss: 0.4895 - accuracy: 0.73 - ETA: 5s - loss: 0.4886 - accuracy: 0.73 - ETA: 5s - loss: 0.4879 - accuracy: 0.73 - ETA: 5s - loss: 0.4869 - accuracy: 0.73 - ETA: 5s - loss: 0.4858 - accuracy: 0.73 - ETA: 5s - loss: 0.4848 - accuracy: 0.73 - ETA: 5s - loss: 0.4839 - accuracy: 0.73 - ETA: 5s - loss: 0.4827 - accuracy: 0.73 - ETA: 5s - loss: 0.4813 - accuracy: 0.73 - ETA: 5s - loss: 0.4800 - accuracy: 0.74 - ETA: 5s - loss: 0.4794 - accuracy: 0.74 - ETA: 5s - loss: 0.4782 - accuracy: 0.74 - ETA: 5s - loss: 0.4779 - accuracy: 0.74 - ETA: 5s - loss: 0.4770 - accuracy: 0.74 - ETA: 5s - loss: 0.4758 - accuracy: 0.7438\b\b\b\b\b\b\b\b\b\b\b\b\b\b\b\b\b\b\b\b\b\b\b\b\b\b\b\b\b\b\b\b\b\b\b\b\b\b\b\b\b\b\b\b\b\b\b\b\b\b\b\b\b\b\b\b\b\b\b\b\b\b\b\b\b\b\b\b\b\b\b\b\b\b\b\b\b\b\b\b\b\b\b\b782/782 [==============================] - ETA: 5s - loss: 0.4746 - accuracy: 0.74 - ETA: 4s - loss: 0.4734 - accuracy: 0.74 - ETA: 4s - loss: 0.4722 - accuracy: 0.74 - ETA: 4s - loss: 0.4718 - accuracy: 0.74 - ETA: 4s - loss: 0.4702 - accuracy: 0.74 - ETA: 4s - loss: 0.4693 - accuracy: 0.74 - ETA: 4s - loss: 0.4683 - accuracy: 0.74 - ETA: 4s - loss: 0.4675 - accuracy: 0.74 - ETA: 4s - loss: 0.4663 - accuracy: 0.75 - ETA: 4s - loss: 0.4651 - accuracy: 0.75 - ETA: 4s - loss: 0.4642 - accuracy: 0.75 - ETA: 4s - loss: 0.4634 - accuracy: 0.75 - ETA: 4s - loss: 0.4627 - accuracy: 0.75 - ETA: 4s - loss: 0.4622 - accuracy: 0.75 - ETA: 4s - loss: 0.4619 - accuracy: 0.75 - ETA: 4s - loss: 0.4612 - accuracy: 0.75 - ETA: 3s - loss: 0.4605 - accuracy: 0.75 - ETA: 3s - loss: 0.4595 - accuracy: 0.75 - ETA: 3s - loss: 0.4584 - accuracy: 0.75 - ETA: 3s - loss: 0.4575 - accuracy: 0.75 - ETA: 3s - loss: 0.4563 - accuracy: 0.75 - ETA: 3s - loss: 0.4553 - accuracy: 0.75 - ETA: 3s - loss: 0.4545 - accuracy: 0.75 - ETA: 3s - loss: 0.4542 - accuracy: 0.75 - ETA: 3s - loss: 0.4535 - accuracy: 0.76 - ETA: 3s - loss: 0.4528 - accuracy: 0.76 - ETA: 3s - loss: 0.4519 - accuracy: 0.76 - ETA: 3s - loss: 0.4509 - accuracy: 0.76 - ETA: 3s - loss: 0.4499 - accuracy: 0.76 - ETA: 3s - loss: 0.4492 - accuracy: 0.76 - ETA: 3s - loss: 0.4490 - accuracy: 0.76 - ETA: 3s - loss: 0.4487 - accuracy: 0.76 - ETA: 2s - loss: 0.4483 - accuracy: 0.76 - ETA: 2s - loss: 0.4480 - accuracy: 0.76 - ETA: 2s - loss: 0.4473 - accuracy: 0.76 - ETA: 2s - loss: 0.4466 - accuracy: 0.76 - ETA: 2s - loss: 0.4459 - accuracy: 0.76 - ETA: 2s - loss: 0.4448 - accuracy: 0.76 - ETA: 2s - loss: 0.4439 - accuracy: 0.76 - ETA: 2s - loss: 0.4435 - accuracy: 0.76 - ETA: 2s - loss: 0.4428 - accuracy: 0.76 - ETA: 2s - loss: 0.4420 - accuracy: 0.76 - ETA: 2s - loss: 0.4412 - accuracy: 0.76 - ETA: 2s - loss: 0.4407 - accuracy: 0.76 - ETA: 2s - loss: 0.4398 - accuracy: 0.76 - ETA: 2s - loss: 0.4402 - accuracy: 0.76 - ETA: 2s - loss: 0.4398 - accuracy: 0.77 - ETA: 2s - loss: 0.4388 - accuracy: 0.77 - ETA: 1s - loss: 0.4383 - accuracy: 0.77 - ETA: 1s - loss: 0.4378 - accuracy: 0.77 - ETA: 1s - loss: 0.4371 - accuracy: 0.77 - ETA: 1s - loss: 0.4364 - accuracy: 0.77 - ETA: 1s - loss: 0.4360 - accuracy: 0.77 - ETA: 1s - loss: 0.4352 - accuracy: 0.77 - ETA: 1s - loss: 0.4349 - accuracy: 0.77 - ETA: 1s - loss: 0.4339 - accuracy: 0.77 - ETA: 1s - loss: 0.4332 - accuracy: 0.77 - ETA: 1s - loss: 0.4326 - accuracy: 0.77 - ETA: 1s - loss: 0.4317 - accuracy: 0.77 - ETA: 1s - loss: 0.4309 - accuracy: 0.77 - ETA: 1s - loss: 0.4304 - accuracy: 0.77 - ETA: 1s - loss: 0.4294 - accuracy: 0.77 - ETA: 1s - loss: 0.4287 - accuracy: 0.77 - ETA: 0s - loss: 0.4285 - accuracy: 0.77 - ETA: 0s - loss: 0.4277 - accuracy: 0.77 - ETA: 0s - loss: 0.4275 - accuracy: 0.77 - ETA: 0s - loss: 0.4273 - accuracy: 0.77 - ETA: 0s - loss: 0.4264 - accuracy: 0.77 - ETA: 0s - loss: 0.4256 - accuracy: 0.78 - ETA: 0s - loss: 0.4251 - accuracy: 0.78 - ETA: 0s - loss: 0.4244 - accuracy: 0.78 - ETA: 0s - loss: 0.4240 - accuracy: 0.78 - ETA: 0s - loss: 0.4236 - accuracy: 0.78 - ETA: 0s - loss: 0.4235 - accuracy: 0.78 - ETA: 0s - loss: 0.4230 - accuracy: 0.78 - ETA: 0s - loss: 0.4221 - accuracy: 0.78 - ETA: 0s - loss: 0.4220 - accuracy: 0.78 - ETA: 0s - loss: 0.4214 - accuracy: 0.78 - 19s 24ms/step - loss: 0.4214 - accuracy: 0.7839 - val_loss: 0.1472 - val_accuracy: 0.9580\n",
      "WARNING:tensorflow:Unresolved object in checkpoint: (root).optimizer.iter\n",
      "WARNING:tensorflow:Unresolved object in checkpoint: (root).optimizer.beta_1\n",
      "WARNING:tensorflow:Unresolved object in checkpoint: (root).optimizer.beta_2\n",
      "WARNING:tensorflow:Unresolved object in checkpoint: (root).optimizer.decay\n",
      "WARNING:tensorflow:Unresolved object in checkpoint: (root).optimizer.learning_rate\n",
      "WARNING:tensorflow:A checkpoint was restored (e.g. tf.train.Checkpoint.restore or tf.keras.Model.load_weights) but not all checkpointed values were used. See above for specific issues. Use expect_partial() on the load status object, e.g. tf.train.Checkpoint.restore(...).expect_partial(), to silence these warnings, or use assert_consumed() to make the check explicit. See https://www.tensorflow.org/guide/checkpoint#loading_mechanics for details.\n",
      "WARNING:tensorflow:Unresolved object in checkpoint: (root).optimizer.iter\n",
      "WARNING:tensorflow:Unresolved object in checkpoint: (root).optimizer.beta_1\n",
      "WARNING:tensorflow:Unresolved object in checkpoint: (root).optimizer.beta_2\n",
      "WARNING:tensorflow:Unresolved object in checkpoint: (root).optimizer.decay\n",
      "WARNING:tensorflow:Unresolved object in checkpoint: (root).optimizer.learning_rate\n",
      "WARNING:tensorflow:A checkpoint was restored (e.g. tf.train.Checkpoint.restore or tf.keras.Model.load_weights) but not all checkpointed values were used. See above for specific issues. Use expect_partial() on the load status object, e.g. tf.train.Checkpoint.restore(...).expect_partial(), to silence these warnings, or use assert_consumed() to make the check explicit. See https://www.tensorflow.org/guide/checkpoint#loading_mechanics for details.\n",
      "782/782 [==============================] - ETA: 1:43 - loss: 0.2468 - accuracy: 0.90 - ETA: 20s - loss: 0.2380 - accuracy: 0.8929 - ETA: 14s - loss: 0.2518 - accuracy: 0.894 - ETA: 11s - loss: 0.2694 - accuracy: 0.878 - ETA: 10s - loss: 0.2665 - accuracy: 0.883 - ETA: 9s - loss: 0.2766 - accuracy: 0.881 - ETA: 8s - loss: 0.2863 - accuracy: 0.88 - ETA: 8s - loss: 0.2913 - accuracy: 0.87 - ETA: 8s - loss: 0.2869 - accuracy: 0.87 - ETA: 7s - loss: 0.2918 - accuracy: 0.87 - ETA: 7s - loss: 0.2895 - accuracy: 0.87 - ETA: 7s - loss: 0.2854 - accuracy: 0.87 - ETA: 7s - loss: 0.2843 - accuracy: 0.87 - ETA: 7s - loss: 0.2880 - accuracy: 0.87 - ETA: 7s - loss: 0.2870 - accuracy: 0.87 - ETA: 6s - loss: 0.2898 - accuracy: 0.87 - ETA: 6s - loss: 0.2943 - accuracy: 0.87 - ETA: 6s - loss: 0.2959 - accuracy: 0.87 - ETA: 6s - loss: 0.2953 - accuracy: 0.87 - ETA: 6s - loss: 0.2955 - accuracy: 0.87 - ETA: 6s - loss: 0.2943 - accuracy: 0.87 - ETA: 6s - loss: 0.2928 - accuracy: 0.87 - ETA: 6s - loss: 0.2942 - accuracy: 0.87 - ETA: 6s - loss: 0.2941 - accuracy: 0.87 - ETA: 5s - loss: 0.2915 - accuracy: 0.87 - ETA: 5s - loss: 0.2928 - accuracy: 0.87 - ETA: 5s - loss: 0.2921 - accuracy: 0.87 - ETA: 5s - loss: 0.2929 - accuracy: 0.87 - ETA: 5s - loss: 0.2900 - accuracy: 0.87 - ETA: 5s - loss: 0.2910 - accuracy: 0.87 - ETA: 5s - loss: 0.2894 - accuracy: 0.87 - ETA: 5s - loss: 0.2903 - accuracy: 0.87 - ETA: 5s - loss: 0.2905 - accuracy: 0.87 - ETA: 5s - loss: 0.2886 - accuracy: 0.87 - ETA: 5s - loss: 0.2893 - accuracy: 0.87 - ETA: 5s - loss: 0.2883 - accuracy: 0.87 - ETA: 5s - loss: 0.2890 - accuracy: 0.87 - ETA: 5s - loss: 0.2892 - accuracy: 0.87 - ETA: 5s - loss: 0.2878 - accuracy: 0.87 - ETA: 4s - loss: 0.2880 - accuracy: 0.87 - ETA: 4s - loss: 0.2886 - accuracy: 0.87 - ETA: 4s - loss: 0.2874 - accuracy: 0.87 - ETA: 4s - loss: 0.2875 - accuracy: 0.87 - ETA: 4s - loss: 0.2881 - accuracy: 0.87 - ETA: 4s - loss: 0.2879 - accuracy: 0.87 - ETA: 4s - loss: 0.2873 - accuracy: 0.87 - ETA: 4s - loss: 0.2863 - accuracy: 0.88 - ETA: 4s - loss: 0.2878 - accuracy: 0.87 - ETA: 4s - loss: 0.2884 - accuracy: 0.87 - ETA: 4s - loss: 0.2876 - accuracy: 0.87 - ETA: 4s - loss: 0.2885 - accuracy: 0.87 - ETA: 4s - loss: 0.2884 - accuracy: 0.87 - ETA: 4s - loss: 0.2878 - accuracy: 0.87 - ETA: 4s - loss: 0.2885 - accuracy: 0.87 - ETA: 4s - loss: 0.2891 - accuracy: 0.87 - ETA: 3s - loss: 0.2885 - accuracy: 0.87 - ETA: 3s - loss: 0.2879 - accuracy: 0.87 - ETA: 3s - loss: 0.2880 - accuracy: 0.87 - ETA: 3s - loss: 0.2873 - accuracy: 0.87 - ETA: 3s - loss: 0.2870 - accuracy: 0.87 - ETA: 3s - loss: 0.2882 - accuracy: 0.87 - ETA: 3s - loss: 0.2876 - accuracy: 0.87 - ETA: 3s - loss: 0.2885 - accuracy: 0.87 - ETA: 3s - loss: 0.2889 - accuracy: 0.87 - ETA: 3s - loss: 0.2883 - accuracy: 0.87 - ETA: 3s - loss: 0.2872 - accuracy: 0.87 - ETA: 3s - loss: 0.2869 - accuracy: 0.87 - ETA: 3s - loss: 0.2865 - accuracy: 0.87 - ETA: 3s - loss: 0.2863 - accuracy: 0.87 - ETA: 2s - loss: 0.2871 - accuracy: 0.87 - ETA: 2s - loss: 0.2868 - accuracy: 0.87 - ETA: 2s - loss: 0.2861 - accuracy: 0.87 - ETA: 2s - loss: 0.2864 - accuracy: 0.87 - ETA: 2s - loss: 0.2854 - accuracy: 0.87 - ETA: 2s - loss: 0.2853 - accuracy: 0.87 - ETA: 2s - loss: 0.2859 - accuracy: 0.87 - ETA: 2s - loss: 0.2858 - accuracy: 0.87 - ETA: 2s - loss: 0.2862 - accuracy: 0.87 - ETA: 2s - loss: 0.2864 - accuracy: 0.87 - ETA: 2s - loss: 0.2864 - accuracy: 0.87 - ETA: 2s - loss: 0.2864 - accuracy: 0.87 - ETA: 2s - loss: 0.2866 - accuracy: 0.87 - ETA: 2s - loss: 0.2864 - accuracy: 0.87 - ETA: 2s - loss: 0.2854 - accuracy: 0.88 - ETA: 2s - loss: 0.2853 - accuracy: 0.88 - ETA: 2s - loss: 0.2854 - accuracy: 0.88 - ETA: 2s - loss: 0.2847 - accuracy: 0.88 - ETA: 2s - loss: 0.2846 - accuracy: 0.88 - ETA: 1s - loss: 0.2850 - accuracy: 0.88 - ETA: 1s - loss: 0.2846 - accuracy: 0.88 - ETA: 1s - loss: 0.2832 - accuracy: 0.88 - ETA: 1s - loss: 0.2826 - accuracy: 0.88 - ETA: 1s - loss: 0.2823 - accuracy: 0.88 - ETA: 1s - loss: 0.2821 - accuracy: 0.88 - ETA: 1s - loss: 0.2818 - accuracy: 0.88 - ETA: 1s - loss: 0.2819 - accuracy: 0.88 - ETA: 1s - loss: 0.2815 - accuracy: 0.88 - ETA: 1s - loss: 0.2814 - accuracy: 0.88 - ETA: 1s - loss: 0.2813 - accuracy: 0.88 - ETA: 1s - loss: 0.2807 - accuracy: 0.88 - ETA: 1s - loss: 0.2809 - accuracy: 0.88 - ETA: 1s - loss: 0.2803 - accuracy: 0.88 - ETA: 1s - loss: 0.2804 - accuracy: 0.88 - ETA: 1s - loss: 0.2812 - accuracy: 0.88 - ETA: 1s - loss: 0.2806 - accuracy: 0.88 - ETA: 1s - loss: 0.2803 - accuracy: 0.88 - ETA: 0s - loss: 0.2811 - accuracy: 0.88 - ETA: 0s - loss: 0.2808 - accuracy: 0.88 - ETA: 0s - loss: 0.2807 - accuracy: 0.88 - ETA: 0s - loss: 0.2811 - accuracy: 0.88 - ETA: 0s - loss: 0.2814 - accuracy: 0.88 - ETA: 0s - loss: 0.2810 - accuracy: 0.88 - ETA: 0s - loss: 0.2805 - accuracy: 0.88 - ETA: 0s - loss: 0.2804 - accuracy: 0.88 - ETA: 0s - loss: 0.2803 - accuracy: 0.88 - ETA: 0s - loss: 0.2804 - accuracy: 0.88 - ETA: 0s - loss: 0.2804 - accuracy: 0.88 - ETA: 0s - loss: 0.2805 - accuracy: 0.88 - ETA: 0s - loss: 0.2806 - accuracy: 0.88 - ETA: 0s - loss: 0.2807 - accuracy: 0.88 - ETA: 0s - loss: 0.2805 - accuracy: 0.88 - ETA: 0s - loss: 0.2811 - accuracy: 0.88 - ETA: 0s - loss: 0.2809 - accuracy: 0.88 - ETA: 0s - loss: 0.2810 - accuracy: 0.88 - ETA: 0s - loss: 0.2806 - accuracy: 0.88 - 7s 9ms/step - loss: 0.2804 - accuracy: 0.8824\n",
      "[0.2804482311601072, 0.88236]\n"
     ]
    }
   ],
   "source": [
    "import autokeras as ak\n",
    "import tensorflow as tf\n",
    "gpus = tf.config.experimental.list_physical_devices(\"GPU\")\n",
    "tf.config.experimental.set_memory_growth(gpus[0], True)\n",
    "\n",
    "# Initialize the text classifier.\n",
    "clf = ak.TextClassifier(max_trials=10) # It tries 10 different models.\n",
    "# Feed the text classifier with training data.\n",
    "clf.fit(x_train, y_train, epochs=1)\n",
    "# Predict with the best model.\n",
    "predicted_y = clf.predict(x_test)\n",
    "# Evaluate the best model with testing data.\n",
    "print(clf.evaluate(x_test, y_test))"
   ]
  },
  {
   "cell_type": "code",
   "execution_count": 10,
   "metadata": {},
   "outputs": [
    {
     "data": {
      "text/plain": [
       "array([[0],\n",
       "       [1],\n",
       "       [1],\n",
       "       ...,\n",
       "       [0],\n",
       "       [0],\n",
       "       [0]], dtype=int64)"
      ]
     },
     "execution_count": 10,
     "metadata": {},
     "output_type": "execute_result"
    }
   ],
   "source": []
  }
 ],
 "metadata": {
  "kernelspec": {
   "display_name": "Python 3",
   "language": "python",
   "name": "python3"
  },
  "language_info": {
   "codemirror_mode": {
    "name": "ipython",
    "version": 3
   },
   "file_extension": ".py",
   "mimetype": "text/x-python",
   "name": "python",
   "nbconvert_exporter": "python",
   "pygments_lexer": "ipython3",
   "version": "3.7.4"
  }
 },
 "nbformat": 4,
 "nbformat_minor": 2
}
