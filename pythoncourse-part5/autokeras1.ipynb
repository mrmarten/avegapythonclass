{
 "cells": [
  {
   "cell_type": "markdown",
   "metadata": {},
   "source": [
    "# 1. Convolutional Neural Network models"
   ]
  },
  {
   "cell_type": "markdown",
   "metadata": {},
   "source": [
    "## 2.2. CNN classifiers for identifying handwritten digits."
   ]
  },
  {
   "cell_type": "markdown",
   "metadata": {},
   "source": [
    "#### Load MNIST"
   ]
  },
  {
   "cell_type": "code",
   "execution_count": 25,
   "metadata": {},
   "outputs": [],
   "source": [
    "from keras.datasets import mnist\n"
   ]
  },
  {
   "cell_type": "code",
   "execution_count": 26,
   "metadata": {},
   "outputs": [],
   "source": [
    "def load_mnist():\n",
    "    return mnist.load_data()"
   ]
  },
  {
   "cell_type": "markdown",
   "metadata": {},
   "source": [
    "## 3.3. CNN classifier for identifying other objects."
   ]
  },
  {
   "cell_type": "markdown",
   "metadata": {},
   "source": [
    "#### CIFAR100"
   ]
  },
  {
   "cell_type": "code",
   "execution_count": 22,
   "metadata": {},
   "outputs": [
    {
     "data": {
      "image/png": "[encoded data removed]",
      "text/plain": [
       "<Figure size 432x288 with 2 Axes>"
      ]
     },
     "metadata": {
      "needs_background": "light"
     },
     "output_type": "display_data"
    }
   ],
   "source": [
    "# Dataset of 50,000 32x32 color training images => 32x32x3, \n",
    "# labeled over 100 categories, and 10,000 test images.\n",
    "import autokeras as ak\n",
    "%matplotlib inline\n",
    "import matplotlib.pyplot as plt\n",
    "from keras.datasets import cifar100\n",
    "\n",
    "def to_one_hot(y):\n",
    "    y_encoder = OneHotEncoder()\n",
    "    y_encoder.fit(y)\n",
    "    y = y_encoder.transform(y)\n",
    "    return y, y_encoder\n",
    "\n",
    "(x_train, y_train), (x_test, y_test) = cifar100.load_data()\n",
    "\n",
    "_, canvas = plt.subplots(1, 2)\n",
    "_ = canvas[0].imshow(x_train[1234])\n",
    "_ = canvas[1].imshow(x_test[1234])"
   ]
  },
  {
   "cell_type": "code",
   "execution_count": 23,
   "metadata": {},
   "outputs": [
    {
     "name": "stdout",
     "output_type": "stream",
     "text": [
      "Train for 1250 steps, validate for 313 steps\n",
      "Epoch 1/10\n",
      "1250/1250 [==============================] - ETA: 17:54 - loss: 4.6414 - accuracy: 0.031 - ETA: 2:06 - loss: 4.8775 - accuracy: 0.017 - ETA: 1:10 - loss: 4.7521 - accuracy: 0.01 - ETA: 48s - loss: 4.6769 - accuracy: 0.0180 - ETA: 38s - loss: 4.6277 - accuracy: 0.023 - ETA: 32s - loss: 4.5945 - accuracy: 0.025 - ETA: 27s - loss: 4.5579 - accuracy: 0.028 - ETA: 24s - loss: 4.5426 - accuracy: 0.029 - ETA: 22s - loss: 4.5113 - accuracy: 0.035 - ETA: 20s - loss: 4.4677 - accuracy: 0.041 - ETA: 18s - loss: 4.4460 - accuracy: 0.044 - ETA: 17s - loss: 4.4078 - accuracy: 0.047 - ETA: 17s - loss: 4.3976 - accuracy: 0.049 - ETA: 16s - loss: 4.3831 - accuracy: 0.050 - ETA: 15s - loss: 4.3662 - accuracy: 0.050 - ETA: 15s - loss: 4.3455 - accuracy: 0.053 - ETA: 14s - loss: 4.3224 - accuracy: 0.057 - ETA: 14s - loss: 4.3035 - accuracy: 0.059 - ETA: 13s - loss: 4.2927 - accuracy: 0.060 - ETA: 13s - loss: 4.2766 - accuracy: 0.062 - ETA: 13s - loss: 4.2687 - accuracy: 0.062 - ETA: 13s - loss: 4.2544 - accuracy: 0.064 - ETA: 12s - loss: 4.2453 - accuracy: 0.066 - ETA: 12s - loss: 4.2321 - accuracy: 0.067 - ETA: 12s - loss: 4.2176 - accuracy: 0.069 - ETA: 11s - loss: 4.2008 - accuracy: 0.072 - ETA: 11s - loss: 4.1912 - accuracy: 0.073 - ETA: 11s - loss: 4.1835 - accuracy: 0.075 - ETA: 11s - loss: 4.1733 - accuracy: 0.076 - ETA: 11s - loss: 4.1553 - accuracy: 0.079 - ETA: 11s - loss: 4.1435 - accuracy: 0.081 - ETA: 10s - loss: 4.1315 - accuracy: 0.084 - ETA: 10s - loss: 4.1176 - accuracy: 0.087 - ETA: 10s - loss: 4.1042 - accuracy: 0.089 - ETA: 10s - loss: 4.0902 - accuracy: 0.091 - ETA: 9s - loss: 4.0802 - accuracy: 0.093 - ETA: 9s - loss: 4.0677 - accuracy: 0.09 - ETA: 9s - loss: 4.0559 - accuracy: 0.09 - ETA: 9s - loss: 4.0452 - accuracy: 0.09 - ETA: 8s - loss: 4.0372 - accuracy: 0.10 - ETA: 8s - loss: 4.0260 - accuracy: 0.10 - ETA: 8s - loss: 4.0145 - accuracy: 0.10 - ETA: 8s - loss: 4.0096 - accuracy: 0.10 - ETA: 8s - loss: 4.0031 - accuracy: 0.10 - ETA: 8s - loss: 3.9910 - accuracy: 0.10 - ETA: 7s - loss: 3.9824 - accuracy: 0.10 - ETA: 7s - loss: 3.9725 - accuracy: 0.10 - ETA: 7s - loss: 3.9656 - accuracy: 0.11 - ETA: 7s - loss: 3.9611 - accuracy: 0.11 - ETA: 7s - loss: 3.9500 - accuracy: 0.11 - ETA: 7s - loss: 3.9428 - accuracy: 0.11 - ETA: 7s - loss: 3.9379 - accuracy: 0.11 - ETA: 7s - loss: 3.9360 - accuracy: 0.11 - ETA: 7s - loss: 3.9288 - accuracy: 0.11 - ETA: 7s - loss: 3.9202 - accuracy: 0.11 - ETA: 6s - loss: 3.9125 - accuracy: 0.12 - ETA: 6s - loss: 3.9041 - accuracy: 0.12 - ETA: 6s - loss: 3.9002 - accuracy: 0.12 - ETA: 6s - loss: 3.8951 - accuracy: 0.12 - ETA: 6s - loss: 3.8907 - accuracy: 0.12 - ETA: 6s - loss: 3.8868 - accuracy: 0.12 - ETA: 6s - loss: 3.8809 - accuracy: 0.12 - ETA: 6s - loss: 3.8752 - accuracy: 0.12 - ETA: 6s - loss: 3.8696 - accuracy: 0.12 - ETA: 5s - loss: 3.8634 - accuracy: 0.12 - ETA: 5s - loss: 3.8597 - accuracy: 0.12 - ETA: 5s - loss: 3.8544 - accuracy: 0.13 - ETA: 5s - loss: 3.8451 - accuracy: 0.13 - ETA: 5s - loss: 3.8406 - accuracy: 0.13 - ETA: 5s - loss: 3.8348 - accuracy: 0.13 - ETA: 5s - loss: 3.8313 - accuracy: 0.13 - ETA: 5s - loss: 3.8269 - accuracy: 0.13 - ETA: 5s - loss: 3.8211 - accuracy: 0.13 - ETA: 5s - loss: 3.8149 - accuracy: 0.13 - ETA: 5s - loss: 3.8122 - accuracy: 0.13 - ETA: 4s - loss: 3.8082 - accuracy: 0.13 - ETA: 4s - loss: 3.8002 - accuracy: 0.13 - ETA: 4s - loss: 3.7957 - accuracy: 0.13 - ETA: 4s - loss: 3.7884 - accuracy: 0.14 - ETA: 4s - loss: 3.7829 - accuracy: 0.14 - ETA: 4s - loss: 3.7783 - accuracy: 0.14 - ETA: 4s - loss: 3.7735 - accuracy: 0.14 - ETA: 4s - loss: 3.7707 - accuracy: 0.14 - ETA: 4s - loss: 3.7670 - accuracy: 0.14 - ETA: 4s - loss: 3.7632 - accuracy: 0.14 - ETA: 4s - loss: 3.7588 - accuracy: 0.14 - ETA: 4s - loss: 3.7569 - accuracy: 0.14 - ETA: 3s - loss: 3.7527 - accuracy: 0.14 - ETA: 3s - loss: 3.7507 - accuracy: 0.14 - ETA: 3s - loss: 3.7462 - accuracy: 0.14 - ETA: 3s - loss: 3.7418 - accuracy: 0.14 - ETA: 3s - loss: 3.7380 - accuracy: 0.14 - ETA: 3s - loss: 3.7329 - accuracy: 0.15 - ETA: 3s - loss: 3.7267 - accuracy: 0.15 - ETA: 3s - loss: 3.7203 - accuracy: 0.15 - ETA: 3s - loss: 3.7154 - accuracy: 0.15 - ETA: 3s - loss: 3.7095 - accuracy: 0.15 - ETA: 3s - loss: 3.7044 - accuracy: 0.15 - ETA: 3s - loss: 3.7001 - accuracy: 0.15 - ETA: 2s - loss: 3.6946 - accuracy: 0.15 - ETA: 2s - loss: 3.6893 - accuracy: 0.15 - ETA: 2s - loss: 3.6838 - accuracy: 0.15 - ETA: 2s - loss: 3.6782 - accuracy: 0.16 - ETA: 2s - loss: 3.6721 - accuracy: 0.16 - ETA: 2s - loss: 3.6695 - accuracy: 0.16 - ETA: 2s - loss: 3.6668 - accuracy: 0.16 - ETA: 2s - loss: 3.6646 - accuracy: 0.16 - ETA: 2s - loss: 3.6611 - accuracy: 0.16 - ETA: 2s - loss: 3.6562 - accuracy: 0.16 - ETA: 2s - loss: 3.6526 - accuracy: 0.16 - ETA: 2s - loss: 3.6489 - accuracy: 0.16 - ETA: 2s - loss: 3.6446 - accuracy: 0.16 - ETA: 2s - loss: 3.6412 - accuracy: 0.16 - ETA: 1s - loss: 3.6377 - accuracy: 0.16 - ETA: 1s - loss: 3.6328 - accuracy: 0.16 - ETA: 1s - loss: 3.6278 - accuracy: 0.16 - ETA: 1s - loss: 3.6243 - accuracy: 0.16 - ETA: 1s - loss: 3.6201 - accuracy: 0.17 - ETA: 1s - loss: 3.6167 - accuracy: 0.17 - ETA: 1s - loss: 3.6138 - accuracy: 0.17 - ETA: 1s - loss: 3.6108 - accuracy: 0.17 - ETA: 1s - loss: 3.6062 - accuracy: 0.17 - ETA: 1s - loss: 3.6047 - accuracy: 0.17 - ETA: 1s - loss: 3.6036 - accuracy: 0.17 - ETA: 1s - loss: 3.6011 - accuracy: 0.17 - ETA: 1s - loss: 3.5987 - accuracy: 0.17 - ETA: 1s - loss: 3.5952 - accuracy: 0.17 - ETA: 1s - loss: 3.5922 - accuracy: 0.17 - ETA: 1s - loss: 3.5918 - accuracy: 0.17 - ETA: 1s - loss: 3.5878 - accuracy: 0.17 - ETA: 0s - loss: 3.5843 - accuracy: 0.17 - ETA: 0s - loss: 3.5810 - accuracy: 0.17 - ETA: 0s - loss: 3.5773 - accuracy: 0.17 - ETA: 0s - loss: 3.5740 - accuracy: 0.17 - ETA: 0s - loss: 3.5714 - accuracy: 0.17 - ETA: 0s - loss: 3.5690 - accuracy: 0.17 - ETA: 0s - loss: 3.5664 - accuracy: 0.17 - ETA: 0s - loss: 3.5629 - accuracy: 0.17 - ETA: 0s - loss: 3.5600 - accuracy: 0.18 - ETA: 0s - loss: 3.5556 - accuracy: 0.18 - ETA: 0s - loss: 3.5533 - accuracy: 0.18 - ETA: 0s - loss: 3.5510 - accuracy: 0.18 - ETA: 0s - loss: 3.5482 - accuracy: 0.18 - ETA: 0s - loss: 3.5458 - accuracy: 0.18 - ETA: 0s - loss: 3.5434 - accuracy: 0.18 - 10s 8ms/step - loss: 3.5416 - accuracy: 0.1836 - val_loss: 3.0304 - val_accuracy: 0.2843\n",
      "Epoch 2/10\n",
      "1238/1250 [============================>.] - ETA: 11:18 - loss: 3.3330 - accuracy: 0.187 - ETA: 1:22 - loss: 2.9366 - accuracy: 0.312 - ETA: 44s - loss: 3.0070 - accuracy: 0.2847 - ETA: 29s - loss: 3.0276 - accuracy: 0.296 - ETA: 22s - loss: 2.9814 - accuracy: 0.291 - ETA: 19s - loss: 2.9918 - accuracy: 0.288 - ETA: 16s - loss: 2.9895 - accuracy: 0.286 - ETA: 15s - loss: 2.9810 - accuracy: 0.286 - ETA: 14s - loss: 2.9711 - accuracy: 0.287 - ETA: 13s - loss: 2.9494 - accuracy: 0.286 - ETA: 12s - loss: 2.9447 - accuracy: 0.290 - ETA: 11s - loss: 2.9445 - accuracy: 0.288 - ETA: 11s - loss: 2.9510 - accuracy: 0.288 - ETA: 11s - loss: 2.9533 - accuracy: 0.287 - ETA: 12s - loss: 2.9489 - accuracy: 0.288 - ETA: 12s - loss: 2.9409 - accuracy: 0.291 - ETA: 11s - loss: 2.9419 - accuracy: 0.291 - ETA: 11s - loss: 2.9440 - accuracy: 0.290 - ETA: 10s - loss: 2.9355 - accuracy: 0.290 - ETA: 10s - loss: 2.9451 - accuracy: 0.288 - ETA: 10s - loss: 2.9449 - accuracy: 0.289 - ETA: 9s - loss: 2.9362 - accuracy: 0.291 - ETA: 9s - loss: 2.9324 - accuracy: 0.29 - ETA: 9s - loss: 2.9290 - accuracy: 0.29 - ETA: 9s - loss: 2.9196 - accuracy: 0.29 - ETA: 8s - loss: 2.9116 - accuracy: 0.29 - ETA: 8s - loss: 2.9171 - accuracy: 0.29 - ETA: 8s - loss: 2.9129 - accuracy: 0.29 - ETA: 8s - loss: 2.9092 - accuracy: 0.29 - ETA: 8s - loss: 2.9067 - accuracy: 0.29 - ETA: 7s - loss: 2.9021 - accuracy: 0.29 - ETA: 7s - loss: 2.9018 - accuracy: 0.29 - ETA: 7s - loss: 2.9003 - accuracy: 0.29 - ETA: 7s - loss: 2.8980 - accuracy: 0.29 - ETA: 7s - loss: 2.8987 - accuracy: 0.29 - ETA: 7s - loss: 2.8953 - accuracy: 0.29 - ETA: 7s - loss: 2.8869 - accuracy: 0.29 - ETA: 7s - loss: 2.8851 - accuracy: 0.29 - ETA: 7s - loss: 2.8862 - accuracy: 0.29 - ETA: 6s - loss: 2.8837 - accuracy: 0.29 - ETA: 6s - loss: 2.8806 - accuracy: 0.29 - ETA: 6s - loss: 2.8771 - accuracy: 0.30 - ETA: 6s - loss: 2.8783 - accuracy: 0.30 - ETA: 6s - loss: 2.8780 - accuracy: 0.30 - ETA: 6s - loss: 2.8740 - accuracy: 0.30 - ETA: 6s - loss: 2.8705 - accuracy: 0.30 - ETA: 6s - loss: 2.8691 - accuracy: 0.30 - ETA: 5s - loss: 2.8710 - accuracy: 0.30 - ETA: 5s - loss: 2.8693 - accuracy: 0.30 - ETA: 5s - loss: 2.8694 - accuracy: 0.30 - ETA: 5s - loss: 2.8667 - accuracy: 0.30 - ETA: 5s - loss: 2.8676 - accuracy: 0.30 - ETA: 5s - loss: 2.8644 - accuracy: 0.30 - ETA: 5s - loss: 2.8673 - accuracy: 0.30 - ETA: 5s - loss: 2.8656 - accuracy: 0.30 - ETA: 5s - loss: 2.8662 - accuracy: 0.30 - ETA: 5s - loss: 2.8605 - accuracy: 0.30 - ETA: 5s - loss: 2.8590 - accuracy: 0.30 - ETA: 4s - loss: 2.8580 - accuracy: 0.30 - ETA: 4s - loss: 2.8563 - accuracy: 0.30 - ETA: 4s - loss: 2.8534 - accuracy: 0.30 - ETA: 4s - loss: 2.8557 - accuracy: 0.30 - ETA: 4s - loss: 2.8547 - accuracy: 0.30 - ETA: 4s - loss: 2.8554 - accuracy: 0.30 - ETA: 4s - loss: 2.8533 - accuracy: 0.30 - ETA: 4s - loss: 2.8521 - accuracy: 0.30 - ETA: 4s - loss: 2.8536 - accuracy: 0.30 - ETA: 4s - loss: 2.8549 - accuracy: 0.30 - ETA: 4s - loss: 2.8529 - accuracy: 0.30 - ETA: 4s - loss: 2.8511 - accuracy: 0.30 - ETA: 4s - loss: 2.8507 - accuracy: 0.30 - ETA: 3s - loss: 2.8488 - accuracy: 0.30 - ETA: 3s - loss: 2.8484 - accuracy: 0.30 - ETA: 3s - loss: 2.8474 - accuracy: 0.30 - ETA: 3s - loss: 2.8453 - accuracy: 0.30 - ETA: 3s - loss: 2.8456 - accuracy: 0.30 - ETA: 3s - loss: 2.8470 - accuracy: 0.30 - ETA: 3s - loss: 2.8459 - accuracy: 0.30 - ETA: 3s - loss: 2.8452 - accuracy: 0.30 - ETA: 3s - loss: 2.8464 - accuracy: 0.30 - ETA: 3s - loss: 2.8462 - accuracy: 0.30 - ETA: 3s - loss: 2.8476 - accuracy: 0.30 - ETA: 3s - loss: 2.8484 - accuracy: 0.30 - ETA: 3s - loss: 2.8479 - accuracy: 0.30 - ETA: 3s - loss: 2.8497 - accuracy: 0.30 - ETA: 3s - loss: 2.8488 - accuracy: 0.30 - ETA: 2s - loss: 2.8447 - accuracy: 0.30 - ETA: 2s - loss: 2.8434 - accuracy: 0.30 - ETA: 2s - loss: 2.8411 - accuracy: 0.30 - ETA: 2s - loss: 2.8397 - accuracy: 0.30 - ETA: 2s - loss: 2.8404 - accuracy: 0.30 - ETA: 2s - loss: 2.8370 - accuracy: 0.30 - ETA: 2s - loss: 2.8345 - accuracy: 0.30 - ETA: 2s - loss: 2.8314 - accuracy: 0.30 - ETA: 2s - loss: 2.8292 - accuracy: 0.31 - ETA: 2s - loss: 2.8277 - accuracy: 0.31 - ETA: 2s - loss: 2.8244 - accuracy: 0.31 - ETA: 2s - loss: 2.8239 - accuracy: 0.31 - ETA: 2s - loss: 2.8234 - accuracy: 0.31 - ETA: 2s - loss: 2.8251 - accuracy: 0.31 - ETA: 2s - loss: 2.8242 - accuracy: 0.31 - ETA: 2s - loss: 2.8217 - accuracy: 0.31 - ETA: 2s - loss: 2.8201 - accuracy: 0.31 - ETA: 1s - loss: 2.8192 - accuracy: 0.31 - ETA: 1s - loss: 2.8181 - accuracy: 0.31 - ETA: 1s - loss: 2.8175 - accuracy: 0.31 - ETA: 1s - loss: 2.8176 - accuracy: 0.31 - ETA: 1s - loss: 2.8172 - accuracy: 0.31 - ETA: 1s - loss: 2.8151 - accuracy: 0.31 - ETA: 1s - loss: 2.8119 - accuracy: 0.31 - ETA: 1s - loss: 2.8125 - accuracy: 0.31 - ETA: 1s - loss: 2.8114 - accuracy: 0.31 - ETA: 1s - loss: 2.8103 - accuracy: 0.31 - ETA: 1s - loss: 2.8100 - accuracy: 0.31 - ETA: 1s - loss: 2.8094 - accuracy: 0.31 - ETA: 1s - loss: 2.8093 - accuracy: 0.31 - ETA: 1s - loss: 2.8115 - accuracy: 0.31 - ETA: 1s - loss: 2.8119 - accuracy: 0.31 - ETA: 1s - loss: 2.8100 - accuracy: 0.31 - ETA: 1s - loss: 2.8088 - accuracy: 0.31 - ETA: 0s - loss: 2.8084 - accuracy: 0.31 - ETA: 0s - loss: 2.8068 - accuracy: 0.31 - ETA: 0s - loss: 2.8063 - accuracy: 0.31 - ETA: 0s - loss: 2.8047 - accuracy: 0.31 - ETA: 0s - loss: 2.8038 - accuracy: 0.31 - ETA: 0s - loss: 2.8028 - accuracy: 0.31 - ETA: 0s - loss: 2.8028 - accuracy: 0.31 - ETA: 0s - loss: 2.8023 - accuracy: 0.31 - ETA: 0s - loss: 2.8011 - accuracy: 0.31 - ETA: 0s - loss: 2.8000 - accuracy: 0.31 - ETA: 0s - loss: 2.7991 - accuracy: 0.31 - ETA: 0s - loss: 2.7994 - accuracy: 0.31 - ETA: 0s - loss: 2.7991 - accuracy: 0.31 - ETA: 0s - loss: 2.7990 - accuracy: 0.31 - ETA: 0s - loss: 2.7982 - accuracy: 0.3161WARNING:tensorflow:Early stopping conditioned on metric `val_loss` which is not available. Available metrics are: loss,accuracy\n",
      "WARNING:tensorflow:Can save best model only with val_loss available, skipping.\n"
     ]
    },
    {
     "ename": "KeyboardInterrupt",
     "evalue": "",
     "output_type": "error",
     "traceback": [
      "\u001b[1;31m---------------------------------------------------------------------------\u001b[0m",
      "\u001b[1;31mKeyboardInterrupt\u001b[0m                         Traceback (most recent call last)",
      "\u001b[1;32m<ipython-input-23-d443d2e39e73>\u001b[0m in \u001b[0;36m<module>\u001b[1;34m\u001b[0m\n\u001b[0;32m     13\u001b[0m \u001b[1;31m#             time_limit=20*60)\u001b[0m\u001b[1;33m\u001b[0m\u001b[1;33m\u001b[0m\u001b[1;33m\u001b[0m\u001b[0m\n\u001b[0;32m     14\u001b[0m \u001b[0mclf\u001b[0m \u001b[1;33m=\u001b[0m \u001b[0mak\u001b[0m\u001b[1;33m.\u001b[0m\u001b[0mImageClassifier\u001b[0m\u001b[1;33m(\u001b[0m\u001b[0mmax_trials\u001b[0m\u001b[1;33m=\u001b[0m\u001b[1;36m3\u001b[0m\u001b[1;33m)\u001b[0m\u001b[1;33m\u001b[0m\u001b[1;33m\u001b[0m\u001b[0m\n\u001b[1;32m---> 15\u001b[1;33m \u001b[0mclf\u001b[0m\u001b[1;33m.\u001b[0m\u001b[0mfit\u001b[0m\u001b[1;33m(\u001b[0m\u001b[0mx_train\u001b[0m\u001b[1;33m,\u001b[0m \u001b[0my_train\u001b[0m\u001b[1;33m,\u001b[0m \u001b[0mepochs\u001b[0m\u001b[1;33m=\u001b[0m\u001b[1;36m10\u001b[0m\u001b[1;33m)\u001b[0m\u001b[1;33m\u001b[0m\u001b[1;33m\u001b[0m\u001b[0m\n\u001b[0m",
      "\u001b[1;32mC:\\ProgramData\\Anaconda3\\lib\\site-packages\\autokeras\\tasks\\image.py\u001b[0m in \u001b[0;36mfit\u001b[1;34m(self, x, y, epochs, callbacks, validation_split, validation_data, **kwargs)\u001b[0m\n\u001b[0;32m    120\u001b[0m                     \u001b[0mvalidation_split\u001b[0m\u001b[1;33m=\u001b[0m\u001b[0mvalidation_split\u001b[0m\u001b[1;33m,\u001b[0m\u001b[1;33m\u001b[0m\u001b[1;33m\u001b[0m\u001b[0m\n\u001b[0;32m    121\u001b[0m                     \u001b[0mvalidation_data\u001b[0m\u001b[1;33m=\u001b[0m\u001b[0mvalidation_data\u001b[0m\u001b[1;33m,\u001b[0m\u001b[1;33m\u001b[0m\u001b[1;33m\u001b[0m\u001b[0m\n\u001b[1;32m--> 122\u001b[1;33m                     **kwargs)\n\u001b[0m\u001b[0;32m    123\u001b[0m \u001b[1;33m\u001b[0m\u001b[0m\n\u001b[0;32m    124\u001b[0m \u001b[1;33m\u001b[0m\u001b[0m\n",
      "\u001b[1;32mC:\\ProgramData\\Anaconda3\\lib\\site-packages\\autokeras\\auto_model.py\u001b[0m in \u001b[0;36mfit\u001b[1;34m(self, x, y, batch_size, epochs, callbacks, validation_split, validation_data, **kwargs)\u001b[0m\n\u001b[0;32m    256\u001b[0m                           \u001b[0mvalidation_data\u001b[0m\u001b[1;33m=\u001b[0m\u001b[0mvalidation_data\u001b[0m\u001b[1;33m,\u001b[0m\u001b[1;33m\u001b[0m\u001b[1;33m\u001b[0m\u001b[0m\n\u001b[0;32m    257\u001b[0m                           \u001b[0mfit_on_val_data\u001b[0m\u001b[1;33m=\u001b[0m\u001b[0mself\u001b[0m\u001b[1;33m.\u001b[0m\u001b[0m_split_dataset\u001b[0m\u001b[1;33m,\u001b[0m\u001b[1;33m\u001b[0m\u001b[1;33m\u001b[0m\u001b[0m\n\u001b[1;32m--> 258\u001b[1;33m                           **kwargs)\n\u001b[0m\u001b[0;32m    259\u001b[0m \u001b[1;33m\u001b[0m\u001b[0m\n\u001b[0;32m    260\u001b[0m     \u001b[1;32mdef\u001b[0m \u001b[0m_process_x\u001b[0m\u001b[1;33m(\u001b[0m\u001b[0mself\u001b[0m\u001b[1;33m,\u001b[0m \u001b[0mx\u001b[0m\u001b[1;33m,\u001b[0m \u001b[0mfit\u001b[0m\u001b[1;33m)\u001b[0m\u001b[1;33m:\u001b[0m\u001b[1;33m\u001b[0m\u001b[1;33m\u001b[0m\u001b[0m\n",
      "\u001b[1;32mC:\\ProgramData\\Anaconda3\\lib\\site-packages\\autokeras\\engine\\tuner.py\u001b[0m in \u001b[0;36msearch\u001b[1;34m(self, callbacks, fit_on_val_data, **fit_kwargs)\u001b[0m\n\u001b[0;32m    112\u001b[0m             \u001b[0mnew_callbacks\u001b[0m\u001b[1;33m.\u001b[0m\u001b[0mappend\u001b[0m\u001b[1;33m(\u001b[0m\u001b[0mtf\u001b[0m\u001b[1;33m.\u001b[0m\u001b[0mkeras\u001b[0m\u001b[1;33m.\u001b[0m\u001b[0mcallbacks\u001b[0m\u001b[1;33m.\u001b[0m\u001b[0mEarlyStopping\u001b[0m\u001b[1;33m(\u001b[0m\u001b[0mpatience\u001b[0m\u001b[1;33m=\u001b[0m\u001b[1;36m10\u001b[0m\u001b[1;33m)\u001b[0m\u001b[1;33m)\u001b[0m\u001b[1;33m\u001b[0m\u001b[1;33m\u001b[0m\u001b[0m\n\u001b[0;32m    113\u001b[0m \u001b[1;33m\u001b[0m\u001b[0m\n\u001b[1;32m--> 114\u001b[1;33m         \u001b[0msuper\u001b[0m\u001b[1;33m(\u001b[0m\u001b[1;33m)\u001b[0m\u001b[1;33m.\u001b[0m\u001b[0msearch\u001b[0m\u001b[1;33m(\u001b[0m\u001b[0mcallbacks\u001b[0m\u001b[1;33m=\u001b[0m\u001b[0mnew_callbacks\u001b[0m\u001b[1;33m,\u001b[0m \u001b[1;33m**\u001b[0m\u001b[0mfit_kwargs\u001b[0m\u001b[1;33m)\u001b[0m\u001b[1;33m\u001b[0m\u001b[1;33m\u001b[0m\u001b[0m\n\u001b[0m\u001b[0;32m    115\u001b[0m \u001b[1;33m\u001b[0m\u001b[0m\n\u001b[0;32m    116\u001b[0m         \u001b[1;31m# Fully train the best model with original callbacks.\u001b[0m\u001b[1;33m\u001b[0m\u001b[1;33m\u001b[0m\u001b[1;33m\u001b[0m\u001b[0m\n",
      "\u001b[1;32mC:\\ProgramData\\Anaconda3\\lib\\site-packages\\kerastuner\\engine\\base_tuner.py\u001b[0m in \u001b[0;36msearch\u001b[1;34m(self, *fit_args, **fit_kwargs)\u001b[0m\n\u001b[0;32m    128\u001b[0m \u001b[1;33m\u001b[0m\u001b[0m\n\u001b[0;32m    129\u001b[0m             \u001b[0mself\u001b[0m\u001b[1;33m.\u001b[0m\u001b[0mon_trial_begin\u001b[0m\u001b[1;33m(\u001b[0m\u001b[0mtrial\u001b[0m\u001b[1;33m)\u001b[0m\u001b[1;33m\u001b[0m\u001b[1;33m\u001b[0m\u001b[0m\n\u001b[1;32m--> 130\u001b[1;33m             \u001b[0mself\u001b[0m\u001b[1;33m.\u001b[0m\u001b[0mrun_trial\u001b[0m\u001b[1;33m(\u001b[0m\u001b[0mtrial\u001b[0m\u001b[1;33m,\u001b[0m \u001b[1;33m*\u001b[0m\u001b[0mfit_args\u001b[0m\u001b[1;33m,\u001b[0m \u001b[1;33m**\u001b[0m\u001b[0mfit_kwargs\u001b[0m\u001b[1;33m)\u001b[0m\u001b[1;33m\u001b[0m\u001b[1;33m\u001b[0m\u001b[0m\n\u001b[0m\u001b[0;32m    131\u001b[0m             \u001b[0mself\u001b[0m\u001b[1;33m.\u001b[0m\u001b[0mon_trial_end\u001b[0m\u001b[1;33m(\u001b[0m\u001b[0mtrial\u001b[0m\u001b[1;33m)\u001b[0m\u001b[1;33m\u001b[0m\u001b[1;33m\u001b[0m\u001b[0m\n\u001b[0;32m    132\u001b[0m         \u001b[0mself\u001b[0m\u001b[1;33m.\u001b[0m\u001b[0mon_search_end\u001b[0m\u001b[1;33m(\u001b[0m\u001b[1;33m)\u001b[0m\u001b[1;33m\u001b[0m\u001b[1;33m\u001b[0m\u001b[0m\n",
      "\u001b[1;32mC:\\ProgramData\\Anaconda3\\lib\\site-packages\\autokeras\\engine\\tuner.py\u001b[0m in \u001b[0;36mrun_trial\u001b[1;34m(self, trial, x, *fit_args, **fit_kwargs)\u001b[0m\n\u001b[0;32m     69\u001b[0m             \u001b[0mmodel\u001b[0m \u001b[1;33m=\u001b[0m \u001b[0mself\u001b[0m\u001b[1;33m.\u001b[0m\u001b[0mhypermodel\u001b[0m\u001b[1;33m.\u001b[0m\u001b[0mbuild\u001b[0m\u001b[1;33m(\u001b[0m\u001b[0mtrial\u001b[0m\u001b[1;33m.\u001b[0m\u001b[0mhyperparameters\u001b[0m\u001b[1;33m)\u001b[0m\u001b[1;33m\u001b[0m\u001b[1;33m\u001b[0m\u001b[0m\n\u001b[0;32m     70\u001b[0m             \u001b[0mutils\u001b[0m\u001b[1;33m.\u001b[0m\u001b[0madapt_model\u001b[0m\u001b[1;33m(\u001b[0m\u001b[0mmodel\u001b[0m\u001b[1;33m,\u001b[0m \u001b[0mx\u001b[0m\u001b[1;33m)\u001b[0m\u001b[1;33m\u001b[0m\u001b[1;33m\u001b[0m\u001b[0m\n\u001b[1;32m---> 71\u001b[1;33m             \u001b[0mhistory\u001b[0m \u001b[1;33m=\u001b[0m \u001b[0mmodel\u001b[0m\u001b[1;33m.\u001b[0m\u001b[0mfit\u001b[0m\u001b[1;33m(\u001b[0m\u001b[0mx\u001b[0m\u001b[1;33m,\u001b[0m \u001b[1;33m*\u001b[0m\u001b[0mfit_args\u001b[0m\u001b[1;33m,\u001b[0m \u001b[1;33m**\u001b[0m\u001b[0mcopied_fit_kwargs\u001b[0m\u001b[1;33m)\u001b[0m\u001b[1;33m\u001b[0m\u001b[1;33m\u001b[0m\u001b[0m\n\u001b[0m\u001b[0;32m     72\u001b[0m             \u001b[1;32mfor\u001b[0m \u001b[0mmetric\u001b[0m\u001b[1;33m,\u001b[0m \u001b[0mepoch_values\u001b[0m \u001b[1;32min\u001b[0m \u001b[0mhistory\u001b[0m\u001b[1;33m.\u001b[0m\u001b[0mhistory\u001b[0m\u001b[1;33m.\u001b[0m\u001b[0mitems\u001b[0m\u001b[1;33m(\u001b[0m\u001b[1;33m)\u001b[0m\u001b[1;33m:\u001b[0m\u001b[1;33m\u001b[0m\u001b[1;33m\u001b[0m\u001b[0m\n\u001b[0;32m     73\u001b[0m                 \u001b[1;32mif\u001b[0m \u001b[0mself\u001b[0m\u001b[1;33m.\u001b[0m\u001b[0moracle\u001b[0m\u001b[1;33m.\u001b[0m\u001b[0mobjective\u001b[0m\u001b[1;33m.\u001b[0m\u001b[0mdirection\u001b[0m \u001b[1;33m==\u001b[0m \u001b[1;34m'min'\u001b[0m\u001b[1;33m:\u001b[0m\u001b[1;33m\u001b[0m\u001b[1;33m\u001b[0m\u001b[0m\n",
      "\u001b[1;32mC:\\ProgramData\\Anaconda3\\lib\\site-packages\\tensorflow_core\\python\\keras\\engine\\training.py\u001b[0m in \u001b[0;36mfit\u001b[1;34m(self, x, y, batch_size, epochs, verbose, callbacks, validation_split, validation_data, shuffle, class_weight, sample_weight, initial_epoch, steps_per_epoch, validation_steps, validation_freq, max_queue_size, workers, use_multiprocessing, **kwargs)\u001b[0m\n\u001b[0;32m    817\u001b[0m         \u001b[0mmax_queue_size\u001b[0m\u001b[1;33m=\u001b[0m\u001b[0mmax_queue_size\u001b[0m\u001b[1;33m,\u001b[0m\u001b[1;33m\u001b[0m\u001b[1;33m\u001b[0m\u001b[0m\n\u001b[0;32m    818\u001b[0m         \u001b[0mworkers\u001b[0m\u001b[1;33m=\u001b[0m\u001b[0mworkers\u001b[0m\u001b[1;33m,\u001b[0m\u001b[1;33m\u001b[0m\u001b[1;33m\u001b[0m\u001b[0m\n\u001b[1;32m--> 819\u001b[1;33m         use_multiprocessing=use_multiprocessing)\n\u001b[0m\u001b[0;32m    820\u001b[0m \u001b[1;33m\u001b[0m\u001b[0m\n\u001b[0;32m    821\u001b[0m   def evaluate(self,\n",
      "\u001b[1;32mC:\\ProgramData\\Anaconda3\\lib\\site-packages\\tensorflow_core\\python\\keras\\engine\\training_v2.py\u001b[0m in \u001b[0;36mfit\u001b[1;34m(self, model, x, y, batch_size, epochs, verbose, callbacks, validation_split, validation_data, shuffle, class_weight, sample_weight, initial_epoch, steps_per_epoch, validation_steps, validation_freq, max_queue_size, workers, use_multiprocessing, **kwargs)\u001b[0m\n\u001b[0;32m    340\u001b[0m                 \u001b[0mmode\u001b[0m\u001b[1;33m=\u001b[0m\u001b[0mModeKeys\u001b[0m\u001b[1;33m.\u001b[0m\u001b[0mTRAIN\u001b[0m\u001b[1;33m,\u001b[0m\u001b[1;33m\u001b[0m\u001b[1;33m\u001b[0m\u001b[0m\n\u001b[0;32m    341\u001b[0m                 \u001b[0mtraining_context\u001b[0m\u001b[1;33m=\u001b[0m\u001b[0mtraining_context\u001b[0m\u001b[1;33m,\u001b[0m\u001b[1;33m\u001b[0m\u001b[1;33m\u001b[0m\u001b[0m\n\u001b[1;32m--> 342\u001b[1;33m                 total_epochs=epochs)\n\u001b[0m\u001b[0;32m    343\u001b[0m             \u001b[0mcbks\u001b[0m\u001b[1;33m.\u001b[0m\u001b[0mmake_logs\u001b[0m\u001b[1;33m(\u001b[0m\u001b[0mmodel\u001b[0m\u001b[1;33m,\u001b[0m \u001b[0mepoch_logs\u001b[0m\u001b[1;33m,\u001b[0m \u001b[0mtraining_result\u001b[0m\u001b[1;33m,\u001b[0m \u001b[0mModeKeys\u001b[0m\u001b[1;33m.\u001b[0m\u001b[0mTRAIN\u001b[0m\u001b[1;33m)\u001b[0m\u001b[1;33m\u001b[0m\u001b[1;33m\u001b[0m\u001b[0m\n\u001b[0;32m    344\u001b[0m \u001b[1;33m\u001b[0m\u001b[0m\n",
      "\u001b[1;32mC:\\ProgramData\\Anaconda3\\lib\\site-packages\\tensorflow_core\\python\\keras\\engine\\training_v2.py\u001b[0m in \u001b[0;36mrun_one_epoch\u001b[1;34m(model, iterator, execution_function, dataset_size, batch_size, strategy, steps_per_epoch, num_samples, mode, training_context, total_epochs)\u001b[0m\n\u001b[0;32m    126\u001b[0m         step=step, mode=mode, size=current_batch_size) as batch_logs:\n\u001b[0;32m    127\u001b[0m       \u001b[1;32mtry\u001b[0m\u001b[1;33m:\u001b[0m\u001b[1;33m\u001b[0m\u001b[1;33m\u001b[0m\u001b[0m\n\u001b[1;32m--> 128\u001b[1;33m         \u001b[0mbatch_outs\u001b[0m \u001b[1;33m=\u001b[0m \u001b[0mexecution_function\u001b[0m\u001b[1;33m(\u001b[0m\u001b[0miterator\u001b[0m\u001b[1;33m)\u001b[0m\u001b[1;33m\u001b[0m\u001b[1;33m\u001b[0m\u001b[0m\n\u001b[0m\u001b[0;32m    129\u001b[0m       \u001b[1;32mexcept\u001b[0m \u001b[1;33m(\u001b[0m\u001b[0mStopIteration\u001b[0m\u001b[1;33m,\u001b[0m \u001b[0merrors\u001b[0m\u001b[1;33m.\u001b[0m\u001b[0mOutOfRangeError\u001b[0m\u001b[1;33m)\u001b[0m\u001b[1;33m:\u001b[0m\u001b[1;33m\u001b[0m\u001b[1;33m\u001b[0m\u001b[0m\n\u001b[0;32m    130\u001b[0m         \u001b[1;31m# TODO(kaftan): File bug about tf function and errors.OutOfRangeError?\u001b[0m\u001b[1;33m\u001b[0m\u001b[1;33m\u001b[0m\u001b[1;33m\u001b[0m\u001b[0m\n",
      "\u001b[1;32mC:\\ProgramData\\Anaconda3\\lib\\site-packages\\tensorflow_core\\python\\keras\\engine\\training_v2_utils.py\u001b[0m in \u001b[0;36mexecution_function\u001b[1;34m(input_fn)\u001b[0m\n\u001b[0;32m     96\u001b[0m     \u001b[1;31m# `numpy` translates Tensors to values in Eager mode.\u001b[0m\u001b[1;33m\u001b[0m\u001b[1;33m\u001b[0m\u001b[1;33m\u001b[0m\u001b[0m\n\u001b[0;32m     97\u001b[0m     return nest.map_structure(_non_none_constant_value,\n\u001b[1;32m---> 98\u001b[1;33m                               distributed_function(input_fn))\n\u001b[0m\u001b[0;32m     99\u001b[0m \u001b[1;33m\u001b[0m\u001b[0m\n\u001b[0;32m    100\u001b[0m   \u001b[1;32mreturn\u001b[0m \u001b[0mexecution_function\u001b[0m\u001b[1;33m\u001b[0m\u001b[1;33m\u001b[0m\u001b[0m\n",
      "\u001b[1;32mC:\\ProgramData\\Anaconda3\\lib\\site-packages\\tensorflow_core\\python\\eager\\def_function.py\u001b[0m in \u001b[0;36m__call__\u001b[1;34m(self, *args, **kwds)\u001b[0m\n\u001b[0;32m    566\u001b[0m         \u001b[0mxla_context\u001b[0m\u001b[1;33m.\u001b[0m\u001b[0mExit\u001b[0m\u001b[1;33m(\u001b[0m\u001b[1;33m)\u001b[0m\u001b[1;33m\u001b[0m\u001b[1;33m\u001b[0m\u001b[0m\n\u001b[0;32m    567\u001b[0m     \u001b[1;32melse\u001b[0m\u001b[1;33m:\u001b[0m\u001b[1;33m\u001b[0m\u001b[1;33m\u001b[0m\u001b[0m\n\u001b[1;32m--> 568\u001b[1;33m       \u001b[0mresult\u001b[0m \u001b[1;33m=\u001b[0m \u001b[0mself\u001b[0m\u001b[1;33m.\u001b[0m\u001b[0m_call\u001b[0m\u001b[1;33m(\u001b[0m\u001b[1;33m*\u001b[0m\u001b[0margs\u001b[0m\u001b[1;33m,\u001b[0m \u001b[1;33m**\u001b[0m\u001b[0mkwds\u001b[0m\u001b[1;33m)\u001b[0m\u001b[1;33m\u001b[0m\u001b[1;33m\u001b[0m\u001b[0m\n\u001b[0m\u001b[0;32m    569\u001b[0m \u001b[1;33m\u001b[0m\u001b[0m\n\u001b[0;32m    570\u001b[0m     \u001b[1;32mif\u001b[0m \u001b[0mtracing_count\u001b[0m \u001b[1;33m==\u001b[0m \u001b[0mself\u001b[0m\u001b[1;33m.\u001b[0m\u001b[0m_get_tracing_count\u001b[0m\u001b[1;33m(\u001b[0m\u001b[1;33m)\u001b[0m\u001b[1;33m:\u001b[0m\u001b[1;33m\u001b[0m\u001b[1;33m\u001b[0m\u001b[0m\n",
      "\u001b[1;32mC:\\ProgramData\\Anaconda3\\lib\\site-packages\\tensorflow_core\\python\\eager\\def_function.py\u001b[0m in \u001b[0;36m_call\u001b[1;34m(self, *args, **kwds)\u001b[0m\n\u001b[0;32m    597\u001b[0m       \u001b[1;31m# In this case we have created variables on the first call, so we run the\u001b[0m\u001b[1;33m\u001b[0m\u001b[1;33m\u001b[0m\u001b[1;33m\u001b[0m\u001b[0m\n\u001b[0;32m    598\u001b[0m       \u001b[1;31m# defunned version which is guaranteed to never create variables.\u001b[0m\u001b[1;33m\u001b[0m\u001b[1;33m\u001b[0m\u001b[1;33m\u001b[0m\u001b[0m\n\u001b[1;32m--> 599\u001b[1;33m       \u001b[1;32mreturn\u001b[0m \u001b[0mself\u001b[0m\u001b[1;33m.\u001b[0m\u001b[0m_stateless_fn\u001b[0m\u001b[1;33m(\u001b[0m\u001b[1;33m*\u001b[0m\u001b[0margs\u001b[0m\u001b[1;33m,\u001b[0m \u001b[1;33m**\u001b[0m\u001b[0mkwds\u001b[0m\u001b[1;33m)\u001b[0m  \u001b[1;31m# pylint: disable=not-callable\u001b[0m\u001b[1;33m\u001b[0m\u001b[1;33m\u001b[0m\u001b[0m\n\u001b[0m\u001b[0;32m    600\u001b[0m     \u001b[1;32melif\u001b[0m \u001b[0mself\u001b[0m\u001b[1;33m.\u001b[0m\u001b[0m_stateful_fn\u001b[0m \u001b[1;32mis\u001b[0m \u001b[1;32mnot\u001b[0m \u001b[1;32mNone\u001b[0m\u001b[1;33m:\u001b[0m\u001b[1;33m\u001b[0m\u001b[1;33m\u001b[0m\u001b[0m\n\u001b[0;32m    601\u001b[0m       \u001b[1;31m# Release the lock early so that multiple threads can perform the call\u001b[0m\u001b[1;33m\u001b[0m\u001b[1;33m\u001b[0m\u001b[1;33m\u001b[0m\u001b[0m\n",
      "\u001b[1;32mC:\\ProgramData\\Anaconda3\\lib\\site-packages\\tensorflow_core\\python\\eager\\function.py\u001b[0m in \u001b[0;36m__call__\u001b[1;34m(self, *args, **kwargs)\u001b[0m\n\u001b[0;32m   2361\u001b[0m     \u001b[1;32mwith\u001b[0m \u001b[0mself\u001b[0m\u001b[1;33m.\u001b[0m\u001b[0m_lock\u001b[0m\u001b[1;33m:\u001b[0m\u001b[1;33m\u001b[0m\u001b[1;33m\u001b[0m\u001b[0m\n\u001b[0;32m   2362\u001b[0m       \u001b[0mgraph_function\u001b[0m\u001b[1;33m,\u001b[0m \u001b[0margs\u001b[0m\u001b[1;33m,\u001b[0m \u001b[0mkwargs\u001b[0m \u001b[1;33m=\u001b[0m \u001b[0mself\u001b[0m\u001b[1;33m.\u001b[0m\u001b[0m_maybe_define_function\u001b[0m\u001b[1;33m(\u001b[0m\u001b[0margs\u001b[0m\u001b[1;33m,\u001b[0m \u001b[0mkwargs\u001b[0m\u001b[1;33m)\u001b[0m\u001b[1;33m\u001b[0m\u001b[1;33m\u001b[0m\u001b[0m\n\u001b[1;32m-> 2363\u001b[1;33m     \u001b[1;32mreturn\u001b[0m \u001b[0mgraph_function\u001b[0m\u001b[1;33m.\u001b[0m\u001b[0m_filtered_call\u001b[0m\u001b[1;33m(\u001b[0m\u001b[0margs\u001b[0m\u001b[1;33m,\u001b[0m \u001b[0mkwargs\u001b[0m\u001b[1;33m)\u001b[0m  \u001b[1;31m# pylint: disable=protected-access\u001b[0m\u001b[1;33m\u001b[0m\u001b[1;33m\u001b[0m\u001b[0m\n\u001b[0m\u001b[0;32m   2364\u001b[0m \u001b[1;33m\u001b[0m\u001b[0m\n\u001b[0;32m   2365\u001b[0m   \u001b[1;33m@\u001b[0m\u001b[0mproperty\u001b[0m\u001b[1;33m\u001b[0m\u001b[1;33m\u001b[0m\u001b[0m\n",
      "\u001b[1;32mC:\\ProgramData\\Anaconda3\\lib\\site-packages\\tensorflow_core\\python\\eager\\function.py\u001b[0m in \u001b[0;36m_filtered_call\u001b[1;34m(self, args, kwargs)\u001b[0m\n\u001b[0;32m   1609\u001b[0m          if isinstance(t, (ops.Tensor,\n\u001b[0;32m   1610\u001b[0m                            resource_variable_ops.BaseResourceVariable))),\n\u001b[1;32m-> 1611\u001b[1;33m         self.captured_inputs)\n\u001b[0m\u001b[0;32m   1612\u001b[0m \u001b[1;33m\u001b[0m\u001b[0m\n\u001b[0;32m   1613\u001b[0m   \u001b[1;32mdef\u001b[0m \u001b[0m_call_flat\u001b[0m\u001b[1;33m(\u001b[0m\u001b[0mself\u001b[0m\u001b[1;33m,\u001b[0m \u001b[0margs\u001b[0m\u001b[1;33m,\u001b[0m \u001b[0mcaptured_inputs\u001b[0m\u001b[1;33m,\u001b[0m \u001b[0mcancellation_manager\u001b[0m\u001b[1;33m=\u001b[0m\u001b[1;32mNone\u001b[0m\u001b[1;33m)\u001b[0m\u001b[1;33m:\u001b[0m\u001b[1;33m\u001b[0m\u001b[1;33m\u001b[0m\u001b[0m\n",
      "\u001b[1;32mC:\\ProgramData\\Anaconda3\\lib\\site-packages\\tensorflow_core\\python\\eager\\function.py\u001b[0m in \u001b[0;36m_call_flat\u001b[1;34m(self, args, captured_inputs, cancellation_manager)\u001b[0m\n\u001b[0;32m   1690\u001b[0m       \u001b[1;31m# No tape is watching; skip to running the function.\u001b[0m\u001b[1;33m\u001b[0m\u001b[1;33m\u001b[0m\u001b[1;33m\u001b[0m\u001b[0m\n\u001b[0;32m   1691\u001b[0m       return self._build_call_outputs(self._inference_function.call(\n\u001b[1;32m-> 1692\u001b[1;33m           ctx, args, cancellation_manager=cancellation_manager))\n\u001b[0m\u001b[0;32m   1693\u001b[0m     forward_backward = self._select_forward_and_backward_functions(\n\u001b[0;32m   1694\u001b[0m         \u001b[0margs\u001b[0m\u001b[1;33m,\u001b[0m\u001b[1;33m\u001b[0m\u001b[1;33m\u001b[0m\u001b[0m\n",
      "\u001b[1;32mC:\\ProgramData\\Anaconda3\\lib\\site-packages\\tensorflow_core\\python\\eager\\function.py\u001b[0m in \u001b[0;36mcall\u001b[1;34m(self, ctx, args, cancellation_manager)\u001b[0m\n\u001b[0;32m    543\u001b[0m               \u001b[0minputs\u001b[0m\u001b[1;33m=\u001b[0m\u001b[0margs\u001b[0m\u001b[1;33m,\u001b[0m\u001b[1;33m\u001b[0m\u001b[1;33m\u001b[0m\u001b[0m\n\u001b[0;32m    544\u001b[0m               \u001b[0mattrs\u001b[0m\u001b[1;33m=\u001b[0m\u001b[1;33m(\u001b[0m\u001b[1;34m\"executor_type\"\u001b[0m\u001b[1;33m,\u001b[0m \u001b[0mexecutor_type\u001b[0m\u001b[1;33m,\u001b[0m \u001b[1;34m\"config_proto\"\u001b[0m\u001b[1;33m,\u001b[0m \u001b[0mconfig\u001b[0m\u001b[1;33m)\u001b[0m\u001b[1;33m,\u001b[0m\u001b[1;33m\u001b[0m\u001b[1;33m\u001b[0m\u001b[0m\n\u001b[1;32m--> 545\u001b[1;33m               ctx=ctx)\n\u001b[0m\u001b[0;32m    546\u001b[0m         \u001b[1;32melse\u001b[0m\u001b[1;33m:\u001b[0m\u001b[1;33m\u001b[0m\u001b[1;33m\u001b[0m\u001b[0m\n\u001b[0;32m    547\u001b[0m           outputs = execute.execute_with_cancellation(\n",
      "\u001b[1;32mC:\\ProgramData\\Anaconda3\\lib\\site-packages\\tensorflow_core\\python\\eager\\execute.py\u001b[0m in \u001b[0;36mquick_execute\u001b[1;34m(op_name, num_outputs, inputs, attrs, ctx, name)\u001b[0m\n\u001b[0;32m     59\u001b[0m     tensors = pywrap_tensorflow.TFE_Py_Execute(ctx._handle, device_name,\n\u001b[0;32m     60\u001b[0m                                                \u001b[0mop_name\u001b[0m\u001b[1;33m,\u001b[0m \u001b[0minputs\u001b[0m\u001b[1;33m,\u001b[0m \u001b[0mattrs\u001b[0m\u001b[1;33m,\u001b[0m\u001b[1;33m\u001b[0m\u001b[1;33m\u001b[0m\u001b[0m\n\u001b[1;32m---> 61\u001b[1;33m                                                num_outputs)\n\u001b[0m\u001b[0;32m     62\u001b[0m   \u001b[1;32mexcept\u001b[0m \u001b[0mcore\u001b[0m\u001b[1;33m.\u001b[0m\u001b[0m_NotOkStatusException\u001b[0m \u001b[1;32mas\u001b[0m \u001b[0me\u001b[0m\u001b[1;33m:\u001b[0m\u001b[1;33m\u001b[0m\u001b[1;33m\u001b[0m\u001b[0m\n\u001b[0;32m     63\u001b[0m     \u001b[1;32mif\u001b[0m \u001b[0mname\u001b[0m \u001b[1;32mis\u001b[0m \u001b[1;32mnot\u001b[0m \u001b[1;32mNone\u001b[0m\u001b[1;33m:\u001b[0m\u001b[1;33m\u001b[0m\u001b[1;33m\u001b[0m\u001b[0m\n",
      "\u001b[1;31mKeyboardInterrupt\u001b[0m: "
     ]
    }
   ],
   "source": [
    "#y_train, y_encoder = to_one_hot(y_train)\n",
    "#y_test, _ = to_one_hot(y_test)\n",
    "#train_dataset = TensorDataset(Tensor(x_train), Tensor(y_train))\n",
    "#test_dataset = TensorDataset(Tensor(x_test.toarray()), Tensor(y_test.toarray()))\n",
    "#train_loader = DataLoader(train_dataset, shuffle=True, batch_size=128)\n",
    "#test_loader = DataLoader(test_dataset, shuffle=True, batch_size=128)\n",
    "\n",
    "#cnnModule = CnnModule(loss=classification_loss, metric=Accuracy, verbose=True)\n",
    "#cnnModule.fit(n_output_node=y_encoder.n_classes,\n",
    "#             input_shape=(-1, x_train.shape[3], x_train.shape[1], x_train.shape[2]),\n",
    "#             train_data=train_loader,\n",
    "#             test_data=test_loader,\n",
    "#             time_limit=20*60)\n",
    "clf = ak.ImageClassifier(max_trials=3)\n",
    "clf.fit(x_train, y_train, epochs=10)"
   ]
  },
  {
   "cell_type": "markdown",
   "metadata": {},
   "source": [
    "## 3.5. Visualizing the best CNN."
   ]
  },
  {
   "cell_type": "code",
   "execution_count": 21,
   "metadata": {},
   "outputs": [
    {
     "name": "stdout",
     "output_type": "stream",
     "text": [
      "WARNING:tensorflow:Unresolved object in checkpoint: (root).optimizer.iter\n",
      "WARNING:tensorflow:Unresolved object in checkpoint: (root).optimizer.beta_1\n",
      "WARNING:tensorflow:Unresolved object in checkpoint: (root).optimizer.beta_2\n",
      "WARNING:tensorflow:Unresolved object in checkpoint: (root).optimizer.decay\n",
      "WARNING:tensorflow:Unresolved object in checkpoint: (root).optimizer.learning_rate\n",
      "WARNING:tensorflow:A checkpoint was restored (e.g. tf.train.Checkpoint.restore or tf.keras.Model.load_weights) but not all checkpointed values were used. See above for specific issues. Use expect_partial() on the load status object, e.g. tf.train.Checkpoint.restore(...).expect_partial(), to silence these warnings, or use assert_consumed() to make the check explicit. See https://www.tensorflow.org/guide/checkpoint#loading_mechanics for details.\n",
      "WARNING:tensorflow:Unresolved object in checkpoint: (root).optimizer.iter\n",
      "WARNING:tensorflow:Unresolved object in checkpoint: (root).optimizer.beta_1\n",
      "WARNING:tensorflow:Unresolved object in checkpoint: (root).optimizer.beta_2\n",
      "WARNING:tensorflow:Unresolved object in checkpoint: (root).optimizer.decay\n",
      "WARNING:tensorflow:Unresolved object in checkpoint: (root).optimizer.learning_rate\n",
      "WARNING:tensorflow:A checkpoint was restored (e.g. tf.train.Checkpoint.restore or tf.keras.Model.load_weights) but not all checkpointed values were used. See above for specific issues. Use expect_partial() on the load status object, e.g. tf.train.Checkpoint.restore(...).expect_partial(), to silence these warnings, or use assert_consumed() to make the check explicit. See https://www.tensorflow.org/guide/checkpoint#loading_mechanics for details.\n",
      "Train for 1250 steps, validate for 313 steps\n",
      "1250/1250 [==============================] - ETA: 17:26 - loss: 4.6408 - accuracy: 0.0000e+0 - ETA: 2:02 - loss: 4.7838 - accuracy: 0.0208    - ETA: 1:08 - loss: 4.7069 - accuracy: 0.01 - ETA: 46s - loss: 4.6491 - accuracy: 0.0132 - ETA: 36s - loss: 4.5999 - accuracy: 0.018 - ETA: 30s - loss: 4.5680 - accuracy: 0.022 - ETA: 26s - loss: 4.5343 - accuracy: 0.029 - ETA: 22s - loss: 4.5126 - accuracy: 0.031 - ETA: 20s - loss: 4.4668 - accuracy: 0.037 - ETA: 18s - loss: 4.4337 - accuracy: 0.040 - ETA: 17s - loss: 4.4006 - accuracy: 0.045 - ETA: 16s - loss: 4.3729 - accuracy: 0.049 - ETA: 15s - loss: 4.3413 - accuracy: 0.053 - ETA: 14s - loss: 4.3164 - accuracy: 0.056 - ETA: 13s - loss: 4.2961 - accuracy: 0.057 - ETA: 12s - loss: 4.2749 - accuracy: 0.061 - ETA: 12s - loss: 4.2529 - accuracy: 0.065 - ETA: 11s - loss: 4.2322 - accuracy: 0.068 - ETA: 11s - loss: 4.2150 - accuracy: 0.068 - ETA: 10s - loss: 4.2009 - accuracy: 0.071 - ETA: 10s - loss: 4.1765 - accuracy: 0.075 - ETA: 9s - loss: 4.1642 - accuracy: 0.077 - ETA: 9s - loss: 4.1496 - accuracy: 0.07 - ETA: 9s - loss: 4.1333 - accuracy: 0.08 - ETA: 9s - loss: 4.1157 - accuracy: 0.08 - ETA: 8s - loss: 4.1005 - accuracy: 0.08 - ETA: 8s - loss: 4.0842 - accuracy: 0.08 - ETA: 8s - loss: 4.0688 - accuracy: 0.09 - ETA: 8s - loss: 4.0555 - accuracy: 0.09 - ETA: 8s - loss: 4.0432 - accuracy: 0.09 - ETA: 7s - loss: 4.0308 - accuracy: 0.09 - ETA: 7s - loss: 4.0194 - accuracy: 0.10 - ETA: 7s - loss: 4.0112 - accuracy: 0.10 - ETA: 7s - loss: 3.9998 - accuracy: 0.10 - ETA: 7s - loss: 3.9849 - accuracy: 0.10 - ETA: 7s - loss: 3.9784 - accuracy: 0.10 - ETA: 6s - loss: 3.9677 - accuracy: 0.10 - ETA: 6s - loss: 3.9578 - accuracy: 0.11 - ETA: 6s - loss: 3.9493 - accuracy: 0.11 - ETA: 6s - loss: 3.9396 - accuracy: 0.11 - ETA: 6s - loss: 3.9345 - accuracy: 0.11 - ETA: 6s - loss: 3.9208 - accuracy: 0.11 - ETA: 6s - loss: 3.9115 - accuracy: 0.12 - ETA: 6s - loss: 3.9023 - accuracy: 0.12 - ETA: 5s - loss: 3.8948 - accuracy: 0.12 - ETA: 5s - loss: 3.8850 - accuracy: 0.12 - ETA: 5s - loss: 3.8778 - accuracy: 0.12 - ETA: 5s - loss: 3.8684 - accuracy: 0.12 - ETA: 5s - loss: 3.8643 - accuracy: 0.12 - ETA: 5s - loss: 3.8552 - accuracy: 0.12 - ETA: 5s - loss: 3.8514 - accuracy: 0.13 - ETA: 5s - loss: 3.8465 - accuracy: 0.13 - ETA: 5s - loss: 3.8387 - accuracy: 0.13 - ETA: 5s - loss: 3.8317 - accuracy: 0.13 - ETA: 4s - loss: 3.8246 - accuracy: 0.13 - ETA: 4s - loss: 3.8179 - accuracy: 0.13 - ETA: 4s - loss: 3.8074 - accuracy: 0.13 - ETA: 4s - loss: 3.8020 - accuracy: 0.13 - ETA: 4s - loss: 3.7936 - accuracy: 0.13 - ETA: 4s - loss: 3.7880 - accuracy: 0.13 - ETA: 4s - loss: 3.7817 - accuracy: 0.14 - ETA: 4s - loss: 3.7739 - accuracy: 0.14 - ETA: 4s - loss: 3.7716 - accuracy: 0.14 - ETA: 4s - loss: 3.7646 - accuracy: 0.14 - ETA: 4s - loss: 3.7569 - accuracy: 0.14 - ETA: 3s - loss: 3.7505 - accuracy: 0.14 - ETA: 3s - loss: 3.7423 - accuracy: 0.14 - ETA: 3s - loss: 3.7372 - accuracy: 0.14 - ETA: 3s - loss: 3.7301 - accuracy: 0.14 - ETA: 3s - loss: 3.7251 - accuracy: 0.15 - ETA: 3s - loss: 3.7192 - accuracy: 0.15 - ETA: 3s - loss: 3.7138 - accuracy: 0.15 - ETA: 3s - loss: 3.7095 - accuracy: 0.15 - ETA: 3s - loss: 3.7047 - accuracy: 0.15 - ETA: 3s - loss: 3.7017 - accuracy: 0.15 - ETA: 3s - loss: 3.6967 - accuracy: 0.15 - ETA: 3s - loss: 3.6926 - accuracy: 0.15 - ETA: 2s - loss: 3.6887 - accuracy: 0.15 - ETA: 2s - loss: 3.6816 - accuracy: 0.15 - ETA: 2s - loss: 3.6775 - accuracy: 0.15 - ETA: 2s - loss: 3.6705 - accuracy: 0.16 - ETA: 2s - loss: 3.6651 - accuracy: 0.16 - ETA: 2s - loss: 3.6584 - accuracy: 0.16 - ETA: 2s - loss: 3.6514 - accuracy: 0.16 - ETA: 2s - loss: 3.6448 - accuracy: 0.16 - ETA: 2s - loss: 3.6391 - accuracy: 0.16 - ETA: 2s - loss: 3.6314 - accuracy: 0.16 - ETA: 2s - loss: 3.6255 - accuracy: 0.16 - ETA: 2s - loss: 3.6195 - accuracy: 0.16 - ETA: 2s - loss: 3.6154 - accuracy: 0.17 - ETA: 2s - loss: 3.6120 - accuracy: 0.17 - ETA: 1s - loss: 3.6064 - accuracy: 0.17 - ETA: 1s - loss: 3.5991 - accuracy: 0.17 - ETA: 1s - loss: 3.5940 - accuracy: 0.17 - ETA: 1s - loss: 3.5898 - accuracy: 0.17 - ETA: 1s - loss: 3.5860 - accuracy: 0.17 - ETA: 1s - loss: 3.5822 - accuracy: 0.17 - ETA: 1s - loss: 3.5752 - accuracy: 0.17 - ETA: 1s - loss: 3.5696 - accuracy: 0.17 - ETA: 1s - loss: 3.5649 - accuracy: 0.17 - ETA: 1s - loss: 3.5611 - accuracy: 0.17 - ETA: 1s - loss: 3.5577 - accuracy: 0.17 - ETA: 1s - loss: 3.5527 - accuracy: 0.18 - ETA: 1s - loss: 3.5507 - accuracy: 0.18 - ETA: 1s - loss: 3.5482 - accuracy: 0.18 - ETA: 1s - loss: 3.5443 - accuracy: 0.18 - ETA: 0s - loss: 3.5394 - accuracy: 0.18 - ETA: 0s - loss: 3.5352 - accuracy: 0.18 - ETA: 0s - loss: 3.5323 - accuracy: 0.18 - ETA: 0s - loss: 3.5276 - accuracy: 0.18 - ETA: 0s - loss: 3.5231 - accuracy: 0.18 - ETA: 0s - loss: 3.5185 - accuracy: 0.18 - ETA: 0s - loss: 3.5145 - accuracy: 0.18 - ETA: 0s - loss: 3.5117 - accuracy: 0.18 - ETA: 0s - loss: 3.5085 - accuracy: 0.18 - ETA: 0s - loss: 3.5042 - accuracy: 0.18 - ETA: 0s - loss: 3.5009 - accuracy: 0.19 - ETA: 0s - loss: 3.4971 - accuracy: 0.19 - ETA: 0s - loss: 3.4938 - accuracy: 0.19 - ETA: 0s - loss: 3.4910 - accuracy: 0.19 - ETA: 0s - loss: 3.4892 - accuracy: 0.19 - ETA: 0s - loss: 3.4868 - accuracy: 0.19 - ETA: 0s - loss: 3.4844 - accuracy: 0.19 - 9s 7ms/step - loss: 3.4824 - accuracy: 0.1933 - val_loss: 2.9517 - val_accuracy: 0.2949\n"
     ]
    },
    {
     "data": {
      "text/html": [
       "<span style=\"color:#4527A0\"><h1 style=\"font-size:18px\">Trial complete</h1></span>"
      ],
      "text/plain": [
       "<IPython.core.display.HTML object>"
      ]
     },
     "metadata": {},
     "output_type": "display_data"
    },
    {
     "data": {
      "text/html": [
       "<span style=\"color:#4527A0\"><h1 style=\"font-size:18px\">Trial summary</h1></span>"
      ],
      "text/plain": [
       "<IPython.core.display.HTML object>"
      ]
     },
     "metadata": {},
     "output_type": "display_data"
    },
    {
     "data": {
      "text/html": [
       "<span style=\"color:cyan\"> |-Trial ID: 8da50cd6c7f159cf8e171a5668dad331</span>"
      ],
      "text/plain": [
       "<IPython.core.display.HTML object>"
      ]
     },
     "metadata": {},
     "output_type": "display_data"
    },
    {
     "data": {
      "text/html": [
       "<span style=\"color:cyan\"> |-Score: 2.9517128825568544</span>"
      ],
      "text/plain": [
       "<IPython.core.display.HTML object>"
      ]
     },
     "metadata": {},
     "output_type": "display_data"
    },
    {
     "data": {
      "text/html": [
       "<span style=\"color:cyan\"> |-Best step: 0</span>"
      ],
      "text/plain": [
       "<IPython.core.display.HTML object>"
      ]
     },
     "metadata": {},
     "output_type": "display_data"
    },
    {
     "data": {
      "text/html": [
       "<span style=\"color:#7E57C2\"><h2 style=\"font-size:16px\">Hyperparameters:</h2></span>"
      ],
      "text/plain": [
       "<IPython.core.display.HTML object>"
      ]
     },
     "metadata": {},
     "output_type": "display_data"
    },
    {
     "data": {
      "text/html": [
       "<span style=\"color:cyan\"> |-classification_head_1/dropout_rate: 0.5</span>"
      ],
      "text/plain": [
       "<IPython.core.display.HTML object>"
      ]
     },
     "metadata": {},
     "output_type": "display_data"
    },
    {
     "data": {
      "text/html": [
       "<span style=\"color:blue\"> |-classification_head_1/spatial_reduction_1/reduction_type: flatten</span>"
      ],
      "text/plain": [
       "<IPython.core.display.HTML object>"
      ]
     },
     "metadata": {},
     "output_type": "display_data"
    },
    {
     "data": {
      "text/html": [
       "<span style=\"color:cyan\"> |-classification_head_2/dropout_rate: 0</span>"
      ],
      "text/plain": [
       "<IPython.core.display.HTML object>"
      ]
     },
     "metadata": {},
     "output_type": "display_data"
    },
    {
     "data": {
      "text/html": [
       "<span style=\"color:blue\"> |-classification_head_2/spatial_reduction_1/reduction_type: global_avg</span>"
      ],
      "text/plain": [
       "<IPython.core.display.HTML object>"
      ]
     },
     "metadata": {},
     "output_type": "display_data"
    },
    {
     "data": {
      "text/html": [
       "<span style=\"color:cyan\"> |-dense_block_1/dropout_rate: 0</span>"
      ],
      "text/plain": [
       "<IPython.core.display.HTML object>"
      ]
     },
     "metadata": {},
     "output_type": "display_data"
    },
    {
     "data": {
      "text/html": [
       "<span style=\"color:blue\"> |-dense_block_1/num_layers: 1</span>"
      ],
      "text/plain": [
       "<IPython.core.display.HTML object>"
      ]
     },
     "metadata": {},
     "output_type": "display_data"
    },
    {
     "data": {
      "text/html": [
       "<span style=\"color:cyan\"> |-dense_block_1/units_0: 128</span>"
      ],
      "text/plain": [
       "<IPython.core.display.HTML object>"
      ]
     },
     "metadata": {},
     "output_type": "display_data"
    },
    {
     "data": {
      "text/html": [
       "<span style=\"color:blue\"> |-dense_block_1/use_batchnorm: False</span>"
      ],
      "text/plain": [
       "<IPython.core.display.HTML object>"
      ]
     },
     "metadata": {},
     "output_type": "display_data"
    },
    {
     "data": {
      "text/html": [
       "<span style=\"color:cyan\"> |-image_block_1/augment: False</span>"
      ],
      "text/plain": [
       "<IPython.core.display.HTML object>"
      ]
     },
     "metadata": {},
     "output_type": "display_data"
    },
    {
     "data": {
      "text/html": [
       "<span style=\"color:blue\"> |-image_block_1/block_type: vanilla</span>"
      ],
      "text/plain": [
       "<IPython.core.display.HTML object>"
      ]
     },
     "metadata": {},
     "output_type": "display_data"
    },
    {
     "data": {
      "text/html": [
       "<span style=\"color:cyan\"> |-image_block_1/conv_block_1/dropout_rate: 0.25</span>"
      ],
      "text/plain": [
       "<IPython.core.display.HTML object>"
      ]
     },
     "metadata": {},
     "output_type": "display_data"
    },
    {
     "data": {
      "text/html": [
       "<span style=\"color:blue\"> |-image_block_1/conv_block_1/filters_0_0: 32</span>"
      ],
      "text/plain": [
       "<IPython.core.display.HTML object>"
      ]
     },
     "metadata": {},
     "output_type": "display_data"
    },
    {
     "data": {
      "text/html": [
       "<span style=\"color:cyan\"> |-image_block_1/conv_block_1/filters_0_1: 64</span>"
      ],
      "text/plain": [
       "<IPython.core.display.HTML object>"
      ]
     },
     "metadata": {},
     "output_type": "display_data"
    },
    {
     "data": {
      "text/html": [
       "<span style=\"color:blue\"> |-image_block_1/conv_block_1/kernel_size: 3</span>"
      ],
      "text/plain": [
       "<IPython.core.display.HTML object>"
      ]
     },
     "metadata": {},
     "output_type": "display_data"
    },
    {
     "data": {
      "text/html": [
       "<span style=\"color:cyan\"> |-image_block_1/conv_block_1/max_pooling: True</span>"
      ],
      "text/plain": [
       "<IPython.core.display.HTML object>"
      ]
     },
     "metadata": {},
     "output_type": "display_data"
    },
    {
     "data": {
      "text/html": [
       "<span style=\"color:blue\"> |-image_block_1/conv_block_1/num_blocks: 1</span>"
      ],
      "text/plain": [
       "<IPython.core.display.HTML object>"
      ]
     },
     "metadata": {},
     "output_type": "display_data"
    },
    {
     "data": {
      "text/html": [
       "<span style=\"color:cyan\"> |-image_block_1/conv_block_1/num_layers: 2</span>"
      ],
      "text/plain": [
       "<IPython.core.display.HTML object>"
      ]
     },
     "metadata": {},
     "output_type": "display_data"
    },
    {
     "data": {
      "text/html": [
       "<span style=\"color:blue\"> |-image_block_1/conv_block_1/separable: False</span>"
      ],
      "text/plain": [
       "<IPython.core.display.HTML object>"
      ]
     },
     "metadata": {},
     "output_type": "display_data"
    },
    {
     "data": {
      "text/html": [
       "<span style=\"color:cyan\"> |-image_block_1/normalize: True</span>"
      ],
      "text/plain": [
       "<IPython.core.display.HTML object>"
      ]
     },
     "metadata": {},
     "output_type": "display_data"
    },
    {
     "data": {
      "text/html": [
       "<span style=\"color:blue\"> |-image_block_2/augment: False</span>"
      ],
      "text/plain": [
       "<IPython.core.display.HTML object>"
      ]
     },
     "metadata": {},
     "output_type": "display_data"
    },
    {
     "data": {
      "text/html": [
       "<span style=\"color:cyan\"> |-image_block_2/block_type: vanilla</span>"
      ],
      "text/plain": [
       "<IPython.core.display.HTML object>"
      ]
     },
     "metadata": {},
     "output_type": "display_data"
    },
    {
     "data": {
      "text/html": [
       "<span style=\"color:blue\"> |-image_block_2/conv_block_1/dropout_rate: 0</span>"
      ],
      "text/plain": [
       "<IPython.core.display.HTML object>"
      ]
     },
     "metadata": {},
     "output_type": "display_data"
    },
    {
     "data": {
      "text/html": [
       "<span style=\"color:cyan\"> |-image_block_2/conv_block_1/filters_0_0: 32</span>"
      ],
      "text/plain": [
       "<IPython.core.display.HTML object>"
      ]
     },
     "metadata": {},
     "output_type": "display_data"
    },
    {
     "data": {
      "text/html": [
       "<span style=\"color:blue\"> |-image_block_2/conv_block_1/filters_0_1: 32</span>"
      ],
      "text/plain": [
       "<IPython.core.display.HTML object>"
      ]
     },
     "metadata": {},
     "output_type": "display_data"
    },
    {
     "data": {
      "text/html": [
       "<span style=\"color:cyan\"> |-image_block_2/conv_block_1/filters_1_0: 32</span>"
      ],
      "text/plain": [
       "<IPython.core.display.HTML object>"
      ]
     },
     "metadata": {},
     "output_type": "display_data"
    },
    {
     "data": {
      "text/html": [
       "<span style=\"color:blue\"> |-image_block_2/conv_block_1/filters_1_1: 32</span>"
      ],
      "text/plain": [
       "<IPython.core.display.HTML object>"
      ]
     },
     "metadata": {},
     "output_type": "display_data"
    },
    {
     "data": {
      "text/html": [
       "<span style=\"color:cyan\"> |-image_block_2/conv_block_1/kernel_size: 3</span>"
      ],
      "text/plain": [
       "<IPython.core.display.HTML object>"
      ]
     },
     "metadata": {},
     "output_type": "display_data"
    },
    {
     "data": {
      "text/html": [
       "<span style=\"color:blue\"> |-image_block_2/conv_block_1/max_pooling: True</span>"
      ],
      "text/plain": [
       "<IPython.core.display.HTML object>"
      ]
     },
     "metadata": {},
     "output_type": "display_data"
    },
    {
     "data": {
      "text/html": [
       "<span style=\"color:cyan\"> |-image_block_2/conv_block_1/num_blocks: 2</span>"
      ],
      "text/plain": [
       "<IPython.core.display.HTML object>"
      ]
     },
     "metadata": {},
     "output_type": "display_data"
    },
    {
     "data": {
      "text/html": [
       "<span style=\"color:blue\"> |-image_block_2/conv_block_1/num_layers: 2</span>"
      ],
      "text/plain": [
       "<IPython.core.display.HTML object>"
      ]
     },
     "metadata": {},
     "output_type": "display_data"
    },
    {
     "data": {
      "text/html": [
       "<span style=\"color:cyan\"> |-image_block_2/conv_block_1/separable: False</span>"
      ],
      "text/plain": [
       "<IPython.core.display.HTML object>"
      ]
     },
     "metadata": {},
     "output_type": "display_data"
    },
    {
     "data": {
      "text/html": [
       "<span style=\"color:blue\"> |-image_block_2/normalize: False</span>"
      ],
      "text/plain": [
       "<IPython.core.display.HTML object>"
      ]
     },
     "metadata": {},
     "output_type": "display_data"
    },
    {
     "data": {
      "text/html": [
       "<span style=\"color:cyan\"> |-optimizer: adam</span>"
      ],
      "text/plain": [
       "<IPython.core.display.HTML object>"
      ]
     },
     "metadata": {},
     "output_type": "display_data"
    },
    {
     "name": "stdout",
     "output_type": "stream",
     "text": [
      "INFO:tensorflow:Oracle triggered exit\n",
      "Train for 1563 steps, validate for 313 steps\n",
      "1563/1563 [==============================] - ETA: 34:12 - loss: 4.5870 - accuracy: 0.031 - ETA: 3:31 - loss: 4.8012 - accuracy: 0.025 - ETA: 1:49 - loss: 4.6762 - accuracy: 0.01 - ETA: 1:15 - loss: 4.6191 - accuracy: 0.01 - ETA: 59s - loss: 4.5810 - accuracy: 0.0248 - ETA: 48s - loss: 4.5495 - accuracy: 0.031 - ETA: 41s - loss: 4.5288 - accuracy: 0.034 - ETA: 36s - loss: 4.4964 - accuracy: 0.040 - ETA: 33s - loss: 4.4550 - accuracy: 0.045 - ETA: 30s - loss: 4.4283 - accuracy: 0.051 - ETA: 27s - loss: 4.4022 - accuracy: 0.052 - ETA: 25s - loss: 4.3753 - accuracy: 0.055 - ETA: 24s - loss: 4.3616 - accuracy: 0.054 - ETA: 22s - loss: 4.3416 - accuracy: 0.057 - ETA: 21s - loss: 4.3214 - accuracy: 0.060 - ETA: 20s - loss: 4.3022 - accuracy: 0.061 - ETA: 19s - loss: 4.2798 - accuracy: 0.064 - ETA: 19s - loss: 4.2614 - accuracy: 0.066 - ETA: 18s - loss: 4.2412 - accuracy: 0.069 - ETA: 17s - loss: 4.2262 - accuracy: 0.070 - ETA: 16s - loss: 4.2040 - accuracy: 0.075 - ETA: 16s - loss: 4.1854 - accuracy: 0.079 - ETA: 15s - loss: 4.1716 - accuracy: 0.082 - ETA: 15s - loss: 4.1536 - accuracy: 0.084 - ETA: 14s - loss: 4.1358 - accuracy: 0.087 - ETA: 14s - loss: 4.1220 - accuracy: 0.090 - ETA: 13s - loss: 4.1086 - accuracy: 0.092 - ETA: 13s - loss: 4.0950 - accuracy: 0.094 - ETA: 13s - loss: 4.0825 - accuracy: 0.095 - ETA: 12s - loss: 4.0713 - accuracy: 0.097 - ETA: 12s - loss: 4.0575 - accuracy: 0.099 - ETA: 12s - loss: 4.0443 - accuracy: 0.101 - ETA: 12s - loss: 4.0333 - accuracy: 0.102 - ETA: 11s - loss: 4.0193 - accuracy: 0.104 - ETA: 11s - loss: 4.0049 - accuracy: 0.105 - ETA: 11s - loss: 3.9980 - accuracy: 0.107 - ETA: 10s - loss: 3.9879 - accuracy: 0.109 - ETA: 10s - loss: 3.9756 - accuracy: 0.111 - ETA: 10s - loss: 3.9645 - accuracy: 0.112 - ETA: 10s - loss: 3.9556 - accuracy: 0.114 - ETA: 9s - loss: 3.9434 - accuracy: 0.116 - ETA: 9s - loss: 3.9366 - accuracy: 0.11 - ETA: 9s - loss: 3.9313 - accuracy: 0.11 - ETA: 9s - loss: 3.9225 - accuracy: 0.12 - ETA: 9s - loss: 3.9150 - accuracy: 0.12 - ETA: 9s - loss: 3.9060 - accuracy: 0.12 - ETA: 8s - loss: 3.9007 - accuracy: 0.12 - ETA: 8s - loss: 3.8936 - accuracy: 0.12 - ETA: 8s - loss: 3.8867 - accuracy: 0.12 - ETA: 8s - loss: 3.8808 - accuracy: 0.12 - ETA: 8s - loss: 3.8739 - accuracy: 0.12 - ETA: 8s - loss: 3.8696 - accuracy: 0.12 - ETA: 8s - loss: 3.8614 - accuracy: 0.12 - ETA: 7s - loss: 3.8534 - accuracy: 0.13 - ETA: 7s - loss: 3.8459 - accuracy: 0.13 - ETA: 7s - loss: 3.8353 - accuracy: 0.13 - ETA: 7s - loss: 3.8276 - accuracy: 0.13 - ETA: 7s - loss: 3.8215 - accuracy: 0.13 - ETA: 7s - loss: 3.8161 - accuracy: 0.13 - ETA: 7s - loss: 3.8090 - accuracy: 0.13 - ETA: 7s - loss: 3.8029 - accuracy: 0.13 - ETA: 6s - loss: 3.7978 - accuracy: 0.13 - ETA: 6s - loss: 3.7928 - accuracy: 0.14 - ETA: 6s - loss: 3.7847 - accuracy: 0.14 - ETA: 6s - loss: 3.7794 - accuracy: 0.14 - ETA: 6s - loss: 3.7700 - accuracy: 0.14 - ETA: 6s - loss: 3.7631 - accuracy: 0.14 - ETA: 6s - loss: 3.7565 - accuracy: 0.14 - ETA: 6s - loss: 3.7522 - accuracy: 0.14 - ETA: 6s - loss: 3.7483 - accuracy: 0.14 - ETA: 6s - loss: 3.7432 - accuracy: 0.14 - ETA: 6s - loss: 3.7392 - accuracy: 0.14 - ETA: 5s - loss: 3.7347 - accuracy: 0.15 - ETA: 5s - loss: 3.7299 - accuracy: 0.15 - ETA: 5s - loss: 3.7269 - accuracy: 0.15 - ETA: 5s - loss: 3.7233 - accuracy: 0.15 - ETA: 5s - loss: 3.7200 - accuracy: 0.15 - ETA: 5s - loss: 3.7170 - accuracy: 0.15 - ETA: 5s - loss: 3.7129 - accuracy: 0.15 - ETA: 5s - loss: 3.7071 - accuracy: 0.15 - ETA: 5s - loss: 3.7014 - accuracy: 0.15 - ETA: 5s - loss: 3.6960 - accuracy: 0.15 - ETA: 5s - loss: 3.6910 - accuracy: 0.15 - ETA: 5s - loss: 3.6859 - accuracy: 0.15 - ETA: 5s - loss: 3.6798 - accuracy: 0.16 - ETA: 4s - loss: 3.6739 - accuracy: 0.16 - ETA: 4s - loss: 3.6679 - accuracy: 0.16 - ETA: 4s - loss: 3.6635 - accuracy: 0.16 - ETA: 4s - loss: 3.6576 - accuracy: 0.16 - ETA: 4s - loss: 3.6507 - accuracy: 0.16 - ETA: 4s - loss: 3.6459 - accuracy: 0.16 - ETA: 4s - loss: 3.6425 - accuracy: 0.16 - ETA: 4s - loss: 3.6393 - accuracy: 0.16 - ETA: 4s - loss: 3.6343 - accuracy: 0.16 - ETA: 4s - loss: 3.6294 - accuracy: 0.16 - ETA: 4s - loss: 3.6250 - accuracy: 0.16 - ETA: 4s - loss: 3.6218 - accuracy: 0.17 - ETA: 4s - loss: 3.6166 - accuracy: 0.17 - ETA: 3s - loss: 3.6131 - accuracy: 0.17 - ETA: 3s - loss: 3.6087 - accuracy: 0.17 - ETA: 3s - loss: 3.6027 - accuracy: 0.17 - ETA: 3s - loss: 3.5991 - accuracy: 0.17 - ETA: 3s - loss: 3.5947 - accuracy: 0.17 - ETA: 3s - loss: 3.5921 - accuracy: 0.17 - ETA: 3s - loss: 3.5882 - accuracy: 0.17 - ETA: 3s - loss: 3.5859 - accuracy: 0.17 - ETA: 3s - loss: 3.5819 - accuracy: 0.17 - ETA: 3s - loss: 3.5792 - accuracy: 0.17 - ETA: 3s - loss: 3.5767 - accuracy: 0.17 - ETA: 3s - loss: 3.5719 - accuracy: 0.18 - ETA: 3s - loss: 3.5674 - accuracy: 0.18 - ETA: 3s - loss: 3.5644 - accuracy: 0.18 - ETA: 3s - loss: 3.5624 - accuracy: 0.18 - ETA: 2s - loss: 3.5586 - accuracy: 0.18 - ETA: 2s - loss: 3.5552 - accuracy: 0.18 - ETA: 2s - loss: 3.5506 - accuracy: 0.18 - ETA: 2s - loss: 3.5471 - accuracy: 0.18 - ETA: 2s - loss: 3.5434 - accuracy: 0.18 - ETA: 2s - loss: 3.5396 - accuracy: 0.18 - ETA: 2s - loss: 3.5358 - accuracy: 0.18 - ETA: 2s - loss: 3.5318 - accuracy: 0.18 - ETA: 2s - loss: 3.5286 - accuracy: 0.18 - ETA: 2s - loss: 3.5253 - accuracy: 0.18 - ETA: 2s - loss: 3.5235 - accuracy: 0.18 - ETA: 2s - loss: 3.5195 - accuracy: 0.18 - ETA: 2s - loss: 3.5177 - accuracy: 0.18 - ETA: 2s - loss: 3.5158 - accuracy: 0.18 - ETA: 2s - loss: 3.5130 - accuracy: 0.19 - ETA: 2s - loss: 3.5113 - accuracy: 0.19 - ETA: 1s - loss: 3.5083 - accuracy: 0.19 - ETA: 1s - loss: 3.5057 - accuracy: 0.19 - ETA: 1s - loss: 3.5023 - accuracy: 0.19 - ETA: 1s - loss: 3.4990 - accuracy: 0.19 - ETA: 1s - loss: 3.4958 - accuracy: 0.19 - ETA: 1s - loss: 3.4926 - accuracy: 0.19 - ETA: 1s - loss: 3.4894 - accuracy: 0.19 - ETA: 1s - loss: 3.4866 - accuracy: 0.19 - ETA: 1s - loss: 3.4840 - accuracy: 0.19 - ETA: 1s - loss: 3.4803 - accuracy: 0.19 - ETA: 1s - loss: 3.4781 - accuracy: 0.19 - ETA: 1s - loss: 3.4757 - accuracy: 0.19 - ETA: 1s - loss: 3.4725 - accuracy: 0.19 - ETA: 1s - loss: 3.4690 - accuracy: 0.19 - ETA: 0s - loss: 3.4655 - accuracy: 0.19 - ETA: 0s - loss: 3.4631 - accuracy: 0.19 - ETA: 0s - loss: 3.4604 - accuracy: 0.19 - ETA: 0s - loss: 3.4583 - accuracy: 0.19 - ETA: 0s - loss: 3.4554 - accuracy: 0.20 - ETA: 0s - loss: 3.4528 - accuracy: 0.20 - ETA: 0s - loss: 3.4498 - accuracy: 0.20 - ETA: 0s - loss: 3.4477 - accuracy: 0.20 - ETA: 0s - loss: 3.4451 - accuracy: 0.20 - ETA: 0s - loss: 3.4421 - accuracy: 0.20 - ETA: 0s - loss: 3.4393 - accuracy: 0.20 - ETA: 0s - loss: 3.4367 - accuracy: 0.20 - ETA: 0s - loss: 3.4341 - accuracy: 0.20 - ETA: 0s - loss: 3.4322 - accuracy: 0.20 - ETA: 0s - loss: 3.4278 - accuracy: 0.20 - ETA: 0s - loss: 3.4251 - accuracy: 0.20 - 11s 7ms/step - loss: 3.4247 - accuracy: 0.2060 - val_loss: 2.4800 - val_accuracy: 0.4086\n",
      "INFO:tensorflow:Assets written to: C:/DEV/assets\n"
     ]
    }
   ],
   "source": [
    "import os\n",
    "from graphviz import Digraph\n",
    "# pip install graphviz\n",
    "from keras import *\n",
    "from autokeras.utils import *\n",
    "from keras.datasets import fashion_mnist\n",
    "\n",
    "\n",
    "clf = ak.ImageClassifier(max_trials=1)\n",
    "clf.fit(x_train, y_train, epochs=1)\n",
    "\n",
    "temp = \"C:/DEV/\"\n",
    "\n",
    "model = clf.export_model()\n",
    "tf.keras.models.save_model(model, temp)\n",
    "\n",
    "##load_model(path, custom_objects=ak.CUSTOM_OBJECTS)\n",
    "#clf.export_keras_model(MODEL_DIR)\n",
    "#clf.save('model.h', save_format='tf')\n",
    "#export_model(clf)\n",
    "#clf.export_autokeras_model('automodel.h5')\n",
    "\n",
    "\n",
    "#print(type(model))  # <class 'tensorflow.python.keras.engine.training.Model'>\n"
   ]
  },
  {
   "cell_type": "code",
   "execution_count": null,
   "metadata": {},
   "outputs": [],
   "source": []
  }
 ],
 "metadata": {
  "kernelspec": {
   "display_name": "Python 3",
   "language": "python",
   "name": "python3"
  },
  "language_info": {
   "codemirror_mode": {
    "name": "ipython",
    "version": 3
   },
   "file_extension": ".py",
   "mimetype": "text/x-python",
   "name": "python",
   "nbconvert_exporter": "python",
   "pygments_lexer": "ipython3",
   "version": "3.7.4"
  }
 },
 "nbformat": 4,
 "nbformat_minor": 2
}
